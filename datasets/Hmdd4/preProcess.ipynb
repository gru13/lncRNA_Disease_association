{
 "cells": [
  {
   "cell_type": "code",
   "execution_count": null,
   "metadata": {},
   "outputs": [],
   "source": [
    "import pandas as pd\n",
    "\n",
    "def clean_data(df):\n",
    "    # Filter rows based on column: 'ncRNA Category'\n",
    "    df = df[df['ncRNA Category'] == \"LncRNA\"]\n",
    "    # Filter rows based on column: 'Species'\n",
    "    df = df[df['Species'] == \"Homo sapiens\"]\n",
    "    # Drop column: 'ncRNA Category'\n",
    "    df = df.drop(columns=['ncRNA Category'])\n",
    "    # Drop column: 'Species'\n",
    "    df = df.drop(columns=['Species'])\n",
    "    # Drop column: 'Clinical Application'\n",
    "    df = df.drop(columns=['Clinical Application'])\n",
    "    # Drop column: 'Description'\n",
    "    df = df.drop(columns=['Description'])\n",
    "    # Drop column: 'Sample'\n",
    "    df = df.drop(columns=['Sample'])\n",
    "    # Drop column: 'Dysfunction Pattern'\n",
    "    df = df.drop(columns=['Dysfunction Pattern'])\n",
    "    # Drop column: 'Validated Method'\n",
    "    df = df.drop(columns=['Validated Method'])\n",
    "    # Drop column: 'Causal Description'\n",
    "    df = df.drop(columns=['Causal Description'])\n",
    "    # Drop column: 'Causality'\n",
    "    df = df.drop(columns=['Causality'])\n",
    "    return df\n",
    "\n",
    "# Loaded variable 'df' from URI: d:\\Sem4\\rch\\ibs\\final\\datasets\\lncrnaDiesease3\\Raw\\website_alldata.tsv\n",
    "df = pd.read_csv(r'.\\\\datasets\\\\lncrnaDiesease3\\\\Raw\\\\website_alldata.tsv', sep='\\t')\n",
    "\n",
    "df_clean = clean_data(df.copy())\n",
    "df_clean.head()"
   ]
  }
 ],
 "metadata": {
  "kernelspec": {
   "display_name": "Python 3",
   "language": "python",
   "name": "python3"
  },
  "language_info": {
   "name": "python",
   "version": "3.11.4"
  }
 },
 "nbformat": 4,
 "nbformat_minor": 2
}
