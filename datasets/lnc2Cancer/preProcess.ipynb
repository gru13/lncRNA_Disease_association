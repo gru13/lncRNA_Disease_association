{
 "cells": [
  {
   "cell_type": "code",
   "execution_count": null,
   "metadata": {},
   "outputs": [],
   "source": [
    "import pandas as pd\n",
    "\n",
    "def clean_data(df):\n",
    "    # Drop column: 'methods'\n",
    "    df = df.drop(columns=['methods'])\n",
    "    # Drop column: 'sample'\n",
    "    df = df.drop(columns=['sample'])\n",
    "    # Drop column: 'regulated'\n",
    "    df = df.drop(columns=['regulated'])\n",
    "    # Drop column: 'function description'\n",
    "    df = df.drop(columns=['function description'])\n",
    "    # Drop column: 'year'\n",
    "    df = df.drop(columns=['year'])\n",
    "    # Drop column: 'title'\n",
    "    df = df.drop(columns=['title'])\n",
    "    return df\n",
    "\n",
    "# Loaded variable 'df' from URI: .\\datasets\\lnc2Cancer\\Raw\\lnc2CAncer.xlsx\n",
    "df = pd.read_excel(r'.\\\\datasets\\\\lnc2Cancer\\\\Raw\\\\lnc2CAncer.xlsx')\n",
    "\n",
    "df_clean = clean_data(df.copy())\n",
    "df_clean.head()"
   ]
  }
 ],
 "metadata": {
  "kernelspec": {
   "display_name": "Python 3",
   "language": "python",
   "name": "python3"
  },
  "language_info": {
   "name": "python",
   "version": "3.11.4"
  }
 },
 "nbformat": 4,
 "nbformat_minor": 2
}
