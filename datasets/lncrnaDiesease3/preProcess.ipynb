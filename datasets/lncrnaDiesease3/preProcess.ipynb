{
 "cells": [
  {
   "cell_type": "code",
   "execution_count": null,
   "metadata": {},
   "outputs": [],
   "source": [
    "import pandas as pd\n",
    "\n",
    "def clean_data(df):\n",
    "    # Filter rows based on column: 'code'\n",
    "    df = df[df['code'] == \"lncRNA target\"]\n",
    "    # Drop column: 'code'\n",
    "    df = df.drop(columns=['code'])\n",
    "    # Drop column: 'description'\n",
    "    df = df.drop(columns=['description'])\n",
    "    return df\n",
    "\n",
    "# Loaded variable 'df' from URI: .\\datasets\\Hmdd4\\Raw\\alldata_v4.xlsx\n",
    "df = pd.read_excel(r'.\\\\final\\\\datasets\\\\Hmdd4\\\\Raw\\\\alldata_v4.xlsx')\n",
    "\n",
    "df_clean = clean_data(df.copy())\n",
    "df_clean.head()"
   ]
  }
 ],
 "metadata": {
  "kernelspec": {
   "display_name": "Python 3",
   "language": "python",
   "name": "python3"
  },
  "language_info": {
   "name": "python",
   "version": "3.11.4"
  }
 },
 "nbformat": 4,
 "nbformat_minor": 2
}
