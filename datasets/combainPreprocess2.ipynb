{
 "cells": [
  {
   "cell_type": "code",
   "execution_count": 27,
   "metadata": {},
   "outputs": [],
   "source": [
    "import pandas as pd\n",
    "import numpy as np\n",
    "import networkx as nx \n",
    "from numpy.linalg import norm"
   ]
  },
  {
   "cell_type": "code",
   "execution_count": 28,
   "metadata": {},
   "outputs": [],
   "source": [
    "# # from colab run this \n",
    "# !git clone https://github.com/gru13/lncRNA_Disease_association.git\n",
    "# df_lnc_die = pd.read_csv(r\"./lncRNA_Disease_association/datasets/lncrnaDiesease3/website_alldata_p1.csv\")\n",
    "# df_lnc_mir = pd.read_csv(r\"./lncRNA_Disease_association/datasets/LncRNASNP/Homo_sapiens_lncRNA_miRNA_interactions.csv\")\n",
    "# df_mir_die = pd.read_csv(r\"./lncRNA_Disease_association/datasets/rnaDisease/RNADisease_RNA-disease_miRNA_predict.csv\")"
   ]
  },
  {
   "cell_type": "code",
   "execution_count": 29,
   "metadata": {},
   "outputs": [],
   "source": [
    "# from local system\n",
    "\n",
    "df_lnc_die = pd.read_csv(r\"./lncrnaDiesease3/website_alldata_p1.csv\")\n",
    "df_lnc_mir = pd.read_csv(r\"./LncRNASNP/Homo_sapiens_lncRNA_miRNA_interactions.csv\")\n",
    "df_mir_die = pd.read_csv(r\"./rnaDisease/RNADisease_RNA-disease_miRNA_predict.csv\")\n"
   ]
  },
  {
   "cell_type": "code",
   "execution_count": 30,
   "metadata": {},
   "outputs": [
    {
     "data": {
      "text/plain": [
       "(        lncRNA                    Disease  PubMed ID\n",
       " 0  ARHGAP5-AS1  Carcinoma, Hepatocellular   36354136\n",
       " 1       HOTTIP               Osteosarcoma   33475442\n",
       " 2       HOTTIP                     Glioma   35402278\n",
       " 3       HOTTIP             Retinoblastoma   33784880\n",
       " 4       HOTTIP          stomach carcinoma   32633359,\n",
       "             lncRNA           miRNA\n",
       " 0  NONHSAT000002.2  hsa-miR-15a-5p\n",
       " 1  NONHSAT000002.2  hsa-miR-15a-3p\n",
       " 2  NONHSAT000002.2   hsa-miR-16-5p\n",
       " 3  NONHSAT000002.2   hsa-miR-21-3p\n",
       " 4  NONHSAT000002.2   hsa-miR-28-5p,\n",
       "           miRNA                    Disease\n",
       " 0  hsa-let-7a-1  Abdominal aortic aneurysm\n",
       " 1  hsa-let-7a-2  Abdominal aortic aneurysm\n",
       " 2  hsa-let-7a-3  Abdominal aortic aneurysm\n",
       " 3    hsa-let-7c  Abdominal aortic aneurysm\n",
       " 4    hsa-let-7d  Abdominal aortic aneurysm)"
      ]
     },
     "execution_count": 30,
     "metadata": {},
     "output_type": "execute_result"
    }
   ],
   "source": [
    "\n",
    "df_lnc_die.head(),df_lnc_mir.head(),df_mir_die.head()"
   ]
  },
  {
   "cell_type": "code",
   "execution_count": 31,
   "metadata": {},
   "outputs": [],
   "source": [
    "dataset1 = pd.merge(df_lnc_mir,df_lnc_die,on=['lncRNA'],how='inner')\n",
    "dataset2 = pd.merge(df_lnc_mir,df_mir_die,on=['miRNA'],how='inner')"
   ]
  },
  {
   "cell_type": "code",
   "execution_count": 32,
   "metadata": {},
   "outputs": [
    {
     "data": {
      "text/html": [
       "<div>\n",
       "<style scoped>\n",
       "    .dataframe tbody tr th:only-of-type {\n",
       "        vertical-align: middle;\n",
       "    }\n",
       "\n",
       "    .dataframe tbody tr th {\n",
       "        vertical-align: top;\n",
       "    }\n",
       "\n",
       "    .dataframe thead th {\n",
       "        text-align: right;\n",
       "    }\n",
       "</style>\n",
       "<table border=\"1\" class=\"dataframe\">\n",
       "  <thead>\n",
       "    <tr style=\"text-align: right;\">\n",
       "      <th></th>\n",
       "      <th>lncRNA</th>\n",
       "      <th>miRNA</th>\n",
       "      <th>Disease</th>\n",
       "      <th>PubMed ID</th>\n",
       "    </tr>\n",
       "  </thead>\n",
       "  <tbody>\n",
       "    <tr>\n",
       "      <th>0</th>\n",
       "      <td>NONHSAT000612.2</td>\n",
       "      <td>hsa-miR-570-3p</td>\n",
       "      <td>Osteoarthritis</td>\n",
       "      <td>34780784</td>\n",
       "    </tr>\n",
       "    <tr>\n",
       "      <th>1</th>\n",
       "      <td>NONHSAT000612.2</td>\n",
       "      <td>hsa-miR-651-3p</td>\n",
       "      <td>Osteoarthritis</td>\n",
       "      <td>34780784</td>\n",
       "    </tr>\n",
       "    <tr>\n",
       "      <th>2</th>\n",
       "      <td>NONHSAT000612.2</td>\n",
       "      <td>hsa-miR-449b-3p</td>\n",
       "      <td>Osteoarthritis</td>\n",
       "      <td>34780784</td>\n",
       "    </tr>\n",
       "    <tr>\n",
       "      <th>3</th>\n",
       "      <td>NONHSAT000612.2</td>\n",
       "      <td>hsa-miR-1468-3p</td>\n",
       "      <td>Osteoarthritis</td>\n",
       "      <td>34780784</td>\n",
       "    </tr>\n",
       "    <tr>\n",
       "      <th>4</th>\n",
       "      <td>NONHSAT000612.2</td>\n",
       "      <td>hsa-miR-874-5p</td>\n",
       "      <td>Osteoarthritis</td>\n",
       "      <td>34780784</td>\n",
       "    </tr>\n",
       "    <tr>\n",
       "      <th>...</th>\n",
       "      <td>...</td>\n",
       "      <td>...</td>\n",
       "      <td>...</td>\n",
       "      <td>...</td>\n",
       "    </tr>\n",
       "    <tr>\n",
       "      <th>590</th>\n",
       "      <td>NONHSAT015292.2</td>\n",
       "      <td>hsa-miR-9902</td>\n",
       "      <td>Osteoarthritis</td>\n",
       "      <td>34780784</td>\n",
       "    </tr>\n",
       "    <tr>\n",
       "      <th>591</th>\n",
       "      <td>NONHSAT015292.2</td>\n",
       "      <td>hsa-miR-10522-5p</td>\n",
       "      <td>Osteoarthritis</td>\n",
       "      <td>34780784</td>\n",
       "    </tr>\n",
       "    <tr>\n",
       "      <th>592</th>\n",
       "      <td>NONHSAT015292.2</td>\n",
       "      <td>hsa-miR-10526-3p</td>\n",
       "      <td>Osteoarthritis</td>\n",
       "      <td>34780784</td>\n",
       "    </tr>\n",
       "    <tr>\n",
       "      <th>593</th>\n",
       "      <td>NONHSAT015292.2</td>\n",
       "      <td>hsa-miR-9851-3p</td>\n",
       "      <td>Osteoarthritis</td>\n",
       "      <td>34780784</td>\n",
       "    </tr>\n",
       "    <tr>\n",
       "      <th>594</th>\n",
       "      <td>NONHSAT015292.2</td>\n",
       "      <td>hsa-miR-12118</td>\n",
       "      <td>Osteoarthritis</td>\n",
       "      <td>34780784</td>\n",
       "    </tr>\n",
       "  </tbody>\n",
       "</table>\n",
       "<p>595 rows × 4 columns</p>\n",
       "</div>"
      ],
      "text/plain": [
       "              lncRNA             miRNA         Disease  PubMed ID\n",
       "0    NONHSAT000612.2    hsa-miR-570-3p  Osteoarthritis   34780784\n",
       "1    NONHSAT000612.2    hsa-miR-651-3p  Osteoarthritis   34780784\n",
       "2    NONHSAT000612.2   hsa-miR-449b-3p  Osteoarthritis   34780784\n",
       "3    NONHSAT000612.2   hsa-miR-1468-3p  Osteoarthritis   34780784\n",
       "4    NONHSAT000612.2    hsa-miR-874-5p  Osteoarthritis   34780784\n",
       "..               ...               ...             ...        ...\n",
       "590  NONHSAT015292.2      hsa-miR-9902  Osteoarthritis   34780784\n",
       "591  NONHSAT015292.2  hsa-miR-10522-5p  Osteoarthritis   34780784\n",
       "592  NONHSAT015292.2  hsa-miR-10526-3p  Osteoarthritis   34780784\n",
       "593  NONHSAT015292.2   hsa-miR-9851-3p  Osteoarthritis   34780784\n",
       "594  NONHSAT015292.2     hsa-miR-12118  Osteoarthritis   34780784\n",
       "\n",
       "[595 rows x 4 columns]"
      ]
     },
     "execution_count": 32,
     "metadata": {},
     "output_type": "execute_result"
    }
   ],
   "source": [
    "dataset1"
   ]
  },
  {
   "cell_type": "code",
   "execution_count": 33,
   "metadata": {},
   "outputs": [
    {
     "data": {
      "text/html": [
       "<div>\n",
       "<style scoped>\n",
       "    .dataframe tbody tr th:only-of-type {\n",
       "        vertical-align: middle;\n",
       "    }\n",
       "\n",
       "    .dataframe tbody tr th {\n",
       "        vertical-align: top;\n",
       "    }\n",
       "\n",
       "    .dataframe thead th {\n",
       "        text-align: right;\n",
       "    }\n",
       "</style>\n",
       "<table border=\"1\" class=\"dataframe\">\n",
       "  <thead>\n",
       "    <tr style=\"text-align: right;\">\n",
       "      <th></th>\n",
       "      <th>lncRNA</th>\n",
       "      <th>miRNA</th>\n",
       "      <th>Disease</th>\n",
       "    </tr>\n",
       "  </thead>\n",
       "  <tbody>\n",
       "    <tr>\n",
       "      <th>0</th>\n",
       "      <td>NONHSAT000002.2</td>\n",
       "      <td>hsa-miR-15a-5p</td>\n",
       "      <td>Abortion habitual</td>\n",
       "    </tr>\n",
       "    <tr>\n",
       "      <th>1</th>\n",
       "      <td>NONHSAT000002.2</td>\n",
       "      <td>hsa-miR-15a-5p</td>\n",
       "      <td>Acoustic neuroma</td>\n",
       "    </tr>\n",
       "    <tr>\n",
       "      <th>2</th>\n",
       "      <td>NONHSAT000002.2</td>\n",
       "      <td>hsa-miR-15a-5p</td>\n",
       "      <td>Acquired immunodeficiency syndrome</td>\n",
       "    </tr>\n",
       "    <tr>\n",
       "      <th>3</th>\n",
       "      <td>NONHSAT000002.2</td>\n",
       "      <td>hsa-miR-15a-5p</td>\n",
       "      <td>Acute coronary syndrome</td>\n",
       "    </tr>\n",
       "    <tr>\n",
       "      <th>4</th>\n",
       "      <td>NONHSAT000002.2</td>\n",
       "      <td>hsa-miR-15a-5p</td>\n",
       "      <td>Acute kidney failure</td>\n",
       "    </tr>\n",
       "    <tr>\n",
       "      <th>...</th>\n",
       "      <td>...</td>\n",
       "      <td>...</td>\n",
       "      <td>...</td>\n",
       "    </tr>\n",
       "    <tr>\n",
       "      <th>9376652</th>\n",
       "      <td>NONHSAT017163.2</td>\n",
       "      <td>hsa-miR-523-3p</td>\n",
       "      <td>Intellectual disability</td>\n",
       "    </tr>\n",
       "    <tr>\n",
       "      <th>9376653</th>\n",
       "      <td>NONHSAT017163.2</td>\n",
       "      <td>hsa-miR-523-3p</td>\n",
       "      <td>Leukemia</td>\n",
       "    </tr>\n",
       "    <tr>\n",
       "      <th>9376654</th>\n",
       "      <td>NONHSAT017163.2</td>\n",
       "      <td>hsa-miR-523-3p</td>\n",
       "      <td>Neurodegenerative diseases</td>\n",
       "    </tr>\n",
       "    <tr>\n",
       "      <th>9376655</th>\n",
       "      <td>NONHSAT017163.2</td>\n",
       "      <td>hsa-miR-523-3p</td>\n",
       "      <td>Skin disease</td>\n",
       "    </tr>\n",
       "    <tr>\n",
       "      <th>9376656</th>\n",
       "      <td>NONHSAT017163.2</td>\n",
       "      <td>hsa-miR-523-3p</td>\n",
       "      <td>Vascular diseases</td>\n",
       "    </tr>\n",
       "  </tbody>\n",
       "</table>\n",
       "<p>9376657 rows × 3 columns</p>\n",
       "</div>"
      ],
      "text/plain": [
       "                  lncRNA           miRNA                             Disease\n",
       "0        NONHSAT000002.2  hsa-miR-15a-5p                   Abortion habitual\n",
       "1        NONHSAT000002.2  hsa-miR-15a-5p                    Acoustic neuroma\n",
       "2        NONHSAT000002.2  hsa-miR-15a-5p  Acquired immunodeficiency syndrome\n",
       "3        NONHSAT000002.2  hsa-miR-15a-5p             Acute coronary syndrome\n",
       "4        NONHSAT000002.2  hsa-miR-15a-5p                Acute kidney failure\n",
       "...                  ...             ...                                 ...\n",
       "9376652  NONHSAT017163.2  hsa-miR-523-3p             Intellectual disability\n",
       "9376653  NONHSAT017163.2  hsa-miR-523-3p                            Leukemia\n",
       "9376654  NONHSAT017163.2  hsa-miR-523-3p          Neurodegenerative diseases\n",
       "9376655  NONHSAT017163.2  hsa-miR-523-3p                        Skin disease\n",
       "9376656  NONHSAT017163.2  hsa-miR-523-3p                   Vascular diseases\n",
       "\n",
       "[9376657 rows x 3 columns]"
      ]
     },
     "execution_count": 33,
     "metadata": {},
     "output_type": "execute_result"
    }
   ],
   "source": [
    "dataset2"
   ]
  },
  {
   "cell_type": "code",
   "execution_count": 34,
   "metadata": {},
   "outputs": [
    {
     "data": {
      "text/html": [
       "<div>\n",
       "<style scoped>\n",
       "    .dataframe tbody tr th:only-of-type {\n",
       "        vertical-align: middle;\n",
       "    }\n",
       "\n",
       "    .dataframe tbody tr th {\n",
       "        vertical-align: top;\n",
       "    }\n",
       "\n",
       "    .dataframe thead th {\n",
       "        text-align: right;\n",
       "    }\n",
       "</style>\n",
       "<table border=\"1\" class=\"dataframe\">\n",
       "  <thead>\n",
       "    <tr style=\"text-align: right;\">\n",
       "      <th></th>\n",
       "      <th>lncRNA</th>\n",
       "      <th>miRNA</th>\n",
       "      <th>Disease</th>\n",
       "    </tr>\n",
       "  </thead>\n",
       "  <tbody>\n",
       "    <tr>\n",
       "      <th>0</th>\n",
       "      <td>NONHSAT000002.2</td>\n",
       "      <td>hsa-miR-15a-5p</td>\n",
       "      <td>Abortion habitual</td>\n",
       "    </tr>\n",
       "    <tr>\n",
       "      <th>1</th>\n",
       "      <td>NONHSAT000002.2</td>\n",
       "      <td>hsa-miR-15a-5p</td>\n",
       "      <td>Acoustic neuroma</td>\n",
       "    </tr>\n",
       "    <tr>\n",
       "      <th>2</th>\n",
       "      <td>NONHSAT000002.2</td>\n",
       "      <td>hsa-miR-15a-5p</td>\n",
       "      <td>Acquired immunodeficiency syndrome</td>\n",
       "    </tr>\n",
       "    <tr>\n",
       "      <th>3</th>\n",
       "      <td>NONHSAT000002.2</td>\n",
       "      <td>hsa-miR-15a-5p</td>\n",
       "      <td>Acute coronary syndrome</td>\n",
       "    </tr>\n",
       "    <tr>\n",
       "      <th>4</th>\n",
       "      <td>NONHSAT000002.2</td>\n",
       "      <td>hsa-miR-15a-5p</td>\n",
       "      <td>Acute kidney failure</td>\n",
       "    </tr>\n",
       "    <tr>\n",
       "      <th>...</th>\n",
       "      <td>...</td>\n",
       "      <td>...</td>\n",
       "      <td>...</td>\n",
       "    </tr>\n",
       "    <tr>\n",
       "      <th>9376652</th>\n",
       "      <td>NONHSAT017163.2</td>\n",
       "      <td>hsa-miR-523-3p</td>\n",
       "      <td>Intellectual disability</td>\n",
       "    </tr>\n",
       "    <tr>\n",
       "      <th>9376653</th>\n",
       "      <td>NONHSAT017163.2</td>\n",
       "      <td>hsa-miR-523-3p</td>\n",
       "      <td>Leukemia</td>\n",
       "    </tr>\n",
       "    <tr>\n",
       "      <th>9376654</th>\n",
       "      <td>NONHSAT017163.2</td>\n",
       "      <td>hsa-miR-523-3p</td>\n",
       "      <td>Neurodegenerative diseases</td>\n",
       "    </tr>\n",
       "    <tr>\n",
       "      <th>9376655</th>\n",
       "      <td>NONHSAT017163.2</td>\n",
       "      <td>hsa-miR-523-3p</td>\n",
       "      <td>Skin disease</td>\n",
       "    </tr>\n",
       "    <tr>\n",
       "      <th>9376656</th>\n",
       "      <td>NONHSAT017163.2</td>\n",
       "      <td>hsa-miR-523-3p</td>\n",
       "      <td>Vascular diseases</td>\n",
       "    </tr>\n",
       "  </tbody>\n",
       "</table>\n",
       "<p>9376657 rows × 3 columns</p>\n",
       "</div>"
      ],
      "text/plain": [
       "                  lncRNA           miRNA                             Disease\n",
       "0        NONHSAT000002.2  hsa-miR-15a-5p                   Abortion habitual\n",
       "1        NONHSAT000002.2  hsa-miR-15a-5p                    Acoustic neuroma\n",
       "2        NONHSAT000002.2  hsa-miR-15a-5p  Acquired immunodeficiency syndrome\n",
       "3        NONHSAT000002.2  hsa-miR-15a-5p             Acute coronary syndrome\n",
       "4        NONHSAT000002.2  hsa-miR-15a-5p                Acute kidney failure\n",
       "...                  ...             ...                                 ...\n",
       "9376652  NONHSAT017163.2  hsa-miR-523-3p             Intellectual disability\n",
       "9376653  NONHSAT017163.2  hsa-miR-523-3p                            Leukemia\n",
       "9376654  NONHSAT017163.2  hsa-miR-523-3p          Neurodegenerative diseases\n",
       "9376655  NONHSAT017163.2  hsa-miR-523-3p                        Skin disease\n",
       "9376656  NONHSAT017163.2  hsa-miR-523-3p                   Vascular diseases\n",
       "\n",
       "[9376657 rows x 3 columns]"
      ]
     },
     "execution_count": 34,
     "metadata": {},
     "output_type": "execute_result"
    }
   ],
   "source": [
    "df = dataset2.copy()\n",
    "df"
   ]
  },
  {
   "cell_type": "code",
   "execution_count": 35,
   "metadata": {},
   "outputs": [],
   "source": [
    "df = dataset2.copy()\n",
    "disease = df['Disease'].unique()\n",
    "lncRNA = df['lncRNA'].unique()\n",
    "miRNA = df['miRNA'].unique()"
   ]
  },
  {
   "cell_type": "code",
   "execution_count": 36,
   "metadata": {},
   "outputs": [
    {
     "data": {
      "text/plain": [
       "(7554, 239, 514)"
      ]
     },
     "execution_count": 36,
     "metadata": {},
     "output_type": "execute_result"
    }
   ],
   "source": [
    "# len(df['lncRNA'].unique()),len(df['miRNA'].unique()),len(df['Disease'].unique()),"
   ]
  },
  {
   "cell_type": "markdown",
   "metadata": {},
   "source": [
    "CReation of the graph that contains the totaly connected with miRNA, lncRNA, Disease"
   ]
  },
  {
   "cell_type": "code",
   "execution_count": 37,
   "metadata": {},
   "outputs": [],
   "source": [
    "LM_Graph = nx.Graph()\n",
    "MD_Graph = nx.Graph()\n",
    "LD_Graph = nx.Graph()\n",
    "\n",
    "LM_Graph.add_nodes_from(lncRNA)\n",
    "LM_Graph.add_nodes_from(miRNA)\n",
    "LD_Graph.add_nodes_from(lncRNA)\n",
    "LD_Graph.add_nodes_from(disease)\n",
    "MD_Graph.add_nodes_from(miRNA)\n",
    "MD_Graph.add_nodes_from(disease)"
   ]
  },
  {
   "cell_type": "code",
   "execution_count": 38,
   "metadata": {},
   "outputs": [],
   "source": [
    "for a in df.values:\n",
    "    LM_Graph.add_edge(a[0],a[1])\n",
    "    MD_Graph.add_edge(a[1],a[2])\n",
    "    LD_Graph.add_edge(a[0],a[2])"
   ]
  },
  {
   "cell_type": "markdown",
   "metadata": {},
   "source": [
    "CReation of the Lncrna-disease , Lncrna-miRNA, miRNA-Disease assoction matrix (LM,LD,MD)"
   ]
  },
  {
   "cell_type": "code",
   "execution_count": null,
   "metadata": {},
   "outputs": [],
   "source": [
    "LM_index = {a:b for (a,b) in zip(LM_Graph.nodes(),range(len(LM_Graph.nodes())))}\n",
    "MD_index = {a:b for (a,b) in zip(MD_Graph.nodes(),range(len(MD_Graph.nodes())))}\n",
    "LD_index = {a:b for (a,b) in zip(LD_Graph.nodes(),range(len(LD_Graph.nodes())))}"
   ]
  },
  {
   "cell_type": "code",
   "execution_count": null,
   "metadata": {},
   "outputs": [],
   "source": [
    "LM_M_A = nx.adjacency_matrix(LM_Graph).todense()\n",
    "MD_M_A = nx.adjacency_matrix(MD_Graph).todense()\n",
    "LD_M_A = nx.adjacency_matrix(LD_Graph).todense()"
   ]
  },
  {
   "cell_type": "code",
   "execution_count": null,
   "metadata": {},
   "outputs": [],
   "source": [
    "LM_M = np.zeros(shape=(len(lncRNA),len(miRNA)))\n",
    "MD_M = np.zeros(shape=(len(miRNA), len(disease)))\n",
    "LD_M = np.zeros(shape=(len(lncRNA), len(disease)))"
   ]
  },
  {
   "cell_type": "code",
   "execution_count": null,
   "metadata": {},
   "outputs": [
    {
     "ename": "KeyError",
     "evalue": "0",
     "output_type": "error",
     "traceback": [
      "\u001b[1;31m---------------------------------------------------------------------------\u001b[0m",
      "\u001b[1;31mKeyError\u001b[0m                                  Traceback (most recent call last)",
      "Cell \u001b[1;32mIn[26], line 3\u001b[0m\n\u001b[0;32m      1\u001b[0m \u001b[38;5;28;01mfor\u001b[39;00m a \u001b[38;5;129;01min\u001b[39;00m \u001b[38;5;28mrange\u001b[39m(\u001b[38;5;28mlen\u001b[39m(lncRNA)):\n\u001b[0;32m      2\u001b[0m     \u001b[38;5;28;01mfor\u001b[39;00m b \u001b[38;5;129;01min\u001b[39;00m \u001b[38;5;28mrange\u001b[39m(\u001b[38;5;28mlen\u001b[39m(miRNA)):\n\u001b[1;32m----> 3\u001b[0m         LM_M[a][b] \u001b[38;5;241m=\u001b[39m LM_M_A[\u001b[43mLM_index\u001b[49m\u001b[43m[\u001b[49m\u001b[43ma\u001b[49m\u001b[43m]\u001b[49m][LM_index[b]]\n\u001b[0;32m      4\u001b[0m LM_M\n",
      "\u001b[1;31mKeyError\u001b[0m: 0"
     ]
    }
   ],
   "source": [
    "for a in range(len(lncRNA)):\n",
    "    for b in range(len(miRNA)):\n",
    "        LM_M[a][b] = LM_M_A[LM_index[a]][LM_index[b]]\n",
    "LM_M"
   ]
  }
 ],
 "metadata": {
  "kernelspec": {
   "display_name": "Python 3",
   "language": "python",
   "name": "python3"
  },
  "language_info": {
   "codemirror_mode": {
    "name": "ipython",
    "version": 3
   },
   "file_extension": ".py",
   "mimetype": "text/x-python",
   "name": "python",
   "nbconvert_exporter": "python",
   "pygments_lexer": "ipython3",
   "version": "3.11.4"
  }
 },
 "nbformat": 4,
 "nbformat_minor": 2
}
