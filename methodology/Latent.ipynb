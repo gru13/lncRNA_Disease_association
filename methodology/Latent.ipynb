{
 "cells": [
  {
   "cell_type": "code",
   "execution_count": 1,
   "metadata": {},
   "outputs": [],
   "source": [
    "import pandas as pd\n",
    "import numpy as np\n",
    "import networkx as nx \n",
    "from sklearn.metrics import mean_squared_error \n",
    "from numpy.linalg import norm"
   ]
  },
  {
   "cell_type": "code",
   "execution_count": 2,
   "metadata": {},
   "outputs": [],
   "source": [
    "# # from colab run this \n",
    "# !git clone https://github.com/gru13/lncRNA_Disease_association.git\n",
    "# df_lnc_die = pd.read_csv(r\"./lncRNA_Disease_association/datasets/lncrnaDiesease3/website_alldata_p1.csv\")\n",
    "# df_lnc_mir = pd.read_csv(r\"./lncRNA_Disease_association/datasets/LncRNASNP/Homo_sapiens_lncRNA_miRNA_interactions.csv\")\n",
    "# df_mir_die = pd.read_csv(r\"./lncRNA_Disease_association/datasets/rnaDisease/RNADisease_RNA-disease_miRNA_predict.csv\")"
   ]
  },
  {
   "cell_type": "code",
   "execution_count": 3,
   "metadata": {},
   "outputs": [],
   "source": [
    "# from local system\n",
    "\n",
    "df_lnc_die = pd.read_csv(r\"./../datasets/lncrnaDiesease3/website_alldata_p1.csv\")\n",
    "df_lnc_mir = pd.read_csv(r\"./../datasets/LncRNASNP/Homo_sapiens_lncRNA_miRNA_interactions.csv\")\n",
    "df_mir_die = pd.read_csv(r\"./../datasets/rnaDisease/RNADisease_RNA-disease_miRNA_predict.csv\")\n"
   ]
  },
  {
   "cell_type": "code",
   "execution_count": 4,
   "metadata": {},
   "outputs": [
    {
     "data": {
      "text/plain": [
       "(        lncRNA                    Disease  PubMed ID\n",
       " 0  ARHGAP5-AS1  Carcinoma, Hepatocellular   36354136\n",
       " 1       HOTTIP               Osteosarcoma   33475442\n",
       " 2       HOTTIP                     Glioma   35402278\n",
       " 3       HOTTIP             Retinoblastoma   33784880\n",
       " 4       HOTTIP          stomach carcinoma   32633359,\n",
       "             lncRNA           miRNA\n",
       " 0  NONHSAT000002.2  hsa-miR-15a-5p\n",
       " 1  NONHSAT000002.2  hsa-miR-15a-3p\n",
       " 2  NONHSAT000002.2   hsa-miR-16-5p\n",
       " 3  NONHSAT000002.2   hsa-miR-21-3p\n",
       " 4  NONHSAT000002.2   hsa-miR-28-5p,\n",
       "           miRNA                    Disease\n",
       " 0  hsa-let-7a-1  Abdominal aortic aneurysm\n",
       " 1  hsa-let-7a-2  Abdominal aortic aneurysm\n",
       " 2  hsa-let-7a-3  Abdominal aortic aneurysm\n",
       " 3    hsa-let-7c  Abdominal aortic aneurysm\n",
       " 4    hsa-let-7d  Abdominal aortic aneurysm)"
      ]
     },
     "execution_count": 4,
     "metadata": {},
     "output_type": "execute_result"
    }
   ],
   "source": [
    "\n",
    "df_lnc_die.head(),df_lnc_mir.head(),df_mir_die.head()"
   ]
  },
  {
   "cell_type": "code",
   "execution_count": 5,
   "metadata": {},
   "outputs": [],
   "source": [
    "dataset1 = pd.merge(df_lnc_mir,df_lnc_die,on=['lncRNA'],how='inner')\n",
    "dataset2 = pd.merge(df_lnc_mir,df_mir_die,on=['miRNA'],how='inner')"
   ]
  },
  {
   "cell_type": "code",
   "execution_count": 6,
   "metadata": {},
   "outputs": [],
   "source": [
    "# dataset1"
   ]
  },
  {
   "cell_type": "code",
   "execution_count": 7,
   "metadata": {},
   "outputs": [
    {
     "data": {
      "text/html": [
       "<div>\n",
       "<style scoped>\n",
       "    .dataframe tbody tr th:only-of-type {\n",
       "        vertical-align: middle;\n",
       "    }\n",
       "\n",
       "    .dataframe tbody tr th {\n",
       "        vertical-align: top;\n",
       "    }\n",
       "\n",
       "    .dataframe thead th {\n",
       "        text-align: right;\n",
       "    }\n",
       "</style>\n",
       "<table border=\"1\" class=\"dataframe\">\n",
       "  <thead>\n",
       "    <tr style=\"text-align: right;\">\n",
       "      <th></th>\n",
       "      <th>lncRNA</th>\n",
       "      <th>miRNA</th>\n",
       "      <th>Disease</th>\n",
       "    </tr>\n",
       "  </thead>\n",
       "  <tbody>\n",
       "    <tr>\n",
       "      <th>0</th>\n",
       "      <td>NONHSAT000002.2</td>\n",
       "      <td>hsa-miR-15a-5p</td>\n",
       "      <td>Abortion habitual</td>\n",
       "    </tr>\n",
       "    <tr>\n",
       "      <th>1</th>\n",
       "      <td>NONHSAT000002.2</td>\n",
       "      <td>hsa-miR-15a-5p</td>\n",
       "      <td>Acoustic neuroma</td>\n",
       "    </tr>\n",
       "    <tr>\n",
       "      <th>2</th>\n",
       "      <td>NONHSAT000002.2</td>\n",
       "      <td>hsa-miR-15a-5p</td>\n",
       "      <td>Acquired immunodeficiency syndrome</td>\n",
       "    </tr>\n",
       "    <tr>\n",
       "      <th>3</th>\n",
       "      <td>NONHSAT000002.2</td>\n",
       "      <td>hsa-miR-15a-5p</td>\n",
       "      <td>Acute coronary syndrome</td>\n",
       "    </tr>\n",
       "    <tr>\n",
       "      <th>4</th>\n",
       "      <td>NONHSAT000002.2</td>\n",
       "      <td>hsa-miR-15a-5p</td>\n",
       "      <td>Acute kidney failure</td>\n",
       "    </tr>\n",
       "    <tr>\n",
       "      <th>...</th>\n",
       "      <td>...</td>\n",
       "      <td>...</td>\n",
       "      <td>...</td>\n",
       "    </tr>\n",
       "    <tr>\n",
       "      <th>9376652</th>\n",
       "      <td>NONHSAT017163.2</td>\n",
       "      <td>hsa-miR-523-3p</td>\n",
       "      <td>Intellectual disability</td>\n",
       "    </tr>\n",
       "    <tr>\n",
       "      <th>9376653</th>\n",
       "      <td>NONHSAT017163.2</td>\n",
       "      <td>hsa-miR-523-3p</td>\n",
       "      <td>Leukemia</td>\n",
       "    </tr>\n",
       "    <tr>\n",
       "      <th>9376654</th>\n",
       "      <td>NONHSAT017163.2</td>\n",
       "      <td>hsa-miR-523-3p</td>\n",
       "      <td>Neurodegenerative diseases</td>\n",
       "    </tr>\n",
       "    <tr>\n",
       "      <th>9376655</th>\n",
       "      <td>NONHSAT017163.2</td>\n",
       "      <td>hsa-miR-523-3p</td>\n",
       "      <td>Skin disease</td>\n",
       "    </tr>\n",
       "    <tr>\n",
       "      <th>9376656</th>\n",
       "      <td>NONHSAT017163.2</td>\n",
       "      <td>hsa-miR-523-3p</td>\n",
       "      <td>Vascular diseases</td>\n",
       "    </tr>\n",
       "  </tbody>\n",
       "</table>\n",
       "<p>9376657 rows × 3 columns</p>\n",
       "</div>"
      ],
      "text/plain": [
       "                  lncRNA           miRNA                             Disease\n",
       "0        NONHSAT000002.2  hsa-miR-15a-5p                   Abortion habitual\n",
       "1        NONHSAT000002.2  hsa-miR-15a-5p                    Acoustic neuroma\n",
       "2        NONHSAT000002.2  hsa-miR-15a-5p  Acquired immunodeficiency syndrome\n",
       "3        NONHSAT000002.2  hsa-miR-15a-5p             Acute coronary syndrome\n",
       "4        NONHSAT000002.2  hsa-miR-15a-5p                Acute kidney failure\n",
       "...                  ...             ...                                 ...\n",
       "9376652  NONHSAT017163.2  hsa-miR-523-3p             Intellectual disability\n",
       "9376653  NONHSAT017163.2  hsa-miR-523-3p                            Leukemia\n",
       "9376654  NONHSAT017163.2  hsa-miR-523-3p          Neurodegenerative diseases\n",
       "9376655  NONHSAT017163.2  hsa-miR-523-3p                        Skin disease\n",
       "9376656  NONHSAT017163.2  hsa-miR-523-3p                   Vascular diseases\n",
       "\n",
       "[9376657 rows x 3 columns]"
      ]
     },
     "execution_count": 7,
     "metadata": {},
     "output_type": "execute_result"
    }
   ],
   "source": [
    "dataset2"
   ]
  },
  {
   "cell_type": "code",
   "execution_count": 8,
   "metadata": {},
   "outputs": [],
   "source": [
    "df = dataset2.copy()\n",
    "# df"
   ]
  },
  {
   "cell_type": "code",
   "execution_count": 9,
   "metadata": {},
   "outputs": [],
   "source": [
    "df = dataset2.copy()"
   ]
  },
  {
   "cell_type": "code",
   "execution_count": 10,
   "metadata": {},
   "outputs": [],
   "source": [
    "# # only run this for first time \n",
    "# disease = df['Disease'].unique()\n",
    "# lncRNA = df['lncRNA'].unique()\n",
    "# miRNA = df['miRNA'].unique()\n",
    "\n",
    "# np.savetxt(\"./disease.txt\",disease,delimiter=',',fmt='%s')\n",
    "# np.savetxt(\"./lncRNA.txt\",lncRNA,delimiter=',',fmt='%s')\n",
    "# np.savetxt(\"./miRNA.txt\",miRNA,delimiter=',',fmt='%s')"
   ]
  },
  {
   "cell_type": "code",
   "execution_count": 11,
   "metadata": {},
   "outputs": [],
   "source": [
    "disease = [a[:-1] for a in open(\"./disease.txt\").readlines()]\n",
    "lncRNA = [a[:-1] for a in open(\"./lncRNA.txt\").readlines()]\n",
    "miRNA = [a[:-1] for a in open(\"./miRNA.txt\").readlines()]"
   ]
  },
  {
   "cell_type": "code",
   "execution_count": 12,
   "metadata": {},
   "outputs": [
    {
     "data": {
      "text/plain": [
       "(7554, 239, 514)"
      ]
     },
     "execution_count": 12,
     "metadata": {},
     "output_type": "execute_result"
    }
   ],
   "source": [
    "len(lncRNA),len(miRNA),len(disease)"
   ]
  },
  {
   "cell_type": "code",
   "execution_count": 13,
   "metadata": {},
   "outputs": [],
   "source": [
    "lncRNA_index = {a:b for (a,b) in zip(lncRNA,range(len(lncRNA)))}\n",
    "disease_index = {a:b for (a,b) in zip(disease,range(len(disease)))}\n",
    "miRNA_index = {a:b for (a,b) in zip(miRNA,range(len(miRNA)))}"
   ]
  },
  {
   "cell_type": "code",
   "execution_count": 14,
   "metadata": {},
   "outputs": [],
   "source": [
    "# len(df['lncRNA'].unique()),len(df['miRNA'].unique()),len(df['Disease'].unique()),"
   ]
  },
  {
   "cell_type": "markdown",
   "metadata": {},
   "source": [
    "CReation of the graph that contains the totaly connected with miRNA, lncRNA, Disease"
   ]
  },
  {
   "cell_type": "code",
   "execution_count": 15,
   "metadata": {},
   "outputs": [],
   "source": [
    "LM_Graph = nx.Graph()\n",
    "MD_Graph = nx.Graph()\n",
    "LD_Graph = nx.Graph()\n",
    "\n",
    "LM_Graph.add_nodes_from(lncRNA)\n",
    "LM_Graph.add_nodes_from(miRNA)\n",
    "\n",
    "LD_Graph.add_nodes_from(lncRNA)\n",
    "LD_Graph.add_nodes_from(disease)\n",
    "\n",
    "MD_Graph.add_nodes_from(miRNA)\n",
    "MD_Graph.add_nodes_from(disease)"
   ]
  },
  {
   "cell_type": "code",
   "execution_count": 16,
   "metadata": {},
   "outputs": [],
   "source": [
    "for a in df.values:\n",
    "    LM_Graph.add_edge(a[0],a[1])\n",
    "    MD_Graph.add_edge(a[1],a[2])\n",
    "    LD_Graph.add_edge(a[0],a[2])"
   ]
  },
  {
   "cell_type": "markdown",
   "metadata": {},
   "source": [
    "CReation of the Lncrna-disease , Lncrna-miRNA, miRNA-Disease assoction matrix (LM,LD,MD)"
   ]
  },
  {
   "cell_type": "code",
   "execution_count": 17,
   "metadata": {},
   "outputs": [],
   "source": [
    "LM_index = {a:b for (a,b) in zip(LM_Graph.nodes(),range(len(LM_Graph.nodes())))}\n",
    "MD_index = {a:b for (a,b) in zip(MD_Graph.nodes(),range(len(MD_Graph.nodes())))}\n",
    "LD_index = {a:b for (a,b) in zip(LD_Graph.nodes(),range(len(LD_Graph.nodes())))}"
   ]
  },
  {
   "cell_type": "code",
   "execution_count": 18,
   "metadata": {},
   "outputs": [],
   "source": [
    "LM_M_A = nx.adjacency_matrix(LM_Graph).todense()\n",
    "MD_M_A = nx.adjacency_matrix(MD_Graph).todense()\n",
    "LD_M_A = nx.adjacency_matrix(LD_Graph).todense()"
   ]
  },
  {
   "cell_type": "code",
   "execution_count": 19,
   "metadata": {},
   "outputs": [],
   "source": [
    "LM_M = np.zeros(shape=(len(lncRNA),len(miRNA)),dtype=int)\n",
    "MD_M = np.zeros(shape=(len(miRNA), len(disease)),dtype=int)\n",
    "LD_M = np.zeros(shape=(len(lncRNA), len(disease)),dtype=int)"
   ]
  },
  {
   "cell_type": "code",
   "execution_count": 20,
   "metadata": {},
   "outputs": [
    {
     "data": {
      "text/plain": [
       "array([[1, 1, 1, ..., 0, 0, 0],\n",
       "       [1, 1, 1, ..., 0, 0, 0],\n",
       "       [1, 1, 1, ..., 0, 0, 0],\n",
       "       ...,\n",
       "       [0, 0, 0, ..., 0, 0, 0],\n",
       "       [0, 0, 0, ..., 0, 0, 0],\n",
       "       [0, 0, 0, ..., 0, 0, 0]])"
      ]
     },
     "execution_count": 20,
     "metadata": {},
     "output_type": "execute_result"
    }
   ],
   "source": [
    "for a in range(len(lncRNA)):\n",
    "    for b in range(len(disease)):\n",
    "        LD_M[a][b] = LD_M_A[LD_index[lncRNA[a]]][LD_index[disease[b]]]\n",
    "LD_M"
   ]
  },
  {
   "cell_type": "code",
   "execution_count": 21,
   "metadata": {},
   "outputs": [
    {
     "data": {
      "text/plain": [
       "array([[1, 1, 1, ..., 0, 0, 0],\n",
       "       [1, 1, 1, ..., 0, 0, 0],\n",
       "       [1, 0, 1, ..., 0, 0, 0],\n",
       "       ...,\n",
       "       [0, 0, 0, ..., 0, 0, 0],\n",
       "       [0, 0, 0, ..., 0, 0, 0],\n",
       "       [0, 0, 0, ..., 0, 0, 0]])"
      ]
     },
     "execution_count": 21,
     "metadata": {},
     "output_type": "execute_result"
    }
   ],
   "source": [
    "for a in range(len(lncRNA)):\n",
    "    for b in range(len(miRNA)):\n",
    "        LM_M[a][b] = LM_M_A[LM_index[lncRNA[a]]][LM_index[miRNA[b]]]\n",
    "LM_M"
   ]
  },
  {
   "cell_type": "code",
   "execution_count": 22,
   "metadata": {},
   "outputs": [
    {
     "data": {
      "text/plain": [
       "array([[1, 1, 1, ..., 0, 0, 0],\n",
       "       [0, 0, 0, ..., 0, 0, 0],\n",
       "       [1, 1, 1, ..., 0, 0, 0],\n",
       "       ...,\n",
       "       [0, 0, 0, ..., 0, 0, 0],\n",
       "       [0, 0, 0, ..., 0, 0, 0],\n",
       "       [0, 0, 0, ..., 0, 0, 0]])"
      ]
     },
     "execution_count": 22,
     "metadata": {},
     "output_type": "execute_result"
    }
   ],
   "source": [
    "for a in range(len(miRNA)):\n",
    "    for b in range(len(disease)):\n",
    "        MD_M[a][b] = MD_M_A[MD_index[miRNA[a]]][MD_index[disease[b]]]\n",
    "MD_M"
   ]
  },
  {
   "cell_type": "code",
   "execution_count": 23,
   "metadata": {},
   "outputs": [
    {
     "data": {
      "text/plain": [
       "array([[5, 6, 6, ..., 0, 0, 0],\n",
       "       [3, 5, 5, ..., 0, 0, 0],\n",
       "       [7, 9, 7, ..., 0, 0, 0],\n",
       "       ...,\n",
       "       [0, 0, 0, ..., 0, 0, 0],\n",
       "       [0, 0, 0, ..., 0, 0, 0],\n",
       "       [0, 0, 0, ..., 0, 0, 0]])"
      ]
     },
     "execution_count": 23,
     "metadata": {},
     "output_type": "execute_result"
    }
   ],
   "source": [
    "LD = LM_M.dot(MD_M)\n",
    "LD"
   ]
  },
  {
   "cell_type": "code",
   "execution_count": 24,
   "metadata": {},
   "outputs": [],
   "source": [
    "# # run this if CD.csv is not found in the current folder(runs for seconds)\n",
    "# CD = np.zeros(shape=(len(disease),len(disease)))\n",
    "# for i in range(len(disease)):\n",
    "#     for j in range(len(disease)):\n",
    "#         CD[i][j] = (MD_M[:,i].dot(MD_M[:,j]))/(norm(MD_M[:,i])*norm(MD_M[:,j]))\n",
    "# np.save(\"CD\",CD)"
   ]
  },
  {
   "cell_type": "code",
   "execution_count": 25,
   "metadata": {},
   "outputs": [],
   "source": [
    "CD = np.load(\"CD.npy\")"
   ]
  },
  {
   "cell_type": "code",
   "execution_count": 26,
   "metadata": {},
   "outputs": [],
   "source": [
    "# # run this if CL.csv not found in the current folder(run for 8 min )\n",
    "# CL = np.zeros(shape=(len(lncRNA),len(lncRNA)))\n",
    "# for i in range(len(lncRNA)):\n",
    "#     for j in range(len(lncRNA)):\n",
    "#         CL[i][j] = (LM_M[i,:].dot(LM_M[j,:]))/(norm(LM_M[i,:])*norm(LM_M[j,:]))\n",
    "# np.save(\"CL\",CL)"
   ]
  },
  {
   "cell_type": "code",
   "execution_count": 27,
   "metadata": {},
   "outputs": [],
   "source": [
    "CL = np.load(\"CL.npy\")"
   ]
  },
  {
   "cell_type": "code",
   "execution_count": 28,
   "metadata": {},
   "outputs": [],
   "source": [
    "JD = np.zeros(shape=CD.shape)\n",
    "for i in range(MD_M.shape[-1]):\n",
    "    for j in range(MD_M.shape[-1]):\n",
    "        JD[i][j] =(np.bitwise_and(MD_M[:,i],MD_M[:,j]).sum())/(np.bitwise_or(MD_M[:,i],MD_M[:,j]).sum())\n",
    "        "
   ]
  },
  {
   "cell_type": "code",
   "execution_count": 29,
   "metadata": {},
   "outputs": [
    {
     "data": {
      "text/plain": [
       "array([[1.        , 0.28849315, 1.        , ..., 0.        , 0.        ,\n",
       "        0.        ],\n",
       "       [0.28849315, 1.        , 0.28849315, ..., 0.        , 0.        ,\n",
       "        0.        ],\n",
       "       [1.        , 0.28849315, 1.        , ..., 0.        , 0.        ,\n",
       "        0.        ],\n",
       "       ...,\n",
       "       [0.        , 0.        , 0.        , ..., 0.        , 0.        ,\n",
       "        0.        ],\n",
       "       [0.        , 0.        , 0.        , ..., 0.        , 0.        ,\n",
       "        0.        ],\n",
       "       [0.        , 0.        , 0.        , ..., 0.        , 0.        ,\n",
       "        0.        ]])"
      ]
     },
     "execution_count": 29,
     "metadata": {},
     "output_type": "execute_result"
    }
   ],
   "source": [
    "JL = np.zeros(shape=CL.shape)\n",
    "for i in range(LM_M.shape[-1]):\n",
    "    for j in range(LM_M.shape[-1]):\n",
    "        JL[i][j] =(np.bitwise_and(LM_M[:,i],LM_M[:,j]).sum())/(np.bitwise_or(LM_M[:,i],LM_M[:,j]).sum())\n",
    "JL      "
   ]
  },
  {
   "cell_type": "code",
   "execution_count": 30,
   "metadata": {},
   "outputs": [
    {
     "data": {
      "text/plain": [
       "array([[1.        , 0.73534833, 0.62628227, ..., 0.        , 0.        ,\n",
       "        0.        ],\n",
       "       [0.73534833, 1.        , 0.79003636, ..., 0.19620955, 0.19620955,\n",
       "        0.        ],\n",
       "       [0.62628227, 0.79003636, 1.        , ..., 0.        , 0.        ,\n",
       "        0.        ],\n",
       "       ...,\n",
       "       [0.        , 0.19620955, 0.        , ..., 1.        , 1.        ,\n",
       "        0.        ],\n",
       "       [0.        , 0.19620955, 0.        , ..., 1.        , 1.        ,\n",
       "        0.        ],\n",
       "       [0.        , 0.        , 0.        , ..., 0.        , 0.        ,\n",
       "        1.        ]])"
      ]
     },
     "execution_count": 30,
     "metadata": {},
     "output_type": "execute_result"
    }
   ],
   "source": [
    "IDS = np.zeros(shape=CD.shape)\n",
    "for i in range(IDS.shape[0]):\n",
    "    for j in range(IDS.shape[-1]):\n",
    "        if CD[i][j] == 0:\n",
    "            IDS[i][j] = JD[i][j]\n",
    "        else:\n",
    "            IDS[i][j] = (CD[i][j]+JD[i][j])/2\n",
    "IDS"
   ]
  },
  {
   "cell_type": "code",
   "execution_count": 31,
   "metadata": {},
   "outputs": [],
   "source": [
    "# ILS = np.zeros(shape=CL.shape)\n",
    "# for i in range(ILS.shape[0]):\n",
    "#     for j in range(ILS.shape[-1]):\n",
    "#         if CL[i][j] == 0:\n",
    "#             ILS[i][j] = JL[i][j]\n",
    "#         else:\n",
    "#             ILS[i][j] = (CL[i][j]+JL[i][j])/2\n",
    "# np.save(\"ILS\",ILS)\n",
    "# ILS"
   ]
  },
  {
   "cell_type": "code",
   "execution_count": 32,
   "metadata": {},
   "outputs": [],
   "source": [
    "ILS = np.load(\"ILS.npy\")"
   ]
  },
  {
   "cell_type": "markdown",
   "metadata": {},
   "source": [
    "Dormant Factor model"
   ]
  },
  {
   "cell_type": "code",
   "execution_count": 33,
   "metadata": {
    "notebookRunGroups": {
     "groupValue": "1"
    }
   },
   "outputs": [],
   "source": [
    "# # Run this only if u don't have phi.npy(this runs for 5-8 min)\n",
    "# def Dormant_factor_model(ALM, AMD, k, alpha=2*10**-6, lmbda=4*10**-5, max_iter=1000):\n",
    "#     \"\"\"\n",
    "#     Dormant factor model for calculating lncRNA-disease associations.\n",
    "\n",
    "#     Args:\n",
    "#         ALM (numpy.ndarray): Adjacency matrix of lncRNA-miRNA associations (m x n).\n",
    "#         AMD (numpy.ndarray): Adjacency matrix of miRNA-disease associations (n x e).\n",
    "#         k (int): Number of Dormant factors.\n",
    "#         alpha (float): Learning rate for gradient descent.\n",
    "#         lmbda (float): Regularization parameter.\n",
    "#         max_iter (int): Maximum number of iterations for gradient descent.\n",
    "\n",
    "#     Returns:a\n",
    "#         X (numpy.ndarray): lncRNA feature matrix (m x k).\n",
    "#         Y (numpy.ndarray): Disease feature matrix (e x k).\n",
    "#         psi (numpy.ndarray): lncRNA-disease association score matrix (m x e).\n",
    "#     \"\"\"\n",
    "\n",
    "\n",
    "#     # Calculate the preliminary lncRNA-disease association matrix\n",
    "#     ALD = ALM @ AMD\n",
    "\n",
    "#     m = ALD.shape[0]\n",
    "#     e = ALD.shape[1]\n",
    "\n",
    "#     # Initialize feature matrices randomly\n",
    "#     X = np.random.rand(m, k)\n",
    "#     Y = np.random.rand(e, k)\n",
    "\n",
    "#     for _ in range(max_iter):\n",
    "#         # Calculate the lncRNA-disease association score matrix\n",
    "#         psi = X @ Y.T   \n",
    "\n",
    "#         # Calculate the loss function and gradients\n",
    "#         # loss = np.sum((psi - ALD) ** 2) + lmbda * (np.sum(norm(X)) + np.sum(norm(Y)))\n",
    "#         grad_X = 2 * (psi - ALD) @ Y +  lmbda * X\n",
    "#         grad_Y = 2 * (psi - ALD).T @ X + lmbda * Y\n",
    "\n",
    "#         # Update feature matrices using gradient descent\n",
    "#         X -= alpha * grad_X\n",
    "#         Y -= alpha * grad_Y\n",
    "\n",
    "#     return X, Y, psi\n",
    "# X,Y,phi = Dormant_factor_model(LM_M,MD_M,213,max_iter=3500,alpha=2*10**-6,lmbda=4*10**-6)\n",
    "# mean_squared_error(phi,LM_M@MD_M),X,Y,phi\n",
    "# np.save(\"phi\",phi)\n",
    "# #mse -> .16 "
   ]
  },
  {
   "cell_type": "code",
   "execution_count": 34,
   "metadata": {},
   "outputs": [],
   "source": [
    "phi = np.load(\"phi.npy\")"
   ]
  },
  {
   "cell_type": "code",
   "execution_count": 35,
   "metadata": {},
   "outputs": [
    {
     "data": {
      "text/plain": [
       "(201, 0)"
      ]
     },
     "execution_count": 35,
     "metadata": {},
     "output_type": "execute_result"
    }
   ],
   "source": [
    "(LM_M@MD_M).max(),(LM_M@MD_M).min()"
   ]
  },
  {
   "cell_type": "code",
   "execution_count": 36,
   "metadata": {},
   "outputs": [
    {
     "data": {
      "text/plain": [
       "(201.87444701561898, -1.8466962382494252)"
      ]
     },
     "execution_count": 36,
     "metadata": {},
     "output_type": "execute_result"
    }
   ],
   "source": [
    "phi.max(), phi.min()"
   ]
  },
  {
   "cell_type": "code",
   "execution_count": 37,
   "metadata": {},
   "outputs": [],
   "source": [
    "# LP = np.zeros(shape=LD_M.shape)\n",
    "# for i in range(LP.shape[0]):\n",
    "#     for j in range(len(lncRNA)):\n",
    "#         LP[i,:] += ILS[i,j]*phi[j,:] \n",
    "#     LP[i,:] /= norm(ILS[i:]) \n",
    "# np.save(\"LP\",LP)\n",
    "# LP"
   ]
  },
  {
   "cell_type": "code",
   "execution_count": 38,
   "metadata": {},
   "outputs": [],
   "source": [
    "LP = np.load(\"LP.npy\")"
   ]
  },
  {
   "cell_type": "code",
   "execution_count": 39,
   "metadata": {},
   "outputs": [
    {
     "data": {
      "text/plain": [
       "array([[ 1.03356487e+02,  1.05355505e+02,  1.04801229e+02, ...,\n",
       "         4.34408789e+01,  4.34408789e+01,  2.70538526e+01],\n",
       "       [ 7.21664586e+01,  7.40069411e+01,  7.39931303e+01, ...,\n",
       "         3.05678821e+01,  3.05678821e+01,  1.47234207e+01],\n",
       "       [ 1.27244263e+02,  1.29103802e+02,  1.26622868e+02, ...,\n",
       "         5.34589406e+01,  5.34589406e+01,  1.62884687e+01],\n",
       "       ...,\n",
       "       [ 4.05422049e-01,  3.85547493e-01,  5.79096074e-01, ...,\n",
       "        -5.10439681e-03, -5.10439681e-03,  3.51478660e-01],\n",
       "       [ 4.38426165e-01,  4.02847840e-01,  4.81957536e-01, ...,\n",
       "         7.63602076e-03,  7.63602076e-03,  5.45215725e-01],\n",
       "       [ 3.07047778e-01,  1.61024016e-01,  2.40520009e-01, ...,\n",
       "         4.19304785e-01,  4.19304785e-01,  2.57217981e-01]])"
      ]
     },
     "execution_count": 39,
     "metadata": {},
     "output_type": "execute_result"
    }
   ],
   "source": [
    "DP = np.zeros(shape=LD_M.shape)\n",
    "for j in range(DP.shape[1]):\n",
    "    for i in range(len(disease)):\n",
    "        DP[:,j] += IDS[i,j]*phi[:,i]\n",
    "    DP[:,j] /= norm(IDS[:,j])\n",
    "DP"
   ]
  },
  {
   "cell_type": "code",
   "execution_count": 40,
   "metadata": {},
   "outputs": [
    {
     "data": {
      "text/plain": [
       "((7554, 514), (7554, 514), (7554, 7554), (514, 514))"
      ]
     },
     "execution_count": 40,
     "metadata": {},
     "output_type": "execute_result"
    }
   ],
   "source": [
    "LP.shape,DP.shape,ILS.shape,IDS.shape"
   ]
  },
  {
   "cell_type": "code",
   "execution_count": 41,
   "metadata": {},
   "outputs": [
    {
     "data": {
      "text/plain": [
       "(3774.748205640315, 438.7376207688449, 1.0, 1.0)"
      ]
     },
     "execution_count": 41,
     "metadata": {},
     "output_type": "execute_result"
    }
   ],
   "source": [
    "LP.max(),DP.max(),ILS.max(),IDS.max()"
   ]
  },
  {
   "cell_type": "code",
   "execution_count": 42,
   "metadata": {},
   "outputs": [
    {
     "data": {
      "text/plain": [
       "array([[1.59113727, 1.63968119, 1.71031294, ..., 0.907568  , 0.90756834,\n",
       "        0.62106861],\n",
       "       [1.28545532, 1.33549406, 1.4112091 , ..., 0.78428833, 0.78428887,\n",
       "        0.42512103],\n",
       "       [2.25192288, 2.30701784, 2.40251561, ..., 1.39618111, 1.39618196,\n",
       "        0.48034345],\n",
       "       ...,\n",
       "       [1.84334398, 2.16379285, 1.96668324, ..., 0.17352366, 0.17346477,\n",
       "        0.25633788],\n",
       "       [2.95811104, 3.42715179, 3.15170635, ..., 0.23631644, 0.23623733,\n",
       "        0.34261506],\n",
       "       [4.69487994, 5.43083264, 5.03568208, ..., 0.41555581, 0.41536897,\n",
       "        0.51386781]])"
      ]
     },
     "execution_count": 42,
     "metadata": {},
     "output_type": "execute_result"
    }
   ],
   "source": [
    "LFMP = np.zeros(shape=LD_M.shape)\n",
    "w = 0.50\n",
    "for i in range(LFMP.shape[0]):\n",
    "    for j in range(LFMP.shape[1]):\n",
    "        LFMP[i][j] = (w*LP[i][j] + (1-w)*DP[i][j])/(norm(ILS[i,:])+norm(IDS[:,j]))\n",
    "LFMP"
   ]
  },
  {
   "cell_type": "code",
   "execution_count": 43,
   "metadata": {},
   "outputs": [
    {
     "data": {
      "text/plain": [
       "(329.6302410451272,\n",
       " -0.09867926740107609,\n",
       " 0.9944589650187683,\n",
       " 1.114331934857895)"
      ]
     },
     "execution_count": 43,
     "metadata": {},
     "output_type": "execute_result"
    }
   ],
   "source": [
    "LFMP.max(),LFMP.min(),LFMP.mean(),LFMP.std()"
   ]
  },
  {
   "cell_type": "code",
   "execution_count": 44,
   "metadata": {},
   "outputs": [
    {
     "data": {
      "text/plain": [
       "(7554, 514)"
      ]
     },
     "execution_count": 44,
     "metadata": {},
     "output_type": "execute_result"
    }
   ],
   "source": [
    "LFMP.shape"
   ]
  },
  {
   "cell_type": "code",
   "execution_count": 45,
   "metadata": {},
   "outputs": [
    {
     "data": {
      "text/plain": [
       "3882756"
      ]
     },
     "execution_count": 45,
     "metadata": {},
     "output_type": "execute_result"
    }
   ],
   "source": [
    "d_len = len(disease)\n",
    "l = np.array([[a]*d_len for a in lncRNA]).flatten()\n",
    "l.size"
   ]
  },
  {
   "cell_type": "code",
   "execution_count": 52,
   "metadata": {},
   "outputs": [
    {
     "data": {
      "text/plain": [
       "3882756"
      ]
     },
     "execution_count": 52,
     "metadata": {},
     "output_type": "execute_result"
    }
   ],
   "source": [
    "d = np.array(disease*len(lncRNA))\n",
    "d.size"
   ]
  },
  {
   "cell_type": "code",
   "execution_count": 66,
   "metadata": {},
   "outputs": [],
   "source": [
    "stat_d = pd.DataFrame()\n",
    "stat_d['lncRNA'] = l.copy()\n",
    "stat_d['diease'] = d.copy()\n",
    "stat_d['Algorithmic Value'] = LFMP.flatten().copy()\n",
    "stat_d['Algorithmic Value'] = stat_d['Algorithmic Value']"
   ]
  },
  {
   "cell_type": "code",
   "execution_count": 61,
   "metadata": {},
   "outputs": [],
   "source": [
    "stat_d.to_csv(\"Latent_output.csv\")"
   ]
  },
  {
   "cell_type": "code",
   "execution_count": 67,
   "metadata": {},
   "outputs": [],
   "source": [
    "stat_d.to_feather(\"./Latent_output.feather\")"
   ]
  },
  {
   "cell_type": "code",
   "execution_count": 68,
   "metadata": {},
   "outputs": [
    {
     "data": {
      "text/html": [
       "<div>\n",
       "<style scoped>\n",
       "    .dataframe tbody tr th:only-of-type {\n",
       "        vertical-align: middle;\n",
       "    }\n",
       "\n",
       "    .dataframe tbody tr th {\n",
       "        vertical-align: top;\n",
       "    }\n",
       "\n",
       "    .dataframe thead th {\n",
       "        text-align: right;\n",
       "    }\n",
       "</style>\n",
       "<table border=\"1\" class=\"dataframe\">\n",
       "  <thead>\n",
       "    <tr style=\"text-align: right;\">\n",
       "      <th></th>\n",
       "      <th>lncRNA</th>\n",
       "      <th>diease</th>\n",
       "      <th>Algorithmic Value</th>\n",
       "    </tr>\n",
       "  </thead>\n",
       "  <tbody>\n",
       "    <tr>\n",
       "      <th>0</th>\n",
       "      <td>NONHSAT000002.2</td>\n",
       "      <td>Abortion habitual</td>\n",
       "      <td>1.591137</td>\n",
       "    </tr>\n",
       "    <tr>\n",
       "      <th>1</th>\n",
       "      <td>NONHSAT000002.2</td>\n",
       "      <td>Acoustic neuroma</td>\n",
       "      <td>1.639681</td>\n",
       "    </tr>\n",
       "    <tr>\n",
       "      <th>2</th>\n",
       "      <td>NONHSAT000002.2</td>\n",
       "      <td>Acquired immunodeficiency syndrome</td>\n",
       "      <td>1.710313</td>\n",
       "    </tr>\n",
       "    <tr>\n",
       "      <th>3</th>\n",
       "      <td>NONHSAT000002.2</td>\n",
       "      <td>Acute coronary syndrome</td>\n",
       "      <td>1.642922</td>\n",
       "    </tr>\n",
       "    <tr>\n",
       "      <th>4</th>\n",
       "      <td>NONHSAT000002.2</td>\n",
       "      <td>Acute kidney failure</td>\n",
       "      <td>1.639706</td>\n",
       "    </tr>\n",
       "    <tr>\n",
       "      <th>...</th>\n",
       "      <td>...</td>\n",
       "      <td>...</td>\n",
       "      <td>...</td>\n",
       "    </tr>\n",
       "    <tr>\n",
       "      <th>3882751</th>\n",
       "      <td>NONHSAT007829.2</td>\n",
       "      <td>Childhood medulloblastoma</td>\n",
       "      <td>0.415320</td>\n",
       "    </tr>\n",
       "    <tr>\n",
       "      <th>3882752</th>\n",
       "      <td>NONHSAT007829.2</td>\n",
       "      <td>Differentiating neuroblastoma</td>\n",
       "      <td>0.415306</td>\n",
       "    </tr>\n",
       "    <tr>\n",
       "      <th>3882753</th>\n",
       "      <td>NONHSAT007829.2</td>\n",
       "      <td>Ganglioneuroblastoma</td>\n",
       "      <td>0.415556</td>\n",
       "    </tr>\n",
       "    <tr>\n",
       "      <th>3882754</th>\n",
       "      <td>NONHSAT007829.2</td>\n",
       "      <td>Ganglioneuroma</td>\n",
       "      <td>0.415369</td>\n",
       "    </tr>\n",
       "    <tr>\n",
       "      <th>3882755</th>\n",
       "      <td>NONHSAT007829.2</td>\n",
       "      <td>Carcinoma lung non-small-cell</td>\n",
       "      <td>0.513868</td>\n",
       "    </tr>\n",
       "  </tbody>\n",
       "</table>\n",
       "<p>3882756 rows × 3 columns</p>\n",
       "</div>"
      ],
      "text/plain": [
       "                  lncRNA                              diease   \n",
       "0        NONHSAT000002.2                   Abortion habitual  \\\n",
       "1        NONHSAT000002.2                    Acoustic neuroma   \n",
       "2        NONHSAT000002.2  Acquired immunodeficiency syndrome   \n",
       "3        NONHSAT000002.2             Acute coronary syndrome   \n",
       "4        NONHSAT000002.2                Acute kidney failure   \n",
       "...                  ...                                 ...   \n",
       "3882751  NONHSAT007829.2           Childhood medulloblastoma   \n",
       "3882752  NONHSAT007829.2       Differentiating neuroblastoma   \n",
       "3882753  NONHSAT007829.2                Ganglioneuroblastoma   \n",
       "3882754  NONHSAT007829.2                      Ganglioneuroma   \n",
       "3882755  NONHSAT007829.2       Carcinoma lung non-small-cell   \n",
       "\n",
       "         Algorithmic Value  \n",
       "0                 1.591137  \n",
       "1                 1.639681  \n",
       "2                 1.710313  \n",
       "3                 1.642922  \n",
       "4                 1.639706  \n",
       "...                    ...  \n",
       "3882751           0.415320  \n",
       "3882752           0.415306  \n",
       "3882753           0.415556  \n",
       "3882754           0.415369  \n",
       "3882755           0.513868  \n",
       "\n",
       "[3882756 rows x 3 columns]"
      ]
     },
     "execution_count": 68,
     "metadata": {},
     "output_type": "execute_result"
    }
   ],
   "source": [
    "\n",
    "k = pd.read_feather(\"./Latent_output.feather\")\n",
    "k"
   ]
  }
 ],
 "metadata": {
  "kernelspec": {
   "display_name": "Python 3",
   "language": "python",
   "name": "python3"
  },
  "language_info": {
   "codemirror_mode": {
    "name": "ipython",
    "version": 3
   },
   "file_extension": ".py",
   "mimetype": "text/x-python",
   "name": "python",
   "nbconvert_exporter": "python",
   "pygments_lexer": "ipython3",
   "version": "3.11.4"
  }
 },
 "nbformat": 4,
 "nbformat_minor": 2
}
