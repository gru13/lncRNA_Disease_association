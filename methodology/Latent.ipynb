{
 "cells": [
  {
   "cell_type": "code",
   "execution_count": 1,
   "metadata": {},
   "outputs": [],
   "source": [
    "import pandas as pd\n",
    "import numpy as np\n",
    "import networkx as nx \n",
    "from numpy.linalg import norm"
   ]
  },
  {
   "cell_type": "code",
   "execution_count": 2,
   "metadata": {},
   "outputs": [],
   "source": [
    "# # from colab run this \n",
    "# !git clone https://github.com/gru13/lncRNA_Disease_association.git\n",
    "# df_lnc_die = pd.read_csv(r\"./lncRNA_Disease_association/datasets/lncrnaDiesease3/website_alldata_p1.csv\")\n",
    "# df_lnc_mir = pd.read_csv(r\"./lncRNA_Disease_association/datasets/LncRNASNP/Homo_sapiens_lncRNA_miRNA_interactions.csv\")\n",
    "# df_mir_die = pd.read_csv(r\"./lncRNA_Disease_association/datasets/rnaDisease/RNADisease_RNA-disease_miRNA_predict.csv\")"
   ]
  },
  {
   "cell_type": "code",
   "execution_count": 3,
   "metadata": {},
   "outputs": [],
   "source": [
    "# from local system\n",
    "\n",
    "df_lnc_die = pd.read_csv(r\"./../datasets/lncrnaDiesease3/website_alldata_p1.csv\")\n",
    "df_lnc_mir = pd.read_csv(r\"./../datasets/LncRNASNP/Homo_sapiens_lncRNA_miRNA_interactions.csv\")\n",
    "df_mir_die = pd.read_csv(r\"./../datasets/rnaDisease/RNADisease_RNA-disease_miRNA_predict.csv\")\n"
   ]
  },
  {
   "cell_type": "code",
   "execution_count": 4,
   "metadata": {},
   "outputs": [
    {
     "data": {
      "text/plain": [
       "(        lncRNA                    Disease  PubMed ID\n",
       " 0  ARHGAP5-AS1  Carcinoma, Hepatocellular   36354136\n",
       " 1       HOTTIP               Osteosarcoma   33475442\n",
       " 2       HOTTIP                     Glioma   35402278\n",
       " 3       HOTTIP             Retinoblastoma   33784880\n",
       " 4       HOTTIP          stomach carcinoma   32633359,\n",
       "             lncRNA           miRNA\n",
       " 0  NONHSAT000002.2  hsa-miR-15a-5p\n",
       " 1  NONHSAT000002.2  hsa-miR-15a-3p\n",
       " 2  NONHSAT000002.2   hsa-miR-16-5p\n",
       " 3  NONHSAT000002.2   hsa-miR-21-3p\n",
       " 4  NONHSAT000002.2   hsa-miR-28-5p,\n",
       "           miRNA                    Disease\n",
       " 0  hsa-let-7a-1  Abdominal aortic aneurysm\n",
       " 1  hsa-let-7a-2  Abdominal aortic aneurysm\n",
       " 2  hsa-let-7a-3  Abdominal aortic aneurysm\n",
       " 3    hsa-let-7c  Abdominal aortic aneurysm\n",
       " 4    hsa-let-7d  Abdominal aortic aneurysm)"
      ]
     },
     "execution_count": 4,
     "metadata": {},
     "output_type": "execute_result"
    }
   ],
   "source": [
    "\n",
    "df_lnc_die.head(),df_lnc_mir.head(),df_mir_die.head()"
   ]
  },
  {
   "cell_type": "code",
   "execution_count": 5,
   "metadata": {},
   "outputs": [],
   "source": [
    "dataset1 = pd.merge(df_lnc_mir,df_lnc_die,on=['lncRNA'],how='inner')\n",
    "dataset2 = pd.merge(df_lnc_mir,df_mir_die,on=['miRNA'],how='inner')"
   ]
  },
  {
   "cell_type": "code",
   "execution_count": 6,
   "metadata": {},
   "outputs": [],
   "source": [
    "# dataset1"
   ]
  },
  {
   "cell_type": "code",
   "execution_count": 7,
   "metadata": {},
   "outputs": [
    {
     "data": {
      "text/html": [
       "<div>\n",
       "<style scoped>\n",
       "    .dataframe tbody tr th:only-of-type {\n",
       "        vertical-align: middle;\n",
       "    }\n",
       "\n",
       "    .dataframe tbody tr th {\n",
       "        vertical-align: top;\n",
       "    }\n",
       "\n",
       "    .dataframe thead th {\n",
       "        text-align: right;\n",
       "    }\n",
       "</style>\n",
       "<table border=\"1\" class=\"dataframe\">\n",
       "  <thead>\n",
       "    <tr style=\"text-align: right;\">\n",
       "      <th></th>\n",
       "      <th>lncRNA</th>\n",
       "      <th>miRNA</th>\n",
       "      <th>Disease</th>\n",
       "    </tr>\n",
       "  </thead>\n",
       "  <tbody>\n",
       "    <tr>\n",
       "      <th>0</th>\n",
       "      <td>NONHSAT000002.2</td>\n",
       "      <td>hsa-miR-15a-5p</td>\n",
       "      <td>Abortion habitual</td>\n",
       "    </tr>\n",
       "    <tr>\n",
       "      <th>1</th>\n",
       "      <td>NONHSAT000002.2</td>\n",
       "      <td>hsa-miR-15a-5p</td>\n",
       "      <td>Acoustic neuroma</td>\n",
       "    </tr>\n",
       "    <tr>\n",
       "      <th>2</th>\n",
       "      <td>NONHSAT000002.2</td>\n",
       "      <td>hsa-miR-15a-5p</td>\n",
       "      <td>Acquired immunodeficiency syndrome</td>\n",
       "    </tr>\n",
       "    <tr>\n",
       "      <th>3</th>\n",
       "      <td>NONHSAT000002.2</td>\n",
       "      <td>hsa-miR-15a-5p</td>\n",
       "      <td>Acute coronary syndrome</td>\n",
       "    </tr>\n",
       "    <tr>\n",
       "      <th>4</th>\n",
       "      <td>NONHSAT000002.2</td>\n",
       "      <td>hsa-miR-15a-5p</td>\n",
       "      <td>Acute kidney failure</td>\n",
       "    </tr>\n",
       "    <tr>\n",
       "      <th>...</th>\n",
       "      <td>...</td>\n",
       "      <td>...</td>\n",
       "      <td>...</td>\n",
       "    </tr>\n",
       "    <tr>\n",
       "      <th>9376652</th>\n",
       "      <td>NONHSAT017163.2</td>\n",
       "      <td>hsa-miR-523-3p</td>\n",
       "      <td>Intellectual disability</td>\n",
       "    </tr>\n",
       "    <tr>\n",
       "      <th>9376653</th>\n",
       "      <td>NONHSAT017163.2</td>\n",
       "      <td>hsa-miR-523-3p</td>\n",
       "      <td>Leukemia</td>\n",
       "    </tr>\n",
       "    <tr>\n",
       "      <th>9376654</th>\n",
       "      <td>NONHSAT017163.2</td>\n",
       "      <td>hsa-miR-523-3p</td>\n",
       "      <td>Neurodegenerative diseases</td>\n",
       "    </tr>\n",
       "    <tr>\n",
       "      <th>9376655</th>\n",
       "      <td>NONHSAT017163.2</td>\n",
       "      <td>hsa-miR-523-3p</td>\n",
       "      <td>Skin disease</td>\n",
       "    </tr>\n",
       "    <tr>\n",
       "      <th>9376656</th>\n",
       "      <td>NONHSAT017163.2</td>\n",
       "      <td>hsa-miR-523-3p</td>\n",
       "      <td>Vascular diseases</td>\n",
       "    </tr>\n",
       "  </tbody>\n",
       "</table>\n",
       "<p>9376657 rows × 3 columns</p>\n",
       "</div>"
      ],
      "text/plain": [
       "                  lncRNA           miRNA                             Disease\n",
       "0        NONHSAT000002.2  hsa-miR-15a-5p                   Abortion habitual\n",
       "1        NONHSAT000002.2  hsa-miR-15a-5p                    Acoustic neuroma\n",
       "2        NONHSAT000002.2  hsa-miR-15a-5p  Acquired immunodeficiency syndrome\n",
       "3        NONHSAT000002.2  hsa-miR-15a-5p             Acute coronary syndrome\n",
       "4        NONHSAT000002.2  hsa-miR-15a-5p                Acute kidney failure\n",
       "...                  ...             ...                                 ...\n",
       "9376652  NONHSAT017163.2  hsa-miR-523-3p             Intellectual disability\n",
       "9376653  NONHSAT017163.2  hsa-miR-523-3p                            Leukemia\n",
       "9376654  NONHSAT017163.2  hsa-miR-523-3p          Neurodegenerative diseases\n",
       "9376655  NONHSAT017163.2  hsa-miR-523-3p                        Skin disease\n",
       "9376656  NONHSAT017163.2  hsa-miR-523-3p                   Vascular diseases\n",
       "\n",
       "[9376657 rows x 3 columns]"
      ]
     },
     "execution_count": 7,
     "metadata": {},
     "output_type": "execute_result"
    }
   ],
   "source": [
    "dataset2"
   ]
  },
  {
   "cell_type": "code",
   "execution_count": 8,
   "metadata": {},
   "outputs": [],
   "source": [
    "df = dataset2.copy()\n",
    "# df"
   ]
  },
  {
   "cell_type": "code",
   "execution_count": 9,
   "metadata": {},
   "outputs": [],
   "source": [
    "df = dataset2.copy()"
   ]
  },
  {
   "cell_type": "code",
   "execution_count": 10,
   "metadata": {},
   "outputs": [],
   "source": [
    "# # only run this for first time \n",
    "# disease = df['Disease'].unique()\n",
    "# lncRNA = df['lncRNA'].unique()\n",
    "# miRNA = df['miRNA'].unique()\n",
    "\n",
    "# np.savetxt(\"./disease.txt\",disease,delimiter=',',fmt='%s')\n",
    "# np.savetxt(\"./lncRNA.txt\",lncRNA,delimiter=',',fmt='%s')\n",
    "# np.savetxt(\"./miRNA.txt\",miRNA,delimiter=',',fmt='%s')"
   ]
  },
  {
   "cell_type": "code",
   "execution_count": 11,
   "metadata": {},
   "outputs": [],
   "source": [
    "disease = [a[:-1] for a in open(\"./disease.txt\").readlines()]\n",
    "lncRNA = [a[:-1] for a in open(\"./lncRNA.txt\").readlines()]\n",
    "miRNA = [a[:-1] for a in open(\"./miRNA.txt\").readlines()]"
   ]
  },
  {
   "cell_type": "code",
   "execution_count": 12,
   "metadata": {},
   "outputs": [],
   "source": [
    "lncRNA_index = {a:b for (a,b) in zip(lncRNA,range(len(lncRNA)))}\n",
    "disease_index = {a:b for (a,b) in zip(disease,range(len(disease)))}\n",
    "miRNA_index = {a:b for (a,b) in zip(miRNA,range(len(miRNA)))}"
   ]
  },
  {
   "cell_type": "code",
   "execution_count": 13,
   "metadata": {},
   "outputs": [],
   "source": [
    "# len(df['lncRNA'].unique()),len(df['miRNA'].unique()),len(df['Disease'].unique()),"
   ]
  },
  {
   "cell_type": "markdown",
   "metadata": {},
   "source": [
    "CReation of the graph that contains the totaly connected with miRNA, lncRNA, Disease"
   ]
  },
  {
   "cell_type": "code",
   "execution_count": 14,
   "metadata": {},
   "outputs": [],
   "source": [
    "LM_Graph = nx.Graph()\n",
    "MD_Graph = nx.Graph()\n",
    "LD_Graph = nx.Graph()\n",
    "\n",
    "LM_Graph.add_nodes_from(lncRNA)\n",
    "LM_Graph.add_nodes_from(miRNA)\n",
    "\n",
    "LD_Graph.add_nodes_from(lncRNA)\n",
    "LD_Graph.add_nodes_from(disease)\n",
    "\n",
    "MD_Graph.add_nodes_from(miRNA)\n",
    "MD_Graph.add_nodes_from(disease)"
   ]
  },
  {
   "cell_type": "code",
   "execution_count": 15,
   "metadata": {},
   "outputs": [],
   "source": [
    "for a in df.values:\n",
    "    LM_Graph.add_edge(a[0],a[1])\n",
    "    MD_Graph.add_edge(a[1],a[2])\n",
    "    LD_Graph.add_edge(a[0],a[2])"
   ]
  },
  {
   "cell_type": "markdown",
   "metadata": {},
   "source": [
    "CReation of the Lncrna-disease , Lncrna-miRNA, miRNA-Disease assoction matrix (LM,LD,MD)"
   ]
  },
  {
   "cell_type": "code",
   "execution_count": 16,
   "metadata": {},
   "outputs": [],
   "source": [
    "LM_index = {a:b for (a,b) in zip(LM_Graph.nodes(),range(len(LM_Graph.nodes())))}\n",
    "MD_index = {a:b for (a,b) in zip(MD_Graph.nodes(),range(len(MD_Graph.nodes())))}\n",
    "LD_index = {a:b for (a,b) in zip(LD_Graph.nodes(),range(len(LD_Graph.nodes())))}"
   ]
  },
  {
   "cell_type": "code",
   "execution_count": 17,
   "metadata": {},
   "outputs": [],
   "source": [
    "LM_M_A = nx.adjacency_matrix(LM_Graph).todense()\n",
    "MD_M_A = nx.adjacency_matrix(MD_Graph).todense()\n",
    "LD_M_A = nx.adjacency_matrix(LD_Graph).todense()"
   ]
  },
  {
   "cell_type": "code",
   "execution_count": 18,
   "metadata": {},
   "outputs": [],
   "source": [
    "LM_M = np.zeros(shape=(len(lncRNA),len(miRNA)),dtype=int)\n",
    "MD_M = np.zeros(shape=(len(miRNA), len(disease)),dtype=int)\n",
    "LD_M = np.zeros(shape=(len(lncRNA), len(disease)),dtype=int)"
   ]
  },
  {
   "cell_type": "code",
   "execution_count": 19,
   "metadata": {},
   "outputs": [
    {
     "data": {
      "text/plain": [
       "array([[1, 1, 1, ..., 0, 0, 0],\n",
       "       [1, 1, 1, ..., 0, 0, 0],\n",
       "       [1, 1, 1, ..., 0, 0, 0],\n",
       "       ...,\n",
       "       [0, 0, 0, ..., 0, 0, 0],\n",
       "       [0, 0, 0, ..., 0, 0, 0],\n",
       "       [0, 0, 0, ..., 0, 0, 0]])"
      ]
     },
     "execution_count": 19,
     "metadata": {},
     "output_type": "execute_result"
    }
   ],
   "source": [
    "for a in range(len(lncRNA)):\n",
    "    for b in range(len(disease)):\n",
    "        LD_M[a][b] = LD_M_A[LD_index[lncRNA[a]]][LD_index[disease[b]]]\n",
    "LD_M"
   ]
  },
  {
   "cell_type": "code",
   "execution_count": 20,
   "metadata": {},
   "outputs": [
    {
     "data": {
      "text/plain": [
       "array([[1, 1, 1, ..., 0, 0, 0],\n",
       "       [1, 1, 1, ..., 0, 0, 0],\n",
       "       [1, 0, 1, ..., 0, 0, 0],\n",
       "       ...,\n",
       "       [0, 0, 0, ..., 0, 0, 0],\n",
       "       [0, 0, 0, ..., 0, 0, 0],\n",
       "       [0, 0, 0, ..., 0, 0, 0]])"
      ]
     },
     "execution_count": 20,
     "metadata": {},
     "output_type": "execute_result"
    }
   ],
   "source": [
    "for a in range(len(lncRNA)):\n",
    "    for b in range(len(miRNA)):\n",
    "        LM_M[a][b] = LM_M_A[LM_index[lncRNA[a]]][LM_index[miRNA[b]]]\n",
    "LM_M"
   ]
  },
  {
   "cell_type": "code",
   "execution_count": 21,
   "metadata": {},
   "outputs": [
    {
     "data": {
      "text/plain": [
       "array([[1, 1, 1, ..., 0, 0, 0],\n",
       "       [0, 0, 0, ..., 0, 0, 0],\n",
       "       [1, 1, 1, ..., 0, 0, 0],\n",
       "       ...,\n",
       "       [0, 0, 0, ..., 0, 0, 0],\n",
       "       [0, 0, 0, ..., 0, 0, 0],\n",
       "       [0, 0, 0, ..., 0, 0, 0]])"
      ]
     },
     "execution_count": 21,
     "metadata": {},
     "output_type": "execute_result"
    }
   ],
   "source": [
    "for a in range(len(miRNA)):\n",
    "    for b in range(len(disease)):\n",
    "        MD_M[a][b] = MD_M_A[MD_index[miRNA[a]]][MD_index[disease[b]]]\n",
    "MD_M"
   ]
  },
  {
   "cell_type": "code",
   "execution_count": 22,
   "metadata": {},
   "outputs": [
    {
     "data": {
      "text/plain": [
       "array([[5, 6, 6, ..., 0, 0, 0],\n",
       "       [3, 5, 5, ..., 0, 0, 0],\n",
       "       [7, 9, 7, ..., 0, 0, 0],\n",
       "       ...,\n",
       "       [0, 0, 0, ..., 0, 0, 0],\n",
       "       [0, 0, 0, ..., 0, 0, 0],\n",
       "       [0, 0, 0, ..., 0, 0, 0]])"
      ]
     },
     "execution_count": 22,
     "metadata": {},
     "output_type": "execute_result"
    }
   ],
   "source": [
    "LD = LM_M.dot(MD_M)\n",
    "LD"
   ]
  },
  {
   "cell_type": "code",
   "execution_count": 23,
   "metadata": {},
   "outputs": [],
   "source": [
    "# # run this if CD.csv is not found in the current folder(runs for seconds)\n",
    "# CD = np.zeros(shape=(len(disease),len(disease)))\n",
    "# for i in range(len(disease)):\n",
    "#     for j in range(len(disease)):\n",
    "#         CD[i][j] = (MD_M[:,i].dot(MD_M[:,j]))/(norm(MD_M[:,i])*norm(MD_M[:,j]))\n",
    "# np.savetxt(\"CD.csv\",CD,delimiter=',',fmt='%.5f')"
   ]
  },
  {
   "cell_type": "code",
   "execution_count": 24,
   "metadata": {},
   "outputs": [],
   "source": [
    "CD = np.loadtxt(\"CD.csv\",delimiter=',',dtype=float)"
   ]
  },
  {
   "cell_type": "code",
   "execution_count": 25,
   "metadata": {},
   "outputs": [],
   "source": [
    "# # run this if CL.csv not found in the current folder(run for 8 min )\n",
    "# CL = np.zeros(shape=(len(lncRNA),len(lncRNA)))\n",
    "# for i in range(len(lncRNA)):\n",
    "#     for j in range(len(lncRNA)):\n",
    "#         CL[i][j] = (LM_M[i,:].dot(LM_M[j,:]))/(norm(LM_M[i,:])*norm(LM_M[j,:]))\n",
    "# np.savetxt(\"CL.csv\",CL,delimiter=',',fmt=\"%.5f\")"
   ]
  },
  {
   "cell_type": "code",
   "execution_count": 26,
   "metadata": {},
   "outputs": [],
   "source": [
    "CL = np.loadtxt(\"./CL.csv\",delimiter=',',dtype=float)"
   ]
  },
  {
   "cell_type": "code",
   "execution_count": 27,
   "metadata": {},
   "outputs": [],
   "source": [
    "JD = np.zeros(shape=CD.shape)\n",
    "for i in range(MD_M.shape[-1]):\n",
    "    for j in range(MD_M.shape[-1]):\n",
    "        JD[i][j] =(np.bitwise_and(MD_M[:,i],MD_M[:,j]).sum())/(np.bitwise_or(MD_M[:,i],MD_M[:,j]).sum())\n",
    "        "
   ]
  },
  {
   "cell_type": "code",
   "execution_count": 28,
   "metadata": {},
   "outputs": [
    {
     "data": {
      "text/plain": [
       "array([[1.        , 0.28849315, 1.        , ..., 0.        , 0.        ,\n",
       "        0.        ],\n",
       "       [0.28849315, 1.        , 0.28849315, ..., 0.        , 0.        ,\n",
       "        0.        ],\n",
       "       [1.        , 0.28849315, 1.        , ..., 0.        , 0.        ,\n",
       "        0.        ],\n",
       "       ...,\n",
       "       [0.        , 0.        , 0.        , ..., 0.        , 0.        ,\n",
       "        0.        ],\n",
       "       [0.        , 0.        , 0.        , ..., 0.        , 0.        ,\n",
       "        0.        ],\n",
       "       [0.        , 0.        , 0.        , ..., 0.        , 0.        ,\n",
       "        0.        ]])"
      ]
     },
     "execution_count": 28,
     "metadata": {},
     "output_type": "execute_result"
    }
   ],
   "source": [
    "JL = np.zeros(shape=CL.shape)\n",
    "for i in range(LM_M.shape[-1]):\n",
    "    for j in range(LM_M.shape[-1]):\n",
    "        JL[i][j] =(np.bitwise_and(LM_M[:,i],LM_M[:,j]).sum())/(np.bitwise_or(LM_M[:,i],LM_M[:,j]).sum())\n",
    "JL      "
   ]
  },
  {
   "cell_type": "code",
   "execution_count": 29,
   "metadata": {},
   "outputs": [
    {
     "data": {
      "text/plain": [
       "array([[1.        , 0.73534833, 0.62628227, ..., 0.        , 0.        ,\n",
       "        0.        ],\n",
       "       [0.73534833, 1.        , 0.79003636, ..., 0.19620955, 0.19620955,\n",
       "        0.        ],\n",
       "       [0.62628227, 0.79003636, 1.        , ..., 0.        , 0.        ,\n",
       "        0.        ],\n",
       "       ...,\n",
       "       [0.        , 0.19620955, 0.        , ..., 1.        , 1.        ,\n",
       "        0.        ],\n",
       "       [0.        , 0.19620955, 0.        , ..., 1.        , 1.        ,\n",
       "        0.        ],\n",
       "       [0.        , 0.        , 0.        , ..., 0.        , 0.        ,\n",
       "        1.        ]])"
      ]
     },
     "execution_count": 29,
     "metadata": {},
     "output_type": "execute_result"
    }
   ],
   "source": [
    "IDS = np.zeros(shape=CD.shape)\n",
    "for i in range(IDS.shape[0]):\n",
    "    for j in range(IDS.shape[-1]):\n",
    "        if CD[i][j] == 0:\n",
    "            IDS[i][j] = JD[i][j]\n",
    "        else:\n",
    "            IDS[i][j] = (CD[i][j]+JD[i][j])/2\n",
    "IDS"
   ]
  },
  {
   "cell_type": "code",
   "execution_count": 30,
   "metadata": {},
   "outputs": [
    {
     "data": {
      "text/plain": [
       "array([[1.        , 0.50909658, 0.80073   , ..., 0.        , 0.        ,\n",
       "        0.        ],\n",
       "       [0.50909658, 1.        , 0.42427158, ..., 0.        , 0.        ,\n",
       "        0.        ],\n",
       "       [0.80073   , 0.42427158, 1.        , ..., 0.        , 0.        ,\n",
       "        0.        ],\n",
       "       ...,\n",
       "       [0.        , 0.        , 0.        , ..., 0.5       , 0.        ,\n",
       "        0.        ],\n",
       "       [0.        , 0.        , 0.        , ..., 0.        , 0.5       ,\n",
       "        0.        ],\n",
       "       [0.        , 0.        , 0.        , ..., 0.        , 0.        ,\n",
       "        0.5       ]])"
      ]
     },
     "execution_count": 30,
     "metadata": {},
     "output_type": "execute_result"
    }
   ],
   "source": [
    "ILS = np.zeros(shape=CL.shape)\n",
    "for i in range(ILS.shape[0]):\n",
    "    for j in range(ILS.shape[-1]):\n",
    "        if CL[i][j] == 0:\n",
    "            ILS[i][j] = JL[i][j]\n",
    "        else:\n",
    "            ILS[i][j] = (CL[i][j]+JL[i][j])/2\n",
    "ILS"
   ]
  },
  {
   "cell_type": "markdown",
   "metadata": {},
   "source": [
    "Latent Factor model"
   ]
  },
  {
   "cell_type": "code",
   "execution_count": 31,
   "metadata": {},
   "outputs": [
    {
     "data": {
      "text/plain": [
       "(array([[ 0.6861713 ,  0.75994243,  0.21371615, ...,  0.50727344,\n",
       "          0.42857192,  0.56267685],\n",
       "        [ 0.5798644 ,  0.59740619,  0.57554681, ...,  0.18083498,\n",
       "          0.68850931,  0.6677027 ],\n",
       "        [ 0.05071246,  0.48258434,  0.94861737, ...,  0.54510704,\n",
       "          0.893524  ,  0.20191439],\n",
       "        ...,\n",
       "        [-0.06400773,  0.44531077, -0.07160656, ...,  0.2248145 ,\n",
       "          0.46105783,  0.28968008],\n",
       "        [ 0.83619002, -0.08233237,  0.09042959, ...,  0.33955705,\n",
       "          0.80718303,  0.13634343],\n",
       "        [-0.00554788,  0.7125678 ,  0.57721294, ...,  0.06648706,\n",
       "          0.51411879,  0.03596589]]),\n",
       " array([[-0.09486841, -0.04022008,  0.04187271, ..., -0.05120075,\n",
       "         -0.04071445, -0.151504  ],\n",
       "        [-0.22001881,  0.11500278,  0.23126758, ..., -0.17832766,\n",
       "         -0.10455319, -0.03971622],\n",
       "        [-0.23377193,  0.10185752,  0.12601628, ...,  0.00568922,\n",
       "          0.07865241, -0.04983028],\n",
       "        ...,\n",
       "        [ 0.07389571,  0.02106573, -0.07346749, ..., -0.05781759,\n",
       "         -0.1324492 , -0.02050511],\n",
       "        [ 0.0423399 , -0.00845505,  0.08757517, ..., -0.10772731,\n",
       "         -0.08255832, -0.09005362],\n",
       "        [ 0.05640151,  0.05559224, -0.02539752, ...,  0.00337271,\n",
       "          0.03462939,  0.15393373]]),\n",
       " array([[ 5.26475468,  6.03607997,  5.25279096, ...,  0.79992425,\n",
       "          0.05443474, -0.08061471],\n",
       "        [ 3.29007537,  4.14599536,  3.86980702, ...,  0.12116547,\n",
       "         -0.08587588, -0.4154654 ],\n",
       "        [ 5.95982976,  7.71049582,  6.22672517, ...,  0.74520158,\n",
       "         -0.41847349,  0.77580577],\n",
       "        ...,\n",
       "        [-0.04975429,  0.15798116, -0.12360164, ...,  0.5359518 ,\n",
       "         -0.15231004, -0.2363524 ],\n",
       "        [ 0.68865665,  0.33785603, -0.0303452 , ...,  0.31648977,\n",
       "         -0.08336103, -0.07223829],\n",
       "        [ 0.35977471, -0.12525685, -0.05749239, ..., -0.01635007,\n",
       "         -0.04526992, -0.23169017]]))"
      ]
     },
     "execution_count": 31,
     "metadata": {},
     "output_type": "execute_result"
    }
   ],
   "source": [
    "def latent_factor_model(ALM, AMD, k, alpha=2*10**-6, lmbda=4*10**-5, max_iter=1000):\n",
    "    \"\"\"\n",
    "    Latent factor model for calculating lncRNA-disease associations.\n",
    "\n",
    "    Args:\n",
    "        ALM (numpy.ndarray): Adjacency matrix of lncRNA-miRNA associations (m x n).\n",
    "        AMD (numpy.ndarray): Adjacency matrix of miRNA-disease associations (n x e).\n",
    "        k (int): Number of latent factors.\n",
    "        alpha (float): Learning rate for gradient descent.\n",
    "        lmbda (float): Regularization parameter.\n",
    "        max_iter (int): Maximum number of iterations for gradient descent.\n",
    "\n",
    "    Returns:\n",
    "        X (numpy.ndarray): lncRNA feature matrix (m x k).\n",
    "        Y (numpy.ndarray): Disease feature matrix (e x k).\n",
    "        psi (numpy.ndarray): lncRNA-disease association score matrix (m x e).\n",
    "    \"\"\"\n",
    "\n",
    "\n",
    "    # Calculate the preliminary lncRNA-disease association matrix\n",
    "    ALD = ALM @ AMD\n",
    "\n",
    "    m = ALD.shape[0]\n",
    "    e = ALD.shape[1]\n",
    "\n",
    "    # Initialize feature matrices randomly\n",
    "    X = np.random.rand(m, k)\n",
    "    Y = np.random.rand(e, k)\n",
    "\n",
    "    for _ in range(max_iter):\n",
    "        # Calculate the lncRNA-disease association score matrix\n",
    "        psi = X @ Y.T\n",
    "\n",
    "        # Calculate the loss function and gradients\n",
    "        loss = np.sum((psi - ALD) ** 2) + lmbda * (np.sum(norm(X)) + np.sum(norm(Y)))\n",
    "        grad_X = 2 * (psi - ALD) @ Y + 2 * lmbda * X\n",
    "        grad_Y = 2 * (psi - ALD).T @ X + 2 * lmbda * Y\n",
    "\n",
    "        # Update feature matrices using gradient descent\n",
    "        X -= alpha * grad_X\n",
    "        Y -= alpha * grad_Y\n",
    "\n",
    "    return X, Y, psi\n",
    "X,Y,phi = latent_factor_model(LM_M,MD_M,213,max_iter=500)\n",
    "X,Y,phi"
   ]
  },
  {
   "cell_type": "code",
   "execution_count": null,
   "metadata": {},
   "outputs": [],
   "source": [
    "phi"
   ]
  },
  {
   "cell_type": "code",
   "execution_count": 32,
   "metadata": {},
   "outputs": [
    {
     "data": {
      "text/plain": [
       "((7554, 7554), (7554, 514), 7554)"
      ]
     },
     "execution_count": 32,
     "metadata": {},
     "output_type": "execute_result"
    }
   ],
   "source": [
    "ILS.shape, phi.shape,len(lncRNA)"
   ]
  },
  {
   "cell_type": "code",
   "execution_count": 33,
   "metadata": {},
   "outputs": [],
   "source": [
    "LP = np.zeros(shape=LD_M.shape)\n",
    "for i in range(LP.shape[0]):\n",
    "    for j in range(len(lncRNA)):\n",
    "        LP[i,:] += ILS[i,j]*phi[j,:] \n",
    "    LP[i,:] /= norm(ILS[i:]) \n",
    "LP"
   ]
  },
  {
   "cell_type": "code",
   "execution_count": null,
   "metadata": {},
   "outputs": [
    {
     "data": {
      "text/plain": [
       "array([[ 1.05931873e+02,  1.07116370e+02,  1.05603883e+02, ...,\n",
       "         4.30675538e+01,  4.30675538e+01,  2.73716817e+01],\n",
       "       [ 7.29134576e+01,  7.39872255e+01,  7.29492168e+01, ...,\n",
       "         3.03804790e+01,  3.03804790e+01,  1.54331732e+01],\n",
       "       [ 1.14460020e+02,  1.16022496e+02,  1.14286211e+02, ...,\n",
       "         4.72827269e+01,  4.72827269e+01,  1.73260187e+01],\n",
       "       ...,\n",
       "       [-2.46556130e-01, -6.34171801e-03,  6.23640249e-02, ...,\n",
       "         8.87007773e-03,  8.87007773e-03, -3.51283486e-01],\n",
       "       [-2.97602147e+00, -3.09064072e+00, -3.04034347e+00, ...,\n",
       "        -1.51241414e+00, -1.51241414e+00,  1.59951149e-01],\n",
       "       [-2.23136637e+00, -2.28871554e+00, -2.28318239e+00, ...,\n",
       "        -9.61604720e-01, -9.61604720e-01,  1.49380792e-01]])"
      ]
     },
     "execution_count": 34,
     "metadata": {},
     "output_type": "execute_result"
    }
   ],
   "source": [
    "DP = np.zeros(shape=LD_M.shape)\n",
    "for j in range(DP.shape[1]):\n",
    "    for i in range(len(disease)):\n",
    "        DP[:,j] += IDS[i,j]*phi[:,i]\n",
    "    DP[:,j] /= norm(IDS[:,j])\n",
    "DP"
   ]
  },
  {
   "cell_type": "code",
   "execution_count": null,
   "metadata": {},
   "outputs": [
    {
     "data": {
      "text/plain": [
       "((7554, 514), (7554, 514), (7554, 7554), (514, 514))"
      ]
     },
     "execution_count": 35,
     "metadata": {},
     "output_type": "execute_result"
    }
   ],
   "source": [
    "LP.shape,DP.shape,ILS.shape,IDS.shape"
   ]
  },
  {
   "cell_type": "code",
   "execution_count": null,
   "metadata": {},
   "outputs": [
    {
     "data": {
      "text/plain": [
       "array([[1.62968133, 1.66571155, 1.72229932, ..., 0.89975207, 0.89973404,\n",
       "        0.62841064],\n",
       "       [1.29888122, 1.33442765, 1.39047752, ..., 0.77954826, 0.77940625,\n",
       "        0.44547169],\n",
       "       [2.03151169, 2.07940851, 2.17340644, ..., 1.23524544, 1.23505245,\n",
       "        0.51072483],\n",
       "       ...,\n",
       "       [1.80952549, 2.16642527, 2.01305046, ..., 0.16656201, 0.17933206,\n",
       "        0.1513848 ],\n",
       "       [2.85268295, 3.37428052, 3.06935083, ..., 0.12851203, 0.17069962,\n",
       "        0.32589176],\n",
       "       [4.62845485, 5.44111612, 4.98668531, ..., 0.32431728, 0.38426294,\n",
       "        0.55373479]])"
      ]
     },
     "execution_count": 36,
     "metadata": {},
     "output_type": "execute_result"
    }
   ],
   "source": [
    "LFMP = np.zeros(shape=LD_M.shape)\n",
    "w = 0.50\n",
    "for i in range(LFMP.shape[0]):\n",
    "    for j in range(LFMP.shape[1]):\n",
    "        LFMP[i][j] = (w*LP[i][j] + (1-w)*DP[i][j])/(norm(ILS[i,:])+norm(IDS[:,j]))\n",
    "LFMP"
   ]
  },
  {
   "cell_type": "code",
   "execution_count": null,
   "metadata": {},
   "outputs": [
    {
     "data": {
      "text/plain": [
       "0.8682090057727859"
      ]
     },
     "execution_count": 37,
     "metadata": {},
     "output_type": "execute_result"
    }
   ],
   "source": [
    "LFMP[lncRNA_index['NONHSAT006834.2']][disease_index['Ganglioneuroma']]"
   ]
  }
 ],
 "metadata": {
  "kernelspec": {
   "display_name": "Python 3",
   "language": "python",
   "name": "python3"
  },
  "language_info": {
   "codemirror_mode": {
    "name": "ipython",
    "version": 3
   },
   "file_extension": ".py",
   "mimetype": "text/x-python",
   "name": "python",
   "nbconvert_exporter": "python",
   "pygments_lexer": "ipython3",
   "version": "3.11.4"
  }
 },
 "nbformat": 4,
 "nbformat_minor": 2
}
