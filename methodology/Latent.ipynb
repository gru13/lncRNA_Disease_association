{
 "cells": [
  {
   "cell_type": "code",
   "execution_count": 1,
   "metadata": {},
   "outputs": [],
   "source": [
    "import pandas as pd\n",
    "import numpy as np\n",
    "import networkx as nx \n",
    "from numpy.linalg import norm"
   ]
  },
  {
   "cell_type": "code",
   "execution_count": 2,
   "metadata": {},
   "outputs": [],
   "source": [
    "# # from colab run this \n",
    "# !git clone https://github.com/gru13/lncRNA_Disease_association.git\n",
    "# df_lnc_die = pd.read_csv(r\"./lncRNA_Disease_association/datasets/lncrnaDiesease3/website_alldata_p1.csv\")\n",
    "# df_lnc_mir = pd.read_csv(r\"./lncRNA_Disease_association/datasets/LncRNASNP/Homo_sapiens_lncRNA_miRNA_interactions.csv\")\n",
    "# df_mir_die = pd.read_csv(r\"./lncRNA_Disease_association/datasets/rnaDisease/RNADisease_RNA-disease_miRNA_predict.csv\")"
   ]
  },
  {
   "cell_type": "code",
   "execution_count": 3,
   "metadata": {},
   "outputs": [],
   "source": [
    "# from local system\n",
    "\n",
    "df_lnc_die = pd.read_csv(r\"./../datasets/lncrnaDiesease3/website_alldata_p1.csv\")\n",
    "df_lnc_mir = pd.read_csv(r\"./../datasets/LncRNASNP/Homo_sapiens_lncRNA_miRNA_interactions.csv\")\n",
    "df_mir_die = pd.read_csv(r\"./../datasets/rnaDisease/RNADisease_RNA-disease_miRNA_predict.csv\")\n"
   ]
  },
  {
   "cell_type": "code",
   "execution_count": 4,
   "metadata": {},
   "outputs": [
    {
     "data": {
      "text/plain": [
       "(        lncRNA                    Disease  PubMed ID\n",
       " 0  ARHGAP5-AS1  Carcinoma, Hepatocellular   36354136\n",
       " 1       HOTTIP               Osteosarcoma   33475442\n",
       " 2       HOTTIP                     Glioma   35402278\n",
       " 3       HOTTIP             Retinoblastoma   33784880\n",
       " 4       HOTTIP          stomach carcinoma   32633359,\n",
       "             lncRNA           miRNA\n",
       " 0  NONHSAT000002.2  hsa-miR-15a-5p\n",
       " 1  NONHSAT000002.2  hsa-miR-15a-3p\n",
       " 2  NONHSAT000002.2   hsa-miR-16-5p\n",
       " 3  NONHSAT000002.2   hsa-miR-21-3p\n",
       " 4  NONHSAT000002.2   hsa-miR-28-5p,\n",
       "           miRNA                    Disease\n",
       " 0  hsa-let-7a-1  Abdominal aortic aneurysm\n",
       " 1  hsa-let-7a-2  Abdominal aortic aneurysm\n",
       " 2  hsa-let-7a-3  Abdominal aortic aneurysm\n",
       " 3    hsa-let-7c  Abdominal aortic aneurysm\n",
       " 4    hsa-let-7d  Abdominal aortic aneurysm)"
      ]
     },
     "execution_count": 4,
     "metadata": {},
     "output_type": "execute_result"
    }
   ],
   "source": [
    "\n",
    "df_lnc_die.head(),df_lnc_mir.head(),df_mir_die.head()"
   ]
  },
  {
   "cell_type": "code",
   "execution_count": 5,
   "metadata": {},
   "outputs": [],
   "source": [
    "dataset1 = pd.merge(df_lnc_mir,df_lnc_die,on=['lncRNA'],how='inner')\n",
    "dataset2 = pd.merge(df_lnc_mir,df_mir_die,on=['miRNA'],how='inner')"
   ]
  },
  {
   "cell_type": "code",
   "execution_count": 6,
   "metadata": {},
   "outputs": [],
   "source": [
    "# dataset1"
   ]
  },
  {
   "cell_type": "code",
   "execution_count": 7,
   "metadata": {},
   "outputs": [
    {
     "data": {
      "text/html": [
       "<div>\n",
       "<style scoped>\n",
       "    .dataframe tbody tr th:only-of-type {\n",
       "        vertical-align: middle;\n",
       "    }\n",
       "\n",
       "    .dataframe tbody tr th {\n",
       "        vertical-align: top;\n",
       "    }\n",
       "\n",
       "    .dataframe thead th {\n",
       "        text-align: right;\n",
       "    }\n",
       "</style>\n",
       "<table border=\"1\" class=\"dataframe\">\n",
       "  <thead>\n",
       "    <tr style=\"text-align: right;\">\n",
       "      <th></th>\n",
       "      <th>lncRNA</th>\n",
       "      <th>miRNA</th>\n",
       "      <th>Disease</th>\n",
       "    </tr>\n",
       "  </thead>\n",
       "  <tbody>\n",
       "    <tr>\n",
       "      <th>0</th>\n",
       "      <td>NONHSAT000002.2</td>\n",
       "      <td>hsa-miR-15a-5p</td>\n",
       "      <td>Abortion habitual</td>\n",
       "    </tr>\n",
       "    <tr>\n",
       "      <th>1</th>\n",
       "      <td>NONHSAT000002.2</td>\n",
       "      <td>hsa-miR-15a-5p</td>\n",
       "      <td>Acoustic neuroma</td>\n",
       "    </tr>\n",
       "    <tr>\n",
       "      <th>2</th>\n",
       "      <td>NONHSAT000002.2</td>\n",
       "      <td>hsa-miR-15a-5p</td>\n",
       "      <td>Acquired immunodeficiency syndrome</td>\n",
       "    </tr>\n",
       "    <tr>\n",
       "      <th>3</th>\n",
       "      <td>NONHSAT000002.2</td>\n",
       "      <td>hsa-miR-15a-5p</td>\n",
       "      <td>Acute coronary syndrome</td>\n",
       "    </tr>\n",
       "    <tr>\n",
       "      <th>4</th>\n",
       "      <td>NONHSAT000002.2</td>\n",
       "      <td>hsa-miR-15a-5p</td>\n",
       "      <td>Acute kidney failure</td>\n",
       "    </tr>\n",
       "    <tr>\n",
       "      <th>...</th>\n",
       "      <td>...</td>\n",
       "      <td>...</td>\n",
       "      <td>...</td>\n",
       "    </tr>\n",
       "    <tr>\n",
       "      <th>9376652</th>\n",
       "      <td>NONHSAT017163.2</td>\n",
       "      <td>hsa-miR-523-3p</td>\n",
       "      <td>Intellectual disability</td>\n",
       "    </tr>\n",
       "    <tr>\n",
       "      <th>9376653</th>\n",
       "      <td>NONHSAT017163.2</td>\n",
       "      <td>hsa-miR-523-3p</td>\n",
       "      <td>Leukemia</td>\n",
       "    </tr>\n",
       "    <tr>\n",
       "      <th>9376654</th>\n",
       "      <td>NONHSAT017163.2</td>\n",
       "      <td>hsa-miR-523-3p</td>\n",
       "      <td>Neurodegenerative diseases</td>\n",
       "    </tr>\n",
       "    <tr>\n",
       "      <th>9376655</th>\n",
       "      <td>NONHSAT017163.2</td>\n",
       "      <td>hsa-miR-523-3p</td>\n",
       "      <td>Skin disease</td>\n",
       "    </tr>\n",
       "    <tr>\n",
       "      <th>9376656</th>\n",
       "      <td>NONHSAT017163.2</td>\n",
       "      <td>hsa-miR-523-3p</td>\n",
       "      <td>Vascular diseases</td>\n",
       "    </tr>\n",
       "  </tbody>\n",
       "</table>\n",
       "<p>9376657 rows × 3 columns</p>\n",
       "</div>"
      ],
      "text/plain": [
       "                  lncRNA           miRNA                             Disease\n",
       "0        NONHSAT000002.2  hsa-miR-15a-5p                   Abortion habitual\n",
       "1        NONHSAT000002.2  hsa-miR-15a-5p                    Acoustic neuroma\n",
       "2        NONHSAT000002.2  hsa-miR-15a-5p  Acquired immunodeficiency syndrome\n",
       "3        NONHSAT000002.2  hsa-miR-15a-5p             Acute coronary syndrome\n",
       "4        NONHSAT000002.2  hsa-miR-15a-5p                Acute kidney failure\n",
       "...                  ...             ...                                 ...\n",
       "9376652  NONHSAT017163.2  hsa-miR-523-3p             Intellectual disability\n",
       "9376653  NONHSAT017163.2  hsa-miR-523-3p                            Leukemia\n",
       "9376654  NONHSAT017163.2  hsa-miR-523-3p          Neurodegenerative diseases\n",
       "9376655  NONHSAT017163.2  hsa-miR-523-3p                        Skin disease\n",
       "9376656  NONHSAT017163.2  hsa-miR-523-3p                   Vascular diseases\n",
       "\n",
       "[9376657 rows x 3 columns]"
      ]
     },
     "execution_count": 7,
     "metadata": {},
     "output_type": "execute_result"
    }
   ],
   "source": [
    "dataset2"
   ]
  },
  {
   "cell_type": "code",
   "execution_count": 8,
   "metadata": {},
   "outputs": [],
   "source": [
    "df = dataset2.copy()\n",
    "# df"
   ]
  },
  {
   "cell_type": "code",
   "execution_count": 9,
   "metadata": {},
   "outputs": [],
   "source": [
    "df = dataset2.copy()"
   ]
  },
  {
   "cell_type": "code",
   "execution_count": 10,
   "metadata": {},
   "outputs": [],
   "source": [
    "# # only run this for first time \n",
    "# disease = df['Disease'].unique()\n",
    "# lncRNA = df['lncRNA'].unique()\n",
    "# miRNA = df['miRNA'].unique()\n",
    "\n",
    "# np.savetxt(\"./disease.txt\",disease,delimiter=',',fmt='%s')\n",
    "# np.savetxt(\"./lncRNA.txt\",lncRNA,delimiter=',',fmt='%s')\n",
    "# np.savetxt(\"./miRNA.txt\",miRNA,delimiter=',',fmt='%s')"
   ]
  },
  {
   "cell_type": "code",
   "execution_count": 11,
   "metadata": {},
   "outputs": [],
   "source": [
    "disease = [a[:-1] for a in open(\"./disease.txt\").readlines()]\n",
    "lncRNA = [a[:-1] for a in open(\"./lncRNA.txt\").readlines()]\n",
    "miRNA = [a[:-1] for a in open(\"./miRNA.txt\").readlines()]"
   ]
  },
  {
   "cell_type": "code",
   "execution_count": 12,
   "metadata": {},
   "outputs": [
    {
     "data": {
      "text/plain": [
       "(7554, 239, 514)"
      ]
     },
     "execution_count": 12,
     "metadata": {},
     "output_type": "execute_result"
    }
   ],
   "source": [
    "len(lncRNA),len(miRNA),len(disease)"
   ]
  },
  {
   "cell_type": "code",
   "execution_count": 13,
   "metadata": {},
   "outputs": [],
   "source": [
    "lncRNA_index = {a:b for (a,b) in zip(lncRNA,range(len(lncRNA)))}\n",
    "disease_index = {a:b for (a,b) in zip(disease,range(len(disease)))}\n",
    "miRNA_index = {a:b for (a,b) in zip(miRNA,range(len(miRNA)))}"
   ]
  },
  {
   "cell_type": "code",
   "execution_count": 14,
   "metadata": {},
   "outputs": [],
   "source": [
    "# len(df['lncRNA'].unique()),len(df['miRNA'].unique()),len(df['Disease'].unique()),"
   ]
  },
  {
   "cell_type": "markdown",
   "metadata": {},
   "source": [
    "CReation of the graph that contains the totaly connected with miRNA, lncRNA, Disease"
   ]
  },
  {
   "cell_type": "code",
   "execution_count": 15,
   "metadata": {},
   "outputs": [],
   "source": [
    "LM_Graph = nx.Graph()\n",
    "MD_Graph = nx.Graph()\n",
    "LD_Graph = nx.Graph()\n",
    "\n",
    "LM_Graph.add_nodes_from(lncRNA)\n",
    "LM_Graph.add_nodes_from(miRNA)\n",
    "\n",
    "LD_Graph.add_nodes_from(lncRNA)\n",
    "LD_Graph.add_nodes_from(disease)\n",
    "\n",
    "MD_Graph.add_nodes_from(miRNA)\n",
    "MD_Graph.add_nodes_from(disease)"
   ]
  },
  {
   "cell_type": "code",
   "execution_count": 16,
   "metadata": {},
   "outputs": [],
   "source": [
    "for a in df.values:\n",
    "    LM_Graph.add_edge(a[0],a[1])\n",
    "    MD_Graph.add_edge(a[1],a[2])\n",
    "    LD_Graph.add_edge(a[0],a[2])"
   ]
  },
  {
   "cell_type": "markdown",
   "metadata": {},
   "source": [
    "CReation of the Lncrna-disease , Lncrna-miRNA, miRNA-Disease assoction matrix (LM,LD,MD)"
   ]
  },
  {
   "cell_type": "code",
   "execution_count": 17,
   "metadata": {},
   "outputs": [],
   "source": [
    "LM_index = {a:b for (a,b) in zip(LM_Graph.nodes(),range(len(LM_Graph.nodes())))}\n",
    "MD_index = {a:b for (a,b) in zip(MD_Graph.nodes(),range(len(MD_Graph.nodes())))}\n",
    "LD_index = {a:b for (a,b) in zip(LD_Graph.nodes(),range(len(LD_Graph.nodes())))}"
   ]
  },
  {
   "cell_type": "code",
   "execution_count": 18,
   "metadata": {},
   "outputs": [],
   "source": [
    "LM_M_A = nx.adjacency_matrix(LM_Graph).todense()\n",
    "MD_M_A = nx.adjacency_matrix(MD_Graph).todense()\n",
    "LD_M_A = nx.adjacency_matrix(LD_Graph).todense()"
   ]
  },
  {
   "cell_type": "code",
   "execution_count": 19,
   "metadata": {},
   "outputs": [],
   "source": [
    "LM_M = np.zeros(shape=(len(lncRNA),len(miRNA)),dtype=int)\n",
    "MD_M = np.zeros(shape=(len(miRNA), len(disease)),dtype=int)\n",
    "LD_M = np.zeros(shape=(len(lncRNA), len(disease)),dtype=int)"
   ]
  },
  {
   "cell_type": "code",
   "execution_count": 20,
   "metadata": {},
   "outputs": [
    {
     "data": {
      "text/plain": [
       "array([[1, 1, 1, ..., 0, 0, 0],\n",
       "       [1, 1, 1, ..., 0, 0, 0],\n",
       "       [1, 1, 1, ..., 0, 0, 0],\n",
       "       ...,\n",
       "       [0, 0, 0, ..., 0, 0, 0],\n",
       "       [0, 0, 0, ..., 0, 0, 0],\n",
       "       [0, 0, 0, ..., 0, 0, 0]])"
      ]
     },
     "execution_count": 20,
     "metadata": {},
     "output_type": "execute_result"
    }
   ],
   "source": [
    "for a in range(len(lncRNA)):\n",
    "    for b in range(len(disease)):\n",
    "        LD_M[a][b] = LD_M_A[LD_index[lncRNA[a]]][LD_index[disease[b]]]\n",
    "LD_M"
   ]
  },
  {
   "cell_type": "code",
   "execution_count": 21,
   "metadata": {},
   "outputs": [
    {
     "data": {
      "text/plain": [
       "array([[1, 1, 1, ..., 0, 0, 0],\n",
       "       [1, 1, 1, ..., 0, 0, 0],\n",
       "       [1, 0, 1, ..., 0, 0, 0],\n",
       "       ...,\n",
       "       [0, 0, 0, ..., 0, 0, 0],\n",
       "       [0, 0, 0, ..., 0, 0, 0],\n",
       "       [0, 0, 0, ..., 0, 0, 0]])"
      ]
     },
     "execution_count": 21,
     "metadata": {},
     "output_type": "execute_result"
    }
   ],
   "source": [
    "for a in range(len(lncRNA)):\n",
    "    for b in range(len(miRNA)):\n",
    "        LM_M[a][b] = LM_M_A[LM_index[lncRNA[a]]][LM_index[miRNA[b]]]\n",
    "LM_M"
   ]
  },
  {
   "cell_type": "code",
   "execution_count": 22,
   "metadata": {},
   "outputs": [
    {
     "data": {
      "text/plain": [
       "array([[1, 1, 1, ..., 0, 0, 0],\n",
       "       [0, 0, 0, ..., 0, 0, 0],\n",
       "       [1, 1, 1, ..., 0, 0, 0],\n",
       "       ...,\n",
       "       [0, 0, 0, ..., 0, 0, 0],\n",
       "       [0, 0, 0, ..., 0, 0, 0],\n",
       "       [0, 0, 0, ..., 0, 0, 0]])"
      ]
     },
     "execution_count": 22,
     "metadata": {},
     "output_type": "execute_result"
    }
   ],
   "source": [
    "for a in range(len(miRNA)):\n",
    "    for b in range(len(disease)):\n",
    "        MD_M[a][b] = MD_M_A[MD_index[miRNA[a]]][MD_index[disease[b]]]\n",
    "MD_M"
   ]
  },
  {
   "cell_type": "code",
   "execution_count": 23,
   "metadata": {},
   "outputs": [
    {
     "data": {
      "text/plain": [
       "array([[5, 6, 6, ..., 0, 0, 0],\n",
       "       [3, 5, 5, ..., 0, 0, 0],\n",
       "       [7, 9, 7, ..., 0, 0, 0],\n",
       "       ...,\n",
       "       [0, 0, 0, ..., 0, 0, 0],\n",
       "       [0, 0, 0, ..., 0, 0, 0],\n",
       "       [0, 0, 0, ..., 0, 0, 0]])"
      ]
     },
     "execution_count": 23,
     "metadata": {},
     "output_type": "execute_result"
    }
   ],
   "source": [
    "LD = LM_M.dot(MD_M)\n",
    "LD"
   ]
  },
  {
   "cell_type": "code",
   "execution_count": 24,
   "metadata": {},
   "outputs": [],
   "source": [
    "# # run this if CD.csv is not found in the current folder(runs for seconds)\n",
    "# CD = np.zeros(shape=(len(disease),len(disease)))\n",
    "# for i in range(len(disease)):\n",
    "#     for j in range(len(disease)):\n",
    "#         CD[i][j] = (MD_M[:,i].dot(MD_M[:,j]))/(norm(MD_M[:,i])*norm(MD_M[:,j]))\n",
    "# np.savetxt(\"CD.csv\",CD,delimiter=',',fmt='%.5f')"
   ]
  },
  {
   "cell_type": "code",
   "execution_count": 25,
   "metadata": {},
   "outputs": [],
   "source": [
    "CD = np.loadtxt(\"CD.csv\",delimiter=',',dtype=float)"
   ]
  },
  {
   "cell_type": "code",
   "execution_count": 26,
   "metadata": {},
   "outputs": [],
   "source": [
    "# # run this if CL.csv not found in the current folder(run for 8 min )\n",
    "# CL = np.zeros(shape=(len(lncRNA),len(lncRNA)))\n",
    "# for i in range(len(lncRNA)):\n",
    "#     for j in range(len(lncRNA)):\n",
    "#         CL[i][j] = (LM_M[i,:].dot(LM_M[j,:]))/(norm(LM_M[i,:])*norm(LM_M[j,:]))\n",
    "# np.savetxt(\"CL.csv\",CL,delimiter=',',fmt=\"%.5f\")"
   ]
  },
  {
   "cell_type": "code",
   "execution_count": 27,
   "metadata": {},
   "outputs": [],
   "source": [
    "CL = np.loadtxt(\"./CL.csv\",delimiter=',',dtype=float)"
   ]
  },
  {
   "cell_type": "code",
   "execution_count": 28,
   "metadata": {},
   "outputs": [],
   "source": [
    "JD = np.zeros(shape=CD.shape)\n",
    "for i in range(MD_M.shape[-1]):\n",
    "    for j in range(MD_M.shape[-1]):\n",
    "        JD[i][j] =(np.bitwise_and(MD_M[:,i],MD_M[:,j]).sum())/(np.bitwise_or(MD_M[:,i],MD_M[:,j]).sum())\n",
    "        "
   ]
  },
  {
   "cell_type": "code",
   "execution_count": 29,
   "metadata": {},
   "outputs": [
    {
     "data": {
      "text/plain": [
       "array([[1.        , 0.28849315, 1.        , ..., 0.        , 0.        ,\n",
       "        0.        ],\n",
       "       [0.28849315, 1.        , 0.28849315, ..., 0.        , 0.        ,\n",
       "        0.        ],\n",
       "       [1.        , 0.28849315, 1.        , ..., 0.        , 0.        ,\n",
       "        0.        ],\n",
       "       ...,\n",
       "       [0.        , 0.        , 0.        , ..., 0.        , 0.        ,\n",
       "        0.        ],\n",
       "       [0.        , 0.        , 0.        , ..., 0.        , 0.        ,\n",
       "        0.        ],\n",
       "       [0.        , 0.        , 0.        , ..., 0.        , 0.        ,\n",
       "        0.        ]])"
      ]
     },
     "execution_count": 29,
     "metadata": {},
     "output_type": "execute_result"
    }
   ],
   "source": [
    "JL = np.zeros(shape=CL.shape)\n",
    "for i in range(LM_M.shape[-1]):\n",
    "    for j in range(LM_M.shape[-1]):\n",
    "        JL[i][j] =(np.bitwise_and(LM_M[:,i],LM_M[:,j]).sum())/(np.bitwise_or(LM_M[:,i],LM_M[:,j]).sum())\n",
    "JL      "
   ]
  },
  {
   "cell_type": "code",
   "execution_count": 30,
   "metadata": {},
   "outputs": [
    {
     "data": {
      "text/plain": [
       "array([[1.        , 0.73534833, 0.62628227, ..., 0.        , 0.        ,\n",
       "        0.        ],\n",
       "       [0.73534833, 1.        , 0.79003636, ..., 0.19620955, 0.19620955,\n",
       "        0.        ],\n",
       "       [0.62628227, 0.79003636, 1.        , ..., 0.        , 0.        ,\n",
       "        0.        ],\n",
       "       ...,\n",
       "       [0.        , 0.19620955, 0.        , ..., 1.        , 1.        ,\n",
       "        0.        ],\n",
       "       [0.        , 0.19620955, 0.        , ..., 1.        , 1.        ,\n",
       "        0.        ],\n",
       "       [0.        , 0.        , 0.        , ..., 0.        , 0.        ,\n",
       "        1.        ]])"
      ]
     },
     "execution_count": 30,
     "metadata": {},
     "output_type": "execute_result"
    }
   ],
   "source": [
    "IDS = np.zeros(shape=CD.shape)\n",
    "for i in range(IDS.shape[0]):\n",
    "    for j in range(IDS.shape[-1]):\n",
    "        if CD[i][j] == 0:\n",
    "            IDS[i][j] = JD[i][j]\n",
    "        else:\n",
    "            IDS[i][j] = (CD[i][j]+JD[i][j])/2\n",
    "IDS"
   ]
  },
  {
   "cell_type": "code",
   "execution_count": 31,
   "metadata": {},
   "outputs": [
    {
     "data": {
      "text/plain": [
       "array([[1.        , 0.50909658, 0.80073   , ..., 0.        , 0.        ,\n",
       "        0.        ],\n",
       "       [0.50909658, 1.        , 0.42427158, ..., 0.        , 0.        ,\n",
       "        0.        ],\n",
       "       [0.80073   , 0.42427158, 1.        , ..., 0.        , 0.        ,\n",
       "        0.        ],\n",
       "       ...,\n",
       "       [0.        , 0.        , 0.        , ..., 0.5       , 0.        ,\n",
       "        0.        ],\n",
       "       [0.        , 0.        , 0.        , ..., 0.        , 0.5       ,\n",
       "        0.        ],\n",
       "       [0.        , 0.        , 0.        , ..., 0.        , 0.        ,\n",
       "        0.5       ]])"
      ]
     },
     "execution_count": 31,
     "metadata": {},
     "output_type": "execute_result"
    }
   ],
   "source": [
    "ILS = np.zeros(shape=CL.shape)\n",
    "for i in range(ILS.shape[0]):\n",
    "    for j in range(ILS.shape[-1]):\n",
    "        if CL[i][j] == 0:\n",
    "            ILS[i][j] = JL[i][j]\n",
    "        else:\n",
    "            ILS[i][j] = (CL[i][j]+JL[i][j])/2\n",
    "ILS"
   ]
  },
  {
   "cell_type": "markdown",
   "metadata": {},
   "source": [
    "Latent Factor model"
   ]
  },
  {
   "cell_type": "code",
   "execution_count": 32,
   "metadata": {},
   "outputs": [
    {
     "data": {
      "text/plain": [
       "(array([[-0.10887869,  0.71874924,  0.54794388, ...,  0.86783393,\n",
       "          0.34264394,  0.92889968],\n",
       "        [ 0.55383726,  0.71252567,  0.0358579 , ...,  0.20309468,\n",
       "          0.62127407,  0.10882719],\n",
       "        [ 0.38746658,  0.40142333, -0.05681061, ...,  0.19700902,\n",
       "          0.66834957,  0.72888791],\n",
       "        ...,\n",
       "        [ 0.69531288,  0.45967472,  0.48131638, ...,  0.62085319,\n",
       "         -0.04323075,  0.23514511],\n",
       "        [ 0.69023068,  0.08500198,  0.32237006, ...,  0.7736614 ,\n",
       "          0.03276832,  0.37028222],\n",
       "        [ 0.14975292,  0.77085833,  0.69013318, ...,  0.07962154,\n",
       "          0.44435263,  0.37005895]]),\n",
       " array([[-0.00180948, -0.02418715, -0.12380948, ...,  0.13567333,\n",
       "          0.13630882,  0.25498192],\n",
       "        [-0.10490747,  0.26073576, -0.07718649, ...,  0.18661851,\n",
       "          0.09522728,  0.28390443],\n",
       "        [ 0.13712432,  0.16402841, -0.11809017, ...,  0.1215083 ,\n",
       "         -0.0059968 ,  0.33439036],\n",
       "        ...,\n",
       "        [ 0.11215303, -0.02123449, -0.07614283, ..., -0.00392631,\n",
       "         -0.03442524, -0.04669594],\n",
       "        [-0.12926361,  0.14464346,  0.05796729, ..., -0.13197382,\n",
       "         -0.02836079, -0.08354391],\n",
       "        [-0.05330994, -0.11041125,  0.01134876, ..., -0.06554321,\n",
       "          0.03585689, -0.05581286]]),\n",
       " array([[ 5.24010422,  6.11456048,  5.49166702, ...,  0.28887307,\n",
       "          0.63179284,  0.10974978],\n",
       "        [ 2.91171846,  4.51155354,  3.14142045, ...,  0.27250161,\n",
       "         -0.0113086 ,  0.48516344],\n",
       "        [ 5.89283845,  6.37850385,  4.9467648 , ...,  0.17587505,\n",
       "         -0.38531866,  0.2984631 ],\n",
       "        ...,\n",
       "        [ 0.23211561,  0.16337484, -0.39859304, ...,  0.57161009,\n",
       "         -0.01013042,  0.28207755],\n",
       "        [ 0.62558325,  0.81397194,  0.80668614, ..., -0.62619441,\n",
       "          0.19885529, -0.23072097],\n",
       "        [-1.13559879, -0.99223226, -0.99734781, ...,  0.23959647,\n",
       "          0.3148985 ,  0.52598387]]))"
      ]
     },
     "execution_count": 32,
     "metadata": {},
     "output_type": "execute_result"
    }
   ],
   "source": [
    "def latent_factor_model(ALM, AMD, k, alpha=2*10**-6, lmbda=4*10**-5, max_iter=1000):\n",
    "    \"\"\"\n",
    "    Latent factor model for calculating lncRNA-disease associations.\n",
    "\n",
    "    Args:\n",
    "        ALM (numpy.ndarray): Adjacency matrix of lncRNA-miRNA associations (m x n).\n",
    "        AMD (numpy.ndarray): Adjacency matrix of miRNA-disease associations (n x e).\n",
    "        k (int): Number of latent factors.\n",
    "        alpha (float): Learning rate for gradient descent.\n",
    "        lmbda (float): Regularization parameter.\n",
    "        max_iter (int): Maximum number of iterations for gradient descent.\n",
    "\n",
    "    Returns:\n",
    "        X (numpy.ndarray): lncRNA feature matrix (m x k).\n",
    "        Y (numpy.ndarray): Disease feature matrix (e x k).\n",
    "        psi (numpy.ndarray): lncRNA-disease association score matrix (m x e).\n",
    "    \"\"\"\n",
    "\n",
    "\n",
    "    # Calculate the preliminary lncRNA-disease association matrix\n",
    "    ALD = ALM @ AMD\n",
    "\n",
    "    m = ALD.shape[0]\n",
    "    e = ALD.shape[1]\n",
    "\n",
    "    # Initialize feature matrices randomly\n",
    "    X = np.random.rand(m, k)\n",
    "    Y = np.random.rand(e, k)\n",
    "\n",
    "    for _ in range(max_iter):\n",
    "        # Calculate the lncRNA-disease association score matrix\n",
    "        psi = X @ Y.T   \n",
    "\n",
    "        # Calculate the loss function and gradients\n",
    "        # loss = np.sum((psi - ALD) ** 2) + lmbda * (np.sum(norm(X)) + np.sum(norm(Y)))\n",
    "        grad_X = 2 * (psi - ALD) @ Y +  lmbda * X\n",
    "        grad_Y = 2 * (psi - ALD).T @ X + lmbda * Y\n",
    "\n",
    "        # Update feature matrices using gradient descent\n",
    "        X -= alpha * grad_X\n",
    "        Y -= alpha * grad_Y\n",
    "\n",
    "    return X, Y, psi\n",
    "X,Y,phi = latent_factor_model(LM_M,MD_M,213,max_iter=500)\n",
    "X,Y,phi"
   ]
  },
  {
   "cell_type": "code",
   "execution_count": 33,
   "metadata": {},
   "outputs": [
    {
     "data": {
      "text/plain": [
       "array([[ 5.24010422,  6.11456048,  5.49166702, ...,  0.28887307,\n",
       "         0.63179284,  0.10974978],\n",
       "       [ 2.91171846,  4.51155354,  3.14142045, ...,  0.27250161,\n",
       "        -0.0113086 ,  0.48516344],\n",
       "       [ 5.89283845,  6.37850385,  4.9467648 , ...,  0.17587505,\n",
       "        -0.38531866,  0.2984631 ],\n",
       "       ...,\n",
       "       [ 0.23211561,  0.16337484, -0.39859304, ...,  0.57161009,\n",
       "        -0.01013042,  0.28207755],\n",
       "       [ 0.62558325,  0.81397194,  0.80668614, ..., -0.62619441,\n",
       "         0.19885529, -0.23072097],\n",
       "       [-1.13559879, -0.99223226, -0.99734781, ...,  0.23959647,\n",
       "         0.3148985 ,  0.52598387]])"
      ]
     },
     "execution_count": 33,
     "metadata": {},
     "output_type": "execute_result"
    }
   ],
   "source": [
    "phi"
   ]
  },
  {
   "cell_type": "code",
   "execution_count": 34,
   "metadata": {},
   "outputs": [
    {
     "data": {
      "text/plain": [
       "((7554, 7554), (7554, 514), 7554)"
      ]
     },
     "execution_count": 34,
     "metadata": {},
     "output_type": "execute_result"
    }
   ],
   "source": [
    "ILS.shape, phi.shape,len(lncRNA)"
   ]
  },
  {
   "cell_type": "code",
   "execution_count": 35,
   "metadata": {},
   "outputs": [
    {
     "data": {
      "text/plain": [
       "array([[4.29890449e+00, 5.08239611e+00, 4.16517132e+00, ...,\n",
       "        1.51868339e-01, 1.51380589e-01, 1.20890090e-01],\n",
       "       [3.37735751e+00, 4.01327802e+00, 3.28571330e+00, ...,\n",
       "        1.18278448e-01, 1.19310907e-01, 8.97079169e-02],\n",
       "       [3.33009552e+00, 3.96214686e+00, 3.23916482e+00, ...,\n",
       "        1.16699422e-01, 1.14780386e-01, 8.65767637e-02],\n",
       "       ...,\n",
       "       [5.78164964e+01, 6.79030366e+01, 5.53581320e+01, ...,\n",
       "        2.17227007e+00, 2.03853918e+00, 1.64702951e+00],\n",
       "       [9.98614172e+01, 1.17142978e+02, 9.57408870e+01, ...,\n",
       "        3.66465950e+00, 3.17721548e+00, 2.76927389e+00],\n",
       "       [1.55067872e+02, 1.81307105e+02, 1.48838335e+02, ...,\n",
       "        5.61686869e+00, 5.70503303e+00, 4.07849679e+00]])"
      ]
     },
     "execution_count": 35,
     "metadata": {},
     "output_type": "execute_result"
    }
   ],
   "source": [
    "LP = np.zeros(shape=LD_M.shape)\n",
    "for i in range(LP.shape[0]):\n",
    "    for j in range(len(lncRNA)):\n",
    "        LP[i,:] += ILS[i,j]*phi[j,:] \n",
    "    LP[i,:] /= norm(ILS[i:]) \n",
    "LP"
   ]
  },
  {
   "cell_type": "code",
   "execution_count": 36,
   "metadata": {},
   "outputs": [
    {
     "data": {
      "text/plain": [
       "array([[ 1.12598798e+02,  1.14026681e+02,  1.12613921e+02, ...,\n",
       "         4.61909199e+01,  4.61909199e+01,  2.66765388e+01],\n",
       "       [ 7.30954516e+01,  7.40895527e+01,  7.29146077e+01, ...,\n",
       "         3.00102784e+01,  3.00102784e+01,  1.54118786e+01],\n",
       "       [ 1.09747713e+02,  1.11424807e+02,  1.09809051e+02, ...,\n",
       "         4.60359910e+01,  4.60359910e+01,  1.77681567e+01],\n",
       "       ...,\n",
       "       [ 3.99610570e+00,  4.14096882e+00,  3.90620051e+00, ...,\n",
       "         2.09657088e+00,  2.09657088e+00,  2.30232542e-02],\n",
       "       [ 8.29894441e+00,  8.30458941e+00,  8.31122919e+00, ...,\n",
       "         3.36000774e+00,  3.36000774e+00, -4.60077520e-01],\n",
       "       [-1.15048925e+01, -1.15995894e+01, -1.16068961e+01, ...,\n",
       "        -4.00237143e+00, -4.00237143e+00,  8.59334505e-01]])"
      ]
     },
     "execution_count": 36,
     "metadata": {},
     "output_type": "execute_result"
    }
   ],
   "source": [
    "DP = np.zeros(shape=LD_M.shape)\n",
    "for j in range(DP.shape[1]):\n",
    "    for i in range(len(disease)):\n",
    "        DP[:,j] += IDS[i,j]*phi[:,i]\n",
    "    DP[:,j] /= norm(IDS[:,j])\n",
    "DP"
   ]
  },
  {
   "cell_type": "code",
   "execution_count": 37,
   "metadata": {},
   "outputs": [
    {
     "data": {
      "text/plain": [
       "((7554, 514), (7554, 514), (7554, 7554), (514, 514))"
      ]
     },
     "execution_count": 37,
     "metadata": {},
     "output_type": "execute_result"
    }
   ],
   "source": [
    "LP.shape,DP.shape,ILS.shape,IDS.shape"
   ]
  },
  {
   "cell_type": "code",
   "execution_count": 38,
   "metadata": {},
   "outputs": [
    {
     "data": {
      "text/plain": [
       "array([[1.72827438, 1.76824752, 1.83230754, ..., 0.96478684, 0.96477669,\n",
       "        0.61254381],\n",
       "       [1.30210845, 1.3361978 , 1.3898843 , ..., 0.77004289, 0.77006928,\n",
       "        0.44494456],\n",
       "       [1.95032835, 1.99975931, 2.09062787, ..., 1.20268572, 1.20263571,\n",
       "        0.52377987],\n",
       "       ...,\n",
       "       [1.94998829, 2.29289632, 2.13227728, ..., 0.35294867, 0.34189177,\n",
       "        0.21388057],\n",
       "       [3.17154247, 3.70872798, 3.44562284, ..., 0.48448569, 0.45086706,\n",
       "        0.22610859],\n",
       "       [4.31162475, 5.13980359, 4.66905763, ..., 0.11791058, 0.12434944,\n",
       "        0.52496019]])"
      ]
     },
     "execution_count": 38,
     "metadata": {},
     "output_type": "execute_result"
    }
   ],
   "source": [
    "LFMP = np.zeros(shape=LD_M.shape)\n",
    "w = 0.50\n",
    "for i in range(LFMP.shape[0]):\n",
    "    for j in range(LFMP.shape[1]):\n",
    "        LFMP[i][j] = (w*LP[i][j] + (1-w)*DP[i][j])/(norm(ILS[i,:])+norm(IDS[:,j]))\n",
    "LFMP"
   ]
  },
  {
   "cell_type": "code",
   "execution_count": 39,
   "metadata": {},
   "outputs": [
    {
     "data": {
      "text/plain": [
       "0.8565399772219366"
      ]
     },
     "execution_count": 39,
     "metadata": {},
     "output_type": "execute_result"
    }
   ],
   "source": [
    "LFMP[lncRNA_index['NONHSAT006834.2']][disease_index['Ganglioneuroma']]"
   ]
  }
 ],
 "metadata": {
  "kernelspec": {
   "display_name": "Python 3",
   "language": "python",
   "name": "python3"
  },
  "language_info": {
   "codemirror_mode": {
    "name": "ipython",
    "version": 3
   },
   "file_extension": ".py",
   "mimetype": "text/x-python",
   "name": "python",
   "nbconvert_exporter": "python",
   "pygments_lexer": "ipython3",
   "version": "3.11.4"
  }
 },
 "nbformat": 4,
 "nbformat_minor": 2
}
