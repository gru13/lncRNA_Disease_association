{
 "cells": [
  {
   "cell_type": "code",
   "execution_count": 1,
   "metadata": {},
   "outputs": [],
   "source": [
    "import pandas as pd\n",
    "import numpy as np\n",
    "import networkx as nx \n",
    "from numpy.linalg import norm"
   ]
  },
  {
   "cell_type": "code",
   "execution_count": 2,
   "metadata": {},
   "outputs": [],
   "source": [
    "# # from colab run this \n",
    "# !git clone https://github.com/gru13/lncRNA_Disease_association.git\n",
    "# df_lnc_die = pd.read_csv(r\"./lncRNA_Disease_association/datasets/lncrnaDiesease3/website_alldata_p1.csv\")\n",
    "# df_lnc_mir = pd.read_csv(r\"./lncRNA_Disease_association/datasets/LncRNASNP/Homo_sapiens_lncRNA_miRNA_interactions.csv\")\n",
    "# df_mir_die = pd.read_csv(r\"./lncRNA_Disease_association/datasets/rnaDisease/RNADisease_RNA-disease_miRNA_predict.csv\")"
   ]
  },
  {
   "cell_type": "code",
   "execution_count": 3,
   "metadata": {},
   "outputs": [],
   "source": [
    "# from local system\n",
    "\n",
    "df_lnc_die = pd.read_csv(r\"./../datasets/lncrnaDiesease3/website_alldata_p1.csv\")\n",
    "df_lnc_mir = pd.read_csv(r\"./../datasets/LncRNASNP/Homo_sapiens_lncRNA_miRNA_interactions.csv\")\n",
    "df_mir_die = pd.read_csv(r\"./../datasets/rnaDisease/RNADisease_RNA-disease_miRNA_predict.csv\")\n"
   ]
  },
  {
   "cell_type": "code",
   "execution_count": 4,
   "metadata": {},
   "outputs": [
    {
     "data": {
      "text/plain": [
       "(        lncRNA                    Disease  PubMed ID\n",
       " 0  ARHGAP5-AS1  Carcinoma, Hepatocellular   36354136\n",
       " 1       HOTTIP               Osteosarcoma   33475442\n",
       " 2       HOTTIP                     Glioma   35402278\n",
       " 3       HOTTIP             Retinoblastoma   33784880\n",
       " 4       HOTTIP          stomach carcinoma   32633359,\n",
       "             lncRNA           miRNA\n",
       " 0  NONHSAT000002.2  hsa-miR-15a-5p\n",
       " 1  NONHSAT000002.2  hsa-miR-15a-3p\n",
       " 2  NONHSAT000002.2   hsa-miR-16-5p\n",
       " 3  NONHSAT000002.2   hsa-miR-21-3p\n",
       " 4  NONHSAT000002.2   hsa-miR-28-5p,\n",
       "           miRNA                    Disease\n",
       " 0  hsa-let-7a-1  Abdominal aortic aneurysm\n",
       " 1  hsa-let-7a-2  Abdominal aortic aneurysm\n",
       " 2  hsa-let-7a-3  Abdominal aortic aneurysm\n",
       " 3    hsa-let-7c  Abdominal aortic aneurysm\n",
       " 4    hsa-let-7d  Abdominal aortic aneurysm)"
      ]
     },
     "execution_count": 4,
     "metadata": {},
     "output_type": "execute_result"
    }
   ],
   "source": [
    "\n",
    "df_lnc_die.head(),df_lnc_mir.head(),df_mir_die.head()"
   ]
  },
  {
   "cell_type": "code",
   "execution_count": 5,
   "metadata": {},
   "outputs": [],
   "source": [
    "dataset1 = pd.merge(df_lnc_mir,df_lnc_die,on=['lncRNA'],how='inner')\n",
    "dataset2 = pd.merge(df_lnc_mir,df_mir_die,on=['miRNA'],how='inner')"
   ]
  },
  {
   "cell_type": "code",
   "execution_count": 6,
   "metadata": {},
   "outputs": [],
   "source": [
    "# dataset1"
   ]
  },
  {
   "cell_type": "code",
   "execution_count": 7,
   "metadata": {},
   "outputs": [
    {
     "data": {
      "text/html": [
       "<div>\n",
       "<style scoped>\n",
       "    .dataframe tbody tr th:only-of-type {\n",
       "        vertical-align: middle;\n",
       "    }\n",
       "\n",
       "    .dataframe tbody tr th {\n",
       "        vertical-align: top;\n",
       "    }\n",
       "\n",
       "    .dataframe thead th {\n",
       "        text-align: right;\n",
       "    }\n",
       "</style>\n",
       "<table border=\"1\" class=\"dataframe\">\n",
       "  <thead>\n",
       "    <tr style=\"text-align: right;\">\n",
       "      <th></th>\n",
       "      <th>lncRNA</th>\n",
       "      <th>miRNA</th>\n",
       "      <th>Disease</th>\n",
       "    </tr>\n",
       "  </thead>\n",
       "  <tbody>\n",
       "    <tr>\n",
       "      <th>0</th>\n",
       "      <td>NONHSAT000002.2</td>\n",
       "      <td>hsa-miR-15a-5p</td>\n",
       "      <td>Abortion habitual</td>\n",
       "    </tr>\n",
       "    <tr>\n",
       "      <th>1</th>\n",
       "      <td>NONHSAT000002.2</td>\n",
       "      <td>hsa-miR-15a-5p</td>\n",
       "      <td>Acoustic neuroma</td>\n",
       "    </tr>\n",
       "    <tr>\n",
       "      <th>2</th>\n",
       "      <td>NONHSAT000002.2</td>\n",
       "      <td>hsa-miR-15a-5p</td>\n",
       "      <td>Acquired immunodeficiency syndrome</td>\n",
       "    </tr>\n",
       "    <tr>\n",
       "      <th>3</th>\n",
       "      <td>NONHSAT000002.2</td>\n",
       "      <td>hsa-miR-15a-5p</td>\n",
       "      <td>Acute coronary syndrome</td>\n",
       "    </tr>\n",
       "    <tr>\n",
       "      <th>4</th>\n",
       "      <td>NONHSAT000002.2</td>\n",
       "      <td>hsa-miR-15a-5p</td>\n",
       "      <td>Acute kidney failure</td>\n",
       "    </tr>\n",
       "    <tr>\n",
       "      <th>...</th>\n",
       "      <td>...</td>\n",
       "      <td>...</td>\n",
       "      <td>...</td>\n",
       "    </tr>\n",
       "    <tr>\n",
       "      <th>9376652</th>\n",
       "      <td>NONHSAT017163.2</td>\n",
       "      <td>hsa-miR-523-3p</td>\n",
       "      <td>Intellectual disability</td>\n",
       "    </tr>\n",
       "    <tr>\n",
       "      <th>9376653</th>\n",
       "      <td>NONHSAT017163.2</td>\n",
       "      <td>hsa-miR-523-3p</td>\n",
       "      <td>Leukemia</td>\n",
       "    </tr>\n",
       "    <tr>\n",
       "      <th>9376654</th>\n",
       "      <td>NONHSAT017163.2</td>\n",
       "      <td>hsa-miR-523-3p</td>\n",
       "      <td>Neurodegenerative diseases</td>\n",
       "    </tr>\n",
       "    <tr>\n",
       "      <th>9376655</th>\n",
       "      <td>NONHSAT017163.2</td>\n",
       "      <td>hsa-miR-523-3p</td>\n",
       "      <td>Skin disease</td>\n",
       "    </tr>\n",
       "    <tr>\n",
       "      <th>9376656</th>\n",
       "      <td>NONHSAT017163.2</td>\n",
       "      <td>hsa-miR-523-3p</td>\n",
       "      <td>Vascular diseases</td>\n",
       "    </tr>\n",
       "  </tbody>\n",
       "</table>\n",
       "<p>9376657 rows × 3 columns</p>\n",
       "</div>"
      ],
      "text/plain": [
       "                  lncRNA           miRNA                             Disease\n",
       "0        NONHSAT000002.2  hsa-miR-15a-5p                   Abortion habitual\n",
       "1        NONHSAT000002.2  hsa-miR-15a-5p                    Acoustic neuroma\n",
       "2        NONHSAT000002.2  hsa-miR-15a-5p  Acquired immunodeficiency syndrome\n",
       "3        NONHSAT000002.2  hsa-miR-15a-5p             Acute coronary syndrome\n",
       "4        NONHSAT000002.2  hsa-miR-15a-5p                Acute kidney failure\n",
       "...                  ...             ...                                 ...\n",
       "9376652  NONHSAT017163.2  hsa-miR-523-3p             Intellectual disability\n",
       "9376653  NONHSAT017163.2  hsa-miR-523-3p                            Leukemia\n",
       "9376654  NONHSAT017163.2  hsa-miR-523-3p          Neurodegenerative diseases\n",
       "9376655  NONHSAT017163.2  hsa-miR-523-3p                        Skin disease\n",
       "9376656  NONHSAT017163.2  hsa-miR-523-3p                   Vascular diseases\n",
       "\n",
       "[9376657 rows x 3 columns]"
      ]
     },
     "execution_count": 7,
     "metadata": {},
     "output_type": "execute_result"
    }
   ],
   "source": [
    "dataset2"
   ]
  },
  {
   "cell_type": "code",
   "execution_count": 8,
   "metadata": {},
   "outputs": [],
   "source": [
    "df = dataset2.copy()\n",
    "# df"
   ]
  },
  {
   "cell_type": "code",
   "execution_count": 9,
   "metadata": {},
   "outputs": [],
   "source": [
    "df = dataset2.copy()"
   ]
  },
  {
   "cell_type": "code",
   "execution_count": 10,
   "metadata": {},
   "outputs": [],
   "source": [
    "# # only run this for first time \n",
    "# disease = df['Disease'].unique()\n",
    "# lncRNA = df['lncRNA'].unique()\n",
    "# miRNA = df['miRNA'].unique()\n",
    "\n",
    "# np.savetxt(\"./disease.txt\",disease,delimiter=',',fmt='%s')\n",
    "# np.savetxt(\"./lncRNA.txt\",lncRNA,delimiter=',',fmt='%s')\n",
    "# np.savetxt(\"./miRNA.txt\",miRNA,delimiter=',',fmt='%s')"
   ]
  },
  {
   "cell_type": "code",
   "execution_count": 11,
   "metadata": {},
   "outputs": [],
   "source": [
    "disease = [a[:-1] for a in open(\"./disease.txt\").readlines()]\n",
    "lncRNA = [a[:-1] for a in open(\"./lncRNA.txt\").readlines()]\n",
    "miRNA = [a[:-1] for a in open(\"./miRNA.txt\").readlines()]"
   ]
  },
  {
   "cell_type": "code",
   "execution_count": 12,
   "metadata": {},
   "outputs": [
    {
     "data": {
      "text/plain": [
       "(7554, 239, 514)"
      ]
     },
     "execution_count": 12,
     "metadata": {},
     "output_type": "execute_result"
    }
   ],
   "source": [
    "len(lncRNA),len(miRNA),len(disease)"
   ]
  },
  {
   "cell_type": "code",
   "execution_count": 13,
   "metadata": {},
   "outputs": [],
   "source": [
    "lncRNA_index = {a:b for (a,b) in zip(lncRNA,range(len(lncRNA)))}\n",
    "disease_index = {a:b for (a,b) in zip(disease,range(len(disease)))}\n",
    "miRNA_index = {a:b for (a,b) in zip(miRNA,range(len(miRNA)))}"
   ]
  },
  {
   "cell_type": "code",
   "execution_count": 14,
   "metadata": {},
   "outputs": [],
   "source": [
    "# len(df['lncRNA'].unique()),len(df['miRNA'].unique()),len(df['Disease'].unique()),"
   ]
  },
  {
   "cell_type": "markdown",
   "metadata": {},
   "source": [
    "CReation of the graph that contains the totaly connected with miRNA, lncRNA, Disease"
   ]
  },
  {
   "cell_type": "code",
   "execution_count": 15,
   "metadata": {},
   "outputs": [],
   "source": [
    "LM_Graph = nx.Graph()\n",
    "MD_Graph = nx.Graph()\n",
    "LD_Graph = nx.Graph()\n",
    "\n",
    "LM_Graph.add_nodes_from(lncRNA)\n",
    "LM_Graph.add_nodes_from(miRNA)\n",
    "\n",
    "LD_Graph.add_nodes_from(lncRNA)\n",
    "LD_Graph.add_nodes_from(disease)\n",
    "\n",
    "MD_Graph.add_nodes_from(miRNA)\n",
    "MD_Graph.add_nodes_from(disease)"
   ]
  },
  {
   "cell_type": "code",
   "execution_count": 16,
   "metadata": {},
   "outputs": [],
   "source": [
    "for a in df.values:\n",
    "    LM_Graph.add_edge(a[0],a[1])\n",
    "    MD_Graph.add_edge(a[1],a[2])\n",
    "    LD_Graph.add_edge(a[0],a[2])"
   ]
  },
  {
   "cell_type": "markdown",
   "metadata": {},
   "source": [
    "CReation of the Lncrna-disease , Lncrna-miRNA, miRNA-Disease assoction matrix (LM,LD,MD)"
   ]
  },
  {
   "cell_type": "code",
   "execution_count": 17,
   "metadata": {},
   "outputs": [],
   "source": [
    "LM_index = {a:b for (a,b) in zip(LM_Graph.nodes(),range(len(LM_Graph.nodes())))}\n",
    "MD_index = {a:b for (a,b) in zip(MD_Graph.nodes(),range(len(MD_Graph.nodes())))}\n",
    "LD_index = {a:b for (a,b) in zip(LD_Graph.nodes(),range(len(LD_Graph.nodes())))}"
   ]
  },
  {
   "cell_type": "code",
   "execution_count": 18,
   "metadata": {},
   "outputs": [],
   "source": [
    "LM_M_A = nx.adjacency_matrix(LM_Graph).todense()\n",
    "MD_M_A = nx.adjacency_matrix(MD_Graph).todense()\n",
    "LD_M_A = nx.adjacency_matrix(LD_Graph).todense()"
   ]
  },
  {
   "cell_type": "code",
   "execution_count": 19,
   "metadata": {},
   "outputs": [],
   "source": [
    "LM_M = np.zeros(shape=(len(lncRNA),len(miRNA)),dtype=int)\n",
    "MD_M = np.zeros(shape=(len(miRNA), len(disease)),dtype=int)\n",
    "LD_M = np.zeros(shape=(len(lncRNA), len(disease)),dtype=int)"
   ]
  },
  {
   "cell_type": "code",
   "execution_count": 20,
   "metadata": {},
   "outputs": [
    {
     "data": {
      "text/plain": [
       "array([[1, 1, 1, ..., 0, 0, 0],\n",
       "       [1, 1, 1, ..., 0, 0, 0],\n",
       "       [1, 1, 1, ..., 0, 0, 0],\n",
       "       ...,\n",
       "       [0, 0, 0, ..., 0, 0, 0],\n",
       "       [0, 0, 0, ..., 0, 0, 0],\n",
       "       [0, 0, 0, ..., 0, 0, 0]])"
      ]
     },
     "execution_count": 20,
     "metadata": {},
     "output_type": "execute_result"
    }
   ],
   "source": [
    "for a in range(len(lncRNA)):\n",
    "    for b in range(len(disease)):\n",
    "        LD_M[a][b] = LD_M_A[LD_index[lncRNA[a]]][LD_index[disease[b]]]\n",
    "LD_M"
   ]
  },
  {
   "cell_type": "code",
   "execution_count": 21,
   "metadata": {},
   "outputs": [
    {
     "data": {
      "text/plain": [
       "array([[1, 1, 1, ..., 0, 0, 0],\n",
       "       [1, 1, 1, ..., 0, 0, 0],\n",
       "       [1, 0, 1, ..., 0, 0, 0],\n",
       "       ...,\n",
       "       [0, 0, 0, ..., 0, 0, 0],\n",
       "       [0, 0, 0, ..., 0, 0, 0],\n",
       "       [0, 0, 0, ..., 0, 0, 0]])"
      ]
     },
     "execution_count": 21,
     "metadata": {},
     "output_type": "execute_result"
    }
   ],
   "source": [
    "for a in range(len(lncRNA)):\n",
    "    for b in range(len(miRNA)):\n",
    "        LM_M[a][b] = LM_M_A[LM_index[lncRNA[a]]][LM_index[miRNA[b]]]\n",
    "LM_M"
   ]
  },
  {
   "cell_type": "code",
   "execution_count": 22,
   "metadata": {},
   "outputs": [
    {
     "data": {
      "text/plain": [
       "array([[1, 1, 1, ..., 0, 0, 0],\n",
       "       [0, 0, 0, ..., 0, 0, 0],\n",
       "       [1, 1, 1, ..., 0, 0, 0],\n",
       "       ...,\n",
       "       [0, 0, 0, ..., 0, 0, 0],\n",
       "       [0, 0, 0, ..., 0, 0, 0],\n",
       "       [0, 0, 0, ..., 0, 0, 0]])"
      ]
     },
     "execution_count": 22,
     "metadata": {},
     "output_type": "execute_result"
    }
   ],
   "source": [
    "for a in range(len(miRNA)):\n",
    "    for b in range(len(disease)):\n",
    "        MD_M[a][b] = MD_M_A[MD_index[miRNA[a]]][MD_index[disease[b]]]\n",
    "MD_M"
   ]
  },
  {
   "cell_type": "code",
   "execution_count": 23,
   "metadata": {},
   "outputs": [
    {
     "data": {
      "text/plain": [
       "array([[5, 6, 6, ..., 0, 0, 0],\n",
       "       [3, 5, 5, ..., 0, 0, 0],\n",
       "       [7, 9, 7, ..., 0, 0, 0],\n",
       "       ...,\n",
       "       [0, 0, 0, ..., 0, 0, 0],\n",
       "       [0, 0, 0, ..., 0, 0, 0],\n",
       "       [0, 0, 0, ..., 0, 0, 0]])"
      ]
     },
     "execution_count": 23,
     "metadata": {},
     "output_type": "execute_result"
    }
   ],
   "source": [
    "LD = LM_M.dot(MD_M)\n",
    "LD"
   ]
  },
  {
   "cell_type": "code",
   "execution_count": 24,
   "metadata": {},
   "outputs": [],
   "source": [
    "# # run this if CD.csv is not found in the current folder(runs for seconds)\n",
    "# CD = np.zeros(shape=(len(disease),len(disease)))\n",
    "# for i in range(len(disease)):\n",
    "#     for j in range(len(disease)):\n",
    "#         CD[i][j] = (MD_M[:,i].dot(MD_M[:,j]))/(norm(MD_M[:,i])*norm(MD_M[:,j]))\n",
    "# np.save(\"CD\",CD)"
   ]
  },
  {
   "cell_type": "code",
   "execution_count": 25,
   "metadata": {},
   "outputs": [],
   "source": [
    "CD = np.load(\"CD.npy\")"
   ]
  },
  {
   "cell_type": "code",
   "execution_count": 26,
   "metadata": {},
   "outputs": [],
   "source": [
    "# # run this if CL.csv not found in the current folder(run for 8 min )\n",
    "# CL = np.zeros(shape=(len(lncRNA),len(lncRNA)))\n",
    "# for i in range(len(lncRNA)):\n",
    "#     for j in range(len(lncRNA)):\n",
    "#         CL[i][j] = (LM_M[i,:].dot(LM_M[j,:]))/(norm(LM_M[i,:])*norm(LM_M[j,:]))\n",
    "# np.save(\"CL\",CL)"
   ]
  },
  {
   "cell_type": "code",
   "execution_count": 27,
   "metadata": {},
   "outputs": [],
   "source": [
    "CL = np.load(\"CL.npy\")"
   ]
  },
  {
   "cell_type": "code",
   "execution_count": 28,
   "metadata": {},
   "outputs": [],
   "source": [
    "JD = np.zeros(shape=CD.shape)\n",
    "for i in range(MD_M.shape[-1]):\n",
    "    for j in range(MD_M.shape[-1]):\n",
    "        JD[i][j] =(np.bitwise_and(MD_M[:,i],MD_M[:,j]).sum())/(np.bitwise_or(MD_M[:,i],MD_M[:,j]).sum())\n",
    "        "
   ]
  },
  {
   "cell_type": "code",
   "execution_count": 29,
   "metadata": {},
   "outputs": [
    {
     "data": {
      "text/plain": [
       "array([[1.        , 0.28849315, 1.        , ..., 0.        , 0.        ,\n",
       "        0.        ],\n",
       "       [0.28849315, 1.        , 0.28849315, ..., 0.        , 0.        ,\n",
       "        0.        ],\n",
       "       [1.        , 0.28849315, 1.        , ..., 0.        , 0.        ,\n",
       "        0.        ],\n",
       "       ...,\n",
       "       [0.        , 0.        , 0.        , ..., 0.        , 0.        ,\n",
       "        0.        ],\n",
       "       [0.        , 0.        , 0.        , ..., 0.        , 0.        ,\n",
       "        0.        ],\n",
       "       [0.        , 0.        , 0.        , ..., 0.        , 0.        ,\n",
       "        0.        ]])"
      ]
     },
     "execution_count": 29,
     "metadata": {},
     "output_type": "execute_result"
    }
   ],
   "source": [
    "JL = np.zeros(shape=CL.shape)\n",
    "for i in range(LM_M.shape[-1]):\n",
    "    for j in range(LM_M.shape[-1]):\n",
    "        JL[i][j] =(np.bitwise_and(LM_M[:,i],LM_M[:,j]).sum())/(np.bitwise_or(LM_M[:,i],LM_M[:,j]).sum())\n",
    "JL      "
   ]
  },
  {
   "cell_type": "code",
   "execution_count": 30,
   "metadata": {},
   "outputs": [
    {
     "data": {
      "text/plain": [
       "array([[1.        , 0.73534833, 0.62628227, ..., 0.        , 0.        ,\n",
       "        0.        ],\n",
       "       [0.73534833, 1.        , 0.79003636, ..., 0.19620955, 0.19620955,\n",
       "        0.        ],\n",
       "       [0.62628227, 0.79003636, 1.        , ..., 0.        , 0.        ,\n",
       "        0.        ],\n",
       "       ...,\n",
       "       [0.        , 0.19620955, 0.        , ..., 1.        , 1.        ,\n",
       "        0.        ],\n",
       "       [0.        , 0.19620955, 0.        , ..., 1.        , 1.        ,\n",
       "        0.        ],\n",
       "       [0.        , 0.        , 0.        , ..., 0.        , 0.        ,\n",
       "        1.        ]])"
      ]
     },
     "execution_count": 30,
     "metadata": {},
     "output_type": "execute_result"
    }
   ],
   "source": [
    "IDS = np.zeros(shape=CD.shape)\n",
    "for i in range(IDS.shape[0]):\n",
    "    for j in range(IDS.shape[-1]):\n",
    "        if CD[i][j] == 0:\n",
    "            IDS[i][j] = JD[i][j]\n",
    "        else:\n",
    "            IDS[i][j] = (CD[i][j]+JD[i][j])/2\n",
    "IDS"
   ]
  },
  {
   "cell_type": "code",
   "execution_count": 31,
   "metadata": {},
   "outputs": [
    {
     "data": {
      "text/plain": [
       "array([[1.        , 0.50909658, 0.80073   , ..., 0.        , 0.        ,\n",
       "        0.        ],\n",
       "       [0.50909658, 1.        , 0.42427158, ..., 0.        , 0.        ,\n",
       "        0.        ],\n",
       "       [0.80073   , 0.42427158, 1.        , ..., 0.        , 0.        ,\n",
       "        0.        ],\n",
       "       ...,\n",
       "       [0.        , 0.        , 0.        , ..., 0.5       , 0.        ,\n",
       "        0.        ],\n",
       "       [0.        , 0.        , 0.        , ..., 0.        , 0.5       ,\n",
       "        0.        ],\n",
       "       [0.        , 0.        , 0.        , ..., 0.        , 0.        ,\n",
       "        0.5       ]])"
      ]
     },
     "execution_count": 31,
     "metadata": {},
     "output_type": "execute_result"
    }
   ],
   "source": [
    "ILS = np.zeros(shape=CL.shape)\n",
    "for i in range(ILS.shape[0]):\n",
    "    for j in range(ILS.shape[-1]):\n",
    "        if CL[i][j] == 0:\n",
    "            ILS[i][j] = JL[i][j]\n",
    "        else:\n",
    "            ILS[i][j] = (CL[i][j]+JL[i][j])/2\n",
    "ILS"
   ]
  },
  {
   "cell_type": "markdown",
   "metadata": {},
   "source": [
    "Dormant Factor model"
   ]
  },
  {
   "cell_type": "code",
   "execution_count": 32,
   "metadata": {},
   "outputs": [
    {
     "data": {
      "text/plain": [
       "(array([[ 0.74943973,  0.16278232,  0.87225361, ...,  0.02117704,\n",
       "          0.53730018,  0.80541117],\n",
       "        [ 0.7858517 ,  0.33006347,  0.40558154, ...,  0.43545066,\n",
       "          0.05370447,  0.49769065],\n",
       "        [ 0.39957034,  0.14820875,  0.53748987, ...,  1.02138269,\n",
       "          0.51230775,  0.33616891],\n",
       "        ...,\n",
       "        [-0.13763904,  0.39275231,  0.48132039, ...,  0.64508244,\n",
       "          0.25925785,  0.08503762],\n",
       "        [ 0.49711394,  0.64953417,  0.86149657, ...,  0.28144923,\n",
       "          0.05681169,  0.19346783],\n",
       "        [ 0.73514957,  0.0877606 ,  0.27549415, ...,  0.66543819,\n",
       "          0.04151243,  0.0821251 ]]),\n",
       " array([[ 0.10770788,  0.39112638,  0.17662209, ...,  0.179232  ,\n",
       "          0.0311253 , -0.03192937],\n",
       "        [ 0.10654091,  0.49312942,  0.19723677, ...,  0.0589919 ,\n",
       "          0.08792341,  0.19706244],\n",
       "        [ 0.21029022,  0.26439492,  0.15538088, ...,  0.02119579,\n",
       "          0.10428741, -0.11401015],\n",
       "        ...,\n",
       "        [-0.06049591, -0.02979216,  0.10920256, ...,  0.01422324,\n",
       "         -0.11074995,  0.01362768],\n",
       "        [ 0.08513813, -0.15369378, -0.07328048, ..., -0.10319975,\n",
       "          0.11128359, -0.04403131],\n",
       "        [-0.04295845,  0.10437392,  0.00440598, ..., -0.04343034,\n",
       "         -0.10643921,  0.05154594]]),\n",
       " array([[ 4.36677707,  6.1108756 ,  4.5448012 , ...,  0.55640839,\n",
       "          0.62198344,  0.52073822],\n",
       "        [ 3.03637004,  3.91767507,  3.3115226 , ...,  0.09065557,\n",
       "          0.17083232, -0.67406789],\n",
       "        [ 6.29603067,  7.50028507,  6.00763916, ...,  0.51683878,\n",
       "         -0.16202444,  0.22653317],\n",
       "        ...,\n",
       "        [-0.28722374,  0.50005242,  0.40059204, ...,  0.04339818,\n",
       "         -0.13585122,  0.6068122 ],\n",
       "        [ 0.31587134,  0.04477778, -0.2219435 , ...,  0.48195551,\n",
       "         -1.08937725,  0.42950766],\n",
       "        [-0.67372877, -0.46474022,  0.24526991, ...,  0.15951264,\n",
       "          0.25930366, -0.22187035]]))"
      ]
     },
     "execution_count": 32,
     "metadata": {},
     "output_type": "execute_result"
    }
   ],
   "source": [
    "def Dormant_factor_model(ALM, AMD, k, alpha=2*10**-6, lmbda=4*10**-5, max_iter=1000):\n",
    "    \"\"\"\n",
    "    Dormant factor model for calculating lncRNA-disease associations.\n",
    "\n",
    "    Args:\n",
    "        ALM (numpy.ndarray): Adjacency matrix of lncRNA-miRNA associations (m x n).\n",
    "        AMD (numpy.ndarray): Adjacency matrix of miRNA-disease associations (n x e).\n",
    "        k (int): Number of Dormant factors.\n",
    "        alpha (float): Learning rate for gradient descent.\n",
    "        lmbda (float): Regularization parameter.\n",
    "        max_iter (int): Maximum number of iterations for gradient descent.\n",
    "\n",
    "    Returns:\n",
    "        X (numpy.ndarray): lncRNA feature matrix (m x k).\n",
    "        Y (numpy.ndarray): Disease feature matrix (e x k).\n",
    "        psi (numpy.ndarray): lncRNA-disease association score matrix (m x e).\n",
    "    \"\"\"\n",
    "\n",
    "\n",
    "    # Calculate the preliminary lncRNA-disease association matrix\n",
    "    ALD = ALM @ AMD\n",
    "\n",
    "    m = ALD.shape[0]\n",
    "    e = ALD.shape[1]\n",
    "\n",
    "    # Initialize feature matrices randomly\n",
    "    X = np.random.rand(m, k)\n",
    "    Y = np.random.rand(e, k)\n",
    "\n",
    "    for _ in range(max_iter):\n",
    "        # Calculate the lncRNA-disease association score matrix\n",
    "        psi = X @ Y.T   \n",
    "\n",
    "        # Calculate the loss function and gradients\n",
    "        # loss = np.sum((psi - ALD) ** 2) + lmbda * (np.sum(norm(X)) + np.sum(norm(Y)))\n",
    "        grad_X = 2 * (psi - ALD) @ Y +  lmbda * X\n",
    "        grad_Y = 2 * (psi - ALD).T @ X + lmbda * Y\n",
    "\n",
    "        # Update feature matrices using gradient descent\n",
    "        X -= alpha * grad_X\n",
    "        Y -= alpha * grad_Y\n",
    "\n",
    "    return X, Y, psi\n",
    "X,Y,phi = Dormant_factor_model(LM_M,MD_M,213,max_iter=500)\n",
    "X,Y,phi"
   ]
  },
  {
   "cell_type": "code",
   "execution_count": 40,
   "metadata": {},
   "outputs": [
    {
     "data": {
      "text/plain": [
       "211.27496490291148"
      ]
     },
     "execution_count": 40,
     "metadata": {},
     "output_type": "execute_result"
    }
   ],
   "source": [
    "phi.max()"
   ]
  },
  {
   "cell_type": "code",
   "execution_count": 34,
   "metadata": {},
   "outputs": [
    {
     "data": {
      "text/plain": [
       "((7554, 7554), (7554, 514), 7554)"
      ]
     },
     "execution_count": 34,
     "metadata": {},
     "output_type": "execute_result"
    }
   ],
   "source": [
    "ILS.shape, phi.shape,len(lncRNA)"
   ]
  },
  {
   "cell_type": "code",
   "execution_count": 35,
   "metadata": {},
   "outputs": [
    {
     "data": {
      "text/plain": [
       "array([[4.30098021e+00, 5.08401718e+00, 4.16334663e+00, ...,\n",
       "        1.51539816e-01, 1.48697530e-01, 1.18277508e-01],\n",
       "       [3.37842254e+00, 4.01689894e+00, 3.28451367e+00, ...,\n",
       "        1.17577051e-01, 1.17419987e-01, 8.79477621e-02],\n",
       "       [3.33121736e+00, 3.96736397e+00, 3.23940668e+00, ...,\n",
       "        1.17140045e-01, 1.15546068e-01, 8.70959328e-02],\n",
       "       ...,\n",
       "       [5.74850371e+01, 6.80406724e+01, 5.57761169e+01, ...,\n",
       "        1.90468057e+00, 2.03926698e+00, 1.89670569e+00],\n",
       "       [9.99716399e+01, 1.17119542e+02, 9.56488226e+01, ...,\n",
       "        3.37277022e+00, 3.22146583e+00, 3.02462107e+00],\n",
       "       [1.55439325e+02, 1.81658487e+02, 1.49476691e+02, ...,\n",
       "        5.51297000e+00, 5.14735909e+00, 4.19257422e+00]])"
      ]
     },
     "execution_count": 35,
     "metadata": {},
     "output_type": "execute_result"
    }
   ],
   "source": [
    "LP = np.zeros(shape=LD_M.shape)\n",
    "for i in range(LP.shape[0]):\n",
    "    for j in range(len(lncRNA)):\n",
    "        LP[i,:] += ILS[i,j]*phi[j,:] \n",
    "    LP[i,:] /= norm(ILS[i:]) \n",
    "LP"
   ]
  },
  {
   "cell_type": "code",
   "execution_count": 36,
   "metadata": {},
   "outputs": [
    {
     "data": {
      "text/plain": [
       "array([[ 1.02135511e+02,  1.03539931e+02,  1.02145111e+02, ...,\n",
       "         4.27066041e+01,  4.27066041e+01,  2.75582693e+01],\n",
       "       [ 6.66161670e+01,  6.75194015e+01,  6.65873537e+01, ...,\n",
       "         2.73701243e+01,  2.73701243e+01,  1.45369805e+01],\n",
       "       [ 1.14790005e+02,  1.16384680e+02,  1.14497498e+02, ...,\n",
       "         4.75685978e+01,  4.75685978e+01,  1.74845164e+01],\n",
       "       ...,\n",
       "       [ 1.22179041e+00,  1.28993987e+00,  1.23280738e+00, ...,\n",
       "         9.75699841e-01,  9.75699841e-01,  7.73258798e-01],\n",
       "       [ 8.98121622e-02, -1.02554619e-01,  1.08043712e-01, ...,\n",
       "        -1.13493197e+00, -1.13493197e+00,  8.29865524e-01],\n",
       "       [ 1.96532351e+00,  1.86298531e+00,  2.05126185e+00, ...,\n",
       "         6.76599344e-01,  6.76599344e-01, -3.96168734e-01]])"
      ]
     },
     "execution_count": 36,
     "metadata": {},
     "output_type": "execute_result"
    }
   ],
   "source": [
    "DP = np.zeros(shape=LD_M.shape)\n",
    "for j in range(DP.shape[1]):\n",
    "    for i in range(len(disease)):\n",
    "        DP[:,j] += IDS[i,j]*phi[:,i]\n",
    "    DP[:,j] /= norm(IDS[:,j])\n",
    "DP"
   ]
  },
  {
   "cell_type": "code",
   "execution_count": 37,
   "metadata": {},
   "outputs": [
    {
     "data": {
      "text/plain": [
       "((7554, 514), (7554, 514), (7554, 7554), (514, 514))"
      ]
     },
     "execution_count": 37,
     "metadata": {},
     "output_type": "execute_result"
    }
   ],
   "source": [
    "LP.shape,DP.shape,ILS.shape,IDS.shape"
   ]
  },
  {
   "cell_type": "code",
   "execution_count": 41,
   "metadata": {},
   "outputs": [
    {
     "data": {
      "text/plain": [
       "(3735.024311768044, 436.49419488534625, 1.0, 1.0)"
      ]
     },
     "execution_count": 41,
     "metadata": {},
     "output_type": "execute_result"
    }
   ],
   "source": [
    "LP.max(),DP.max(),ILS.max(),IDS.max()"
   ]
  },
  {
   "cell_type": "code",
   "execution_count": 38,
   "metadata": {},
   "outputs": [
    {
     "data": {
      "text/plain": [
       "array([[1.57361057, 1.61258933, 1.66801937, ..., 0.89224181, 0.89218264,\n",
       "        0.63263895],\n",
       "       [1.1918033 , 1.22385638, 1.2744541 , ..., 0.7025464 , 0.70254238,\n",
       "        0.41978169],\n",
       "       [2.03731548, 2.08580876, 2.17733692, ..., 1.24263517, 1.24259363,\n",
       "        0.51547434],\n",
       "       ...,\n",
       "       [1.85201112, 2.20653897, 2.05112972, ..., 0.23815046, 0.24927809,\n",
       "        0.34193741],\n",
       "       [2.93406143, 3.45948658, 3.17093066, ..., 0.15434192, 0.14390657,\n",
       "        0.37741812],\n",
       "       [4.72733137, 5.55817647, 5.15547132, ..., 0.452039  , 0.42533757,\n",
       "        0.40361074]])"
      ]
     },
     "execution_count": 38,
     "metadata": {},
     "output_type": "execute_result"
    }
   ],
   "source": [
    "LFMP = np.zeros(shape=LD_M.shape)\n",
    "w = 0.50\n",
    "for i in range(LFMP.shape[0]):\n",
    "    for j in range(LFMP.shape[1]):\n",
    "        LFMP[i][j] = (w*LP[i][j] + (1-w)*DP[i][j])/(norm(ILS[i,:])+norm(IDS[:,j]))\n",
    "LFMP"
   ]
  },
  {
   "cell_type": "code",
   "execution_count": 39,
   "metadata": {},
   "outputs": [
    {
     "data": {
      "text/plain": [
       "0.783437993281654"
      ]
     },
     "execution_count": 39,
     "metadata": {},
     "output_type": "execute_result"
    }
   ],
   "source": [
    "LFMP[lncRNA_index['NONHSAT006834.2']][disease_index['Ganglioneuroma']]"
   ]
  },
  {
   "cell_type": "code",
   "execution_count": 43,
   "metadata": {},
   "outputs": [],
   "source": [
    "Y0 = np.load(\"Y0.npy\")"
   ]
  },
  {
   "cell_type": "code",
   "execution_count": 44,
   "metadata": {},
   "outputs": [
    {
     "data": {
      "text/plain": [
       "array([[ 0.81016502,  0.8072302 ,  0.80537239, ...,  0.7383488 ,\n",
       "         0.7383488 ,  0.71459042],\n",
       "       [ 0.62532744,  0.62467607,  0.62336949, ...,  0.57150404,\n",
       "         0.57150404,  0.55272242],\n",
       "       [ 0.60989888,  0.60931681,  0.6080668 , ...,  0.55631532,\n",
       "         0.55631532,  0.53801437],\n",
       "       ...,\n",
       "       [10.46019253, 10.54085864, 10.50362197, ...,  9.62646597,\n",
       "         9.62646597,  9.35084047],\n",
       "       [19.45956283, 19.43959248, 19.40954025, ..., 17.63553771,\n",
       "        17.63553771, 17.21338006],\n",
       "       [29.81184733, 29.49077544, 29.44139569, ..., 26.91128819,\n",
       "        26.91128819, 26.32312207]])"
      ]
     },
     "execution_count": 44,
     "metadata": {},
     "output_type": "execute_result"
    }
   ],
   "source": [
    "LPm = np.zeros(shape=LD_M.shape)\n",
    "for i in range(LPm.shape[0]):\n",
    "    for j in range(len(lncRNA)):\n",
    "        LPm[i,:] += ILS[i,j]*Y0[j,:] \n",
    "    LPm[i,:] /= norm(ILS[i:]) \n",
    "LPm"
   ]
  },
  {
   "cell_type": "code",
   "execution_count": 45,
   "metadata": {},
   "outputs": [
    {
     "data": {
      "text/plain": [
       "array([[12.93114781, 12.77789704, 13.1713032 , ...,  5.55126836,\n",
       "         5.55126836,  1.20903147],\n",
       "       [12.96262795, 12.79680171, 13.2021947 , ...,  5.51272462,\n",
       "         5.51272462,  1.19689106],\n",
       "       [12.93537201, 12.77276961, 13.1713032 , ...,  5.52070626,\n",
       "         5.52070626,  1.20412996],\n",
       "       ...,\n",
       "       [ 2.64147623,  2.61247731,  2.71997823, ...,  1.04358586,\n",
       "         1.04358586,  0.32607128],\n",
       "       [ 3.09248913,  3.05739487,  3.19210636, ...,  1.21290166,\n",
       "         1.21290166,  0.45487799],\n",
       "       [ 2.17200424,  2.14334835,  2.21932211, ...,  0.84484799,\n",
       "         0.84484799,  0.17652873]])"
      ]
     },
     "execution_count": 45,
     "metadata": {},
     "output_type": "execute_result"
    }
   ],
   "source": [
    "DPm = np.zeros(shape=LD_M.shape)\n",
    "for j in range(DPm.shape[1]):\n",
    "    for i in range(len(disease)):\n",
    "        DPm[:,j] += IDS[i,j]*Y0[:,i]\n",
    "    DPm[:,j] /= norm(IDS[:,j])\n",
    "DPm"
   ]
  },
  {
   "cell_type": "code",
   "execution_count": 46,
   "metadata": {},
   "outputs": [
    {
     "data": {
      "text/plain": [
       "(34.920183260590115, 15.218701334972156)"
      ]
     },
     "execution_count": 46,
     "metadata": {},
     "output_type": "execute_result"
    }
   ],
   "source": [
    "LPm.max(),DPm.max()"
   ]
  },
  {
   "cell_type": "code",
   "execution_count": 50,
   "metadata": {},
   "outputs": [
    {
     "data": {
      "text/plain": [
       "array([[0.20315847, 0.20167957, 0.21929926, ..., 0.13094033, 0.13094033,\n",
       "        0.04397074],\n",
       "       [0.23136317, 0.22961715, 0.25217656, ..., 0.1555042 , 0.1555042 ,\n",
       "        0.05021944],\n",
       "       [0.23362432, 0.23192355, 0.25482521, ..., 0.15836015, 0.15836015,\n",
       "        0.0511069 ],\n",
       "       ...,\n",
       "       [0.4133154 , 0.41862242, 0.47577322, ..., 0.88220214, 0.88220214,\n",
       "        1.23930418],\n",
       "       [0.66128468, 0.66510024, 0.74843985, ..., 1.2999618 , 1.2999618 ,\n",
       "        1.73001527],\n",
       "       [0.96057052, 0.95807886, 1.07720008, ..., 2.02709678, 2.02709678,\n",
       "        2.8172817 ]])"
      ]
     },
     "execution_count": 50,
     "metadata": {},
     "output_type": "execute_result"
    }
   ],
   "source": [
    "LFMPm = np.zeros(shape=LD_M.shape)\n",
    "w = 0.50\n",
    "for i in range(LFMP.shape[0]):\n",
    "    for j in range(LFMP.shape[1]):\n",
    "        LFMPm[i][j] = (w*LPm[i][j] + (1-w)*DPm[i][j])/(norm(ILS[i,:])+norm(IDS[:,j]))\n",
    "LFMPm"
   ]
  },
  {
   "cell_type": "code",
   "execution_count": 51,
   "metadata": {},
   "outputs": [
    {
     "data": {
      "text/plain": [
       "(3.589902032078606, 0.03849203791699931)"
      ]
     },
     "execution_count": 51,
     "metadata": {},
     "output_type": "execute_result"
    }
   ],
   "source": [
    "LFMPm.max(),LFMPm.min()"
   ]
  }
 ],
 "metadata": {
  "kernelspec": {
   "display_name": "Python 3",
   "language": "python",
   "name": "python3"
  },
  "language_info": {
   "codemirror_mode": {
    "name": "ipython",
    "version": 3
   },
   "file_extension": ".py",
   "mimetype": "text/x-python",
   "name": "python",
   "nbconvert_exporter": "python",
   "pygments_lexer": "ipython3",
   "version": "3.11.4"
  }
 },
 "nbformat": 4,
 "nbformat_minor": 2
}
