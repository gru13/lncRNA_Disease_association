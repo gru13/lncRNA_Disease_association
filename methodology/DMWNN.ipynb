{
 "cells": [
  {
   "cell_type": "code",
   "execution_count": 2,
   "metadata": {},
   "outputs": [],
   "source": [
    "import pandas as pd\n",
    "import numpy as np\n",
    "import networkx as nx \n",
    "from numpy.linalg import norm\n"
   ]
  },
  {
   "cell_type": "code",
   "execution_count": 2,
   "metadata": {},
   "outputs": [],
   "source": [
    "# # from colab run this \n",
    "# !git clone https://github.com/gru13/lncRNA_Disease_association.git\n",
    "# df_lnc_die = pd.read_csv(r\"./lncRNA_Disease_association/datasets/lncrnaDiesease3/website_alldata_p1.csv\")\n",
    "# df_lnc_mir = pd.read_csv(r\"./lncRNA_Disease_association/datasets/LncRNASNP/Homo_sapiens_lncRNA_miRNA_interactions.csv\")\n",
    "# df_mir_die = pd.read_csv(r\"./lncRNA_Disease_association/datasets/rnaDisease/RNADisease_RNA-disease_miRNA_predict.csv\")"
   ]
  },
  {
   "cell_type": "code",
   "execution_count": 3,
   "metadata": {},
   "outputs": [],
   "source": [
    "# from local system\n",
    "df_lnc_die = pd.read_csv(r\"./../datasets/lncrnaDiesease3/website_alldata_p1.csv\")\n",
    "df_lnc_mir = pd.read_csv(r\"./../datasets/LncRNASNP/Homo_sapiens_lncRNA_miRNA_interactions.csv\")\n",
    "df_mir_die = pd.read_csv(r\"./../datasets/rnaDisease/RNADisease_RNA-disease_miRNA_predict.csv\")\n"
   ]
  },
  {
   "cell_type": "code",
   "execution_count": 4,
   "metadata": {},
   "outputs": [
    {
     "data": {
      "text/plain": [
       "(        lncRNA                    Disease  PubMed ID\n",
       " 0  ARHGAP5-AS1  Carcinoma, Hepatocellular   36354136\n",
       " 1       HOTTIP               Osteosarcoma   33475442\n",
       " 2       HOTTIP                     Glioma   35402278\n",
       " 3       HOTTIP             Retinoblastoma   33784880\n",
       " 4       HOTTIP          stomach carcinoma   32633359,\n",
       "             lncRNA           miRNA\n",
       " 0  NONHSAT000002.2  hsa-miR-15a-5p\n",
       " 1  NONHSAT000002.2  hsa-miR-15a-3p\n",
       " 2  NONHSAT000002.2   hsa-miR-16-5p\n",
       " 3  NONHSAT000002.2   hsa-miR-21-3p\n",
       " 4  NONHSAT000002.2   hsa-miR-28-5p,\n",
       "           miRNA                    Disease\n",
       " 0  hsa-let-7a-1  Abdominal aortic aneurysm\n",
       " 1  hsa-let-7a-2  Abdominal aortic aneurysm\n",
       " 2  hsa-let-7a-3  Abdominal aortic aneurysm\n",
       " 3    hsa-let-7c  Abdominal aortic aneurysm\n",
       " 4    hsa-let-7d  Abdominal aortic aneurysm)"
      ]
     },
     "execution_count": 4,
     "metadata": {},
     "output_type": "execute_result"
    }
   ],
   "source": [
    "df_lnc_die.head(),df_lnc_mir.head(),df_mir_die.head()"
   ]
  },
  {
   "cell_type": "code",
   "execution_count": 5,
   "metadata": {},
   "outputs": [],
   "source": [
    "dataset1 = pd.merge(df_lnc_mir,df_lnc_die,on=['lncRNA'],how='inner')\n",
    "dataset2 = pd.merge(df_lnc_mir,df_mir_die,on=['miRNA'],how='inner')"
   ]
  },
  {
   "cell_type": "code",
   "execution_count": 6,
   "metadata": {},
   "outputs": [
    {
     "data": {
      "text/html": [
       "<div>\n",
       "<style scoped>\n",
       "    .dataframe tbody tr th:only-of-type {\n",
       "        vertical-align: middle;\n",
       "    }\n",
       "\n",
       "    .dataframe tbody tr th {\n",
       "        vertical-align: top;\n",
       "    }\n",
       "\n",
       "    .dataframe thead th {\n",
       "        text-align: right;\n",
       "    }\n",
       "</style>\n",
       "<table border=\"1\" class=\"dataframe\">\n",
       "  <thead>\n",
       "    <tr style=\"text-align: right;\">\n",
       "      <th></th>\n",
       "      <th>lncRNA</th>\n",
       "      <th>miRNA</th>\n",
       "      <th>Disease</th>\n",
       "      <th>PubMed ID</th>\n",
       "    </tr>\n",
       "  </thead>\n",
       "  <tbody>\n",
       "    <tr>\n",
       "      <th>0</th>\n",
       "      <td>NONHSAT000612.2</td>\n",
       "      <td>hsa-miR-570-3p</td>\n",
       "      <td>Osteoarthritis</td>\n",
       "      <td>34780784</td>\n",
       "    </tr>\n",
       "    <tr>\n",
       "      <th>1</th>\n",
       "      <td>NONHSAT000612.2</td>\n",
       "      <td>hsa-miR-651-3p</td>\n",
       "      <td>Osteoarthritis</td>\n",
       "      <td>34780784</td>\n",
       "    </tr>\n",
       "    <tr>\n",
       "      <th>2</th>\n",
       "      <td>NONHSAT000612.2</td>\n",
       "      <td>hsa-miR-449b-3p</td>\n",
       "      <td>Osteoarthritis</td>\n",
       "      <td>34780784</td>\n",
       "    </tr>\n",
       "    <tr>\n",
       "      <th>3</th>\n",
       "      <td>NONHSAT000612.2</td>\n",
       "      <td>hsa-miR-1468-3p</td>\n",
       "      <td>Osteoarthritis</td>\n",
       "      <td>34780784</td>\n",
       "    </tr>\n",
       "    <tr>\n",
       "      <th>4</th>\n",
       "      <td>NONHSAT000612.2</td>\n",
       "      <td>hsa-miR-874-5p</td>\n",
       "      <td>Osteoarthritis</td>\n",
       "      <td>34780784</td>\n",
       "    </tr>\n",
       "    <tr>\n",
       "      <th>...</th>\n",
       "      <td>...</td>\n",
       "      <td>...</td>\n",
       "      <td>...</td>\n",
       "      <td>...</td>\n",
       "    </tr>\n",
       "    <tr>\n",
       "      <th>590</th>\n",
       "      <td>NONHSAT015292.2</td>\n",
       "      <td>hsa-miR-9902</td>\n",
       "      <td>Osteoarthritis</td>\n",
       "      <td>34780784</td>\n",
       "    </tr>\n",
       "    <tr>\n",
       "      <th>591</th>\n",
       "      <td>NONHSAT015292.2</td>\n",
       "      <td>hsa-miR-10522-5p</td>\n",
       "      <td>Osteoarthritis</td>\n",
       "      <td>34780784</td>\n",
       "    </tr>\n",
       "    <tr>\n",
       "      <th>592</th>\n",
       "      <td>NONHSAT015292.2</td>\n",
       "      <td>hsa-miR-10526-3p</td>\n",
       "      <td>Osteoarthritis</td>\n",
       "      <td>34780784</td>\n",
       "    </tr>\n",
       "    <tr>\n",
       "      <th>593</th>\n",
       "      <td>NONHSAT015292.2</td>\n",
       "      <td>hsa-miR-9851-3p</td>\n",
       "      <td>Osteoarthritis</td>\n",
       "      <td>34780784</td>\n",
       "    </tr>\n",
       "    <tr>\n",
       "      <th>594</th>\n",
       "      <td>NONHSAT015292.2</td>\n",
       "      <td>hsa-miR-12118</td>\n",
       "      <td>Osteoarthritis</td>\n",
       "      <td>34780784</td>\n",
       "    </tr>\n",
       "  </tbody>\n",
       "</table>\n",
       "<p>595 rows × 4 columns</p>\n",
       "</div>"
      ],
      "text/plain": [
       "              lncRNA             miRNA         Disease  PubMed ID\n",
       "0    NONHSAT000612.2    hsa-miR-570-3p  Osteoarthritis   34780784\n",
       "1    NONHSAT000612.2    hsa-miR-651-3p  Osteoarthritis   34780784\n",
       "2    NONHSAT000612.2   hsa-miR-449b-3p  Osteoarthritis   34780784\n",
       "3    NONHSAT000612.2   hsa-miR-1468-3p  Osteoarthritis   34780784\n",
       "4    NONHSAT000612.2    hsa-miR-874-5p  Osteoarthritis   34780784\n",
       "..               ...               ...             ...        ...\n",
       "590  NONHSAT015292.2      hsa-miR-9902  Osteoarthritis   34780784\n",
       "591  NONHSAT015292.2  hsa-miR-10522-5p  Osteoarthritis   34780784\n",
       "592  NONHSAT015292.2  hsa-miR-10526-3p  Osteoarthritis   34780784\n",
       "593  NONHSAT015292.2   hsa-miR-9851-3p  Osteoarthritis   34780784\n",
       "594  NONHSAT015292.2     hsa-miR-12118  Osteoarthritis   34780784\n",
       "\n",
       "[595 rows x 4 columns]"
      ]
     },
     "execution_count": 6,
     "metadata": {},
     "output_type": "execute_result"
    }
   ],
   "source": [
    "dataset1"
   ]
  },
  {
   "cell_type": "code",
   "execution_count": 7,
   "metadata": {},
   "outputs": [
    {
     "data": {
      "text/html": [
       "<div>\n",
       "<style scoped>\n",
       "    .dataframe tbody tr th:only-of-type {\n",
       "        vertical-align: middle;\n",
       "    }\n",
       "\n",
       "    .dataframe tbody tr th {\n",
       "        vertical-align: top;\n",
       "    }\n",
       "\n",
       "    .dataframe thead th {\n",
       "        text-align: right;\n",
       "    }\n",
       "</style>\n",
       "<table border=\"1\" class=\"dataframe\">\n",
       "  <thead>\n",
       "    <tr style=\"text-align: right;\">\n",
       "      <th></th>\n",
       "      <th>lncRNA</th>\n",
       "      <th>miRNA</th>\n",
       "      <th>Disease</th>\n",
       "    </tr>\n",
       "  </thead>\n",
       "  <tbody>\n",
       "    <tr>\n",
       "      <th>0</th>\n",
       "      <td>NONHSAT000002.2</td>\n",
       "      <td>hsa-miR-15a-5p</td>\n",
       "      <td>Abortion habitual</td>\n",
       "    </tr>\n",
       "    <tr>\n",
       "      <th>1</th>\n",
       "      <td>NONHSAT000002.2</td>\n",
       "      <td>hsa-miR-15a-5p</td>\n",
       "      <td>Acoustic neuroma</td>\n",
       "    </tr>\n",
       "    <tr>\n",
       "      <th>2</th>\n",
       "      <td>NONHSAT000002.2</td>\n",
       "      <td>hsa-miR-15a-5p</td>\n",
       "      <td>Acquired immunodeficiency syndrome</td>\n",
       "    </tr>\n",
       "    <tr>\n",
       "      <th>3</th>\n",
       "      <td>NONHSAT000002.2</td>\n",
       "      <td>hsa-miR-15a-5p</td>\n",
       "      <td>Acute coronary syndrome</td>\n",
       "    </tr>\n",
       "    <tr>\n",
       "      <th>4</th>\n",
       "      <td>NONHSAT000002.2</td>\n",
       "      <td>hsa-miR-15a-5p</td>\n",
       "      <td>Acute kidney failure</td>\n",
       "    </tr>\n",
       "    <tr>\n",
       "      <th>...</th>\n",
       "      <td>...</td>\n",
       "      <td>...</td>\n",
       "      <td>...</td>\n",
       "    </tr>\n",
       "    <tr>\n",
       "      <th>9376652</th>\n",
       "      <td>NONHSAT017163.2</td>\n",
       "      <td>hsa-miR-523-3p</td>\n",
       "      <td>Intellectual disability</td>\n",
       "    </tr>\n",
       "    <tr>\n",
       "      <th>9376653</th>\n",
       "      <td>NONHSAT017163.2</td>\n",
       "      <td>hsa-miR-523-3p</td>\n",
       "      <td>Leukemia</td>\n",
       "    </tr>\n",
       "    <tr>\n",
       "      <th>9376654</th>\n",
       "      <td>NONHSAT017163.2</td>\n",
       "      <td>hsa-miR-523-3p</td>\n",
       "      <td>Neurodegenerative diseases</td>\n",
       "    </tr>\n",
       "    <tr>\n",
       "      <th>9376655</th>\n",
       "      <td>NONHSAT017163.2</td>\n",
       "      <td>hsa-miR-523-3p</td>\n",
       "      <td>Skin disease</td>\n",
       "    </tr>\n",
       "    <tr>\n",
       "      <th>9376656</th>\n",
       "      <td>NONHSAT017163.2</td>\n",
       "      <td>hsa-miR-523-3p</td>\n",
       "      <td>Vascular diseases</td>\n",
       "    </tr>\n",
       "  </tbody>\n",
       "</table>\n",
       "<p>9376657 rows × 3 columns</p>\n",
       "</div>"
      ],
      "text/plain": [
       "                  lncRNA           miRNA                             Disease\n",
       "0        NONHSAT000002.2  hsa-miR-15a-5p                   Abortion habitual\n",
       "1        NONHSAT000002.2  hsa-miR-15a-5p                    Acoustic neuroma\n",
       "2        NONHSAT000002.2  hsa-miR-15a-5p  Acquired immunodeficiency syndrome\n",
       "3        NONHSAT000002.2  hsa-miR-15a-5p             Acute coronary syndrome\n",
       "4        NONHSAT000002.2  hsa-miR-15a-5p                Acute kidney failure\n",
       "...                  ...             ...                                 ...\n",
       "9376652  NONHSAT017163.2  hsa-miR-523-3p             Intellectual disability\n",
       "9376653  NONHSAT017163.2  hsa-miR-523-3p                            Leukemia\n",
       "9376654  NONHSAT017163.2  hsa-miR-523-3p          Neurodegenerative diseases\n",
       "9376655  NONHSAT017163.2  hsa-miR-523-3p                        Skin disease\n",
       "9376656  NONHSAT017163.2  hsa-miR-523-3p                   Vascular diseases\n",
       "\n",
       "[9376657 rows x 3 columns]"
      ]
     },
     "execution_count": 7,
     "metadata": {},
     "output_type": "execute_result"
    }
   ],
   "source": [
    "dataset2"
   ]
  },
  {
   "cell_type": "code",
   "execution_count": 8,
   "metadata": {},
   "outputs": [
    {
     "data": {
      "text/html": [
       "<div>\n",
       "<style scoped>\n",
       "    .dataframe tbody tr th:only-of-type {\n",
       "        vertical-align: middle;\n",
       "    }\n",
       "\n",
       "    .dataframe tbody tr th {\n",
       "        vertical-align: top;\n",
       "    }\n",
       "\n",
       "    .dataframe thead th {\n",
       "        text-align: right;\n",
       "    }\n",
       "</style>\n",
       "<table border=\"1\" class=\"dataframe\">\n",
       "  <thead>\n",
       "    <tr style=\"text-align: right;\">\n",
       "      <th></th>\n",
       "      <th>lncRNA</th>\n",
       "      <th>miRNA</th>\n",
       "      <th>Disease</th>\n",
       "    </tr>\n",
       "  </thead>\n",
       "  <tbody>\n",
       "    <tr>\n",
       "      <th>0</th>\n",
       "      <td>NONHSAT000002.2</td>\n",
       "      <td>hsa-miR-15a-5p</td>\n",
       "      <td>Abortion habitual</td>\n",
       "    </tr>\n",
       "    <tr>\n",
       "      <th>1</th>\n",
       "      <td>NONHSAT000002.2</td>\n",
       "      <td>hsa-miR-15a-5p</td>\n",
       "      <td>Acoustic neuroma</td>\n",
       "    </tr>\n",
       "    <tr>\n",
       "      <th>2</th>\n",
       "      <td>NONHSAT000002.2</td>\n",
       "      <td>hsa-miR-15a-5p</td>\n",
       "      <td>Acquired immunodeficiency syndrome</td>\n",
       "    </tr>\n",
       "    <tr>\n",
       "      <th>3</th>\n",
       "      <td>NONHSAT000002.2</td>\n",
       "      <td>hsa-miR-15a-5p</td>\n",
       "      <td>Acute coronary syndrome</td>\n",
       "    </tr>\n",
       "    <tr>\n",
       "      <th>4</th>\n",
       "      <td>NONHSAT000002.2</td>\n",
       "      <td>hsa-miR-15a-5p</td>\n",
       "      <td>Acute kidney failure</td>\n",
       "    </tr>\n",
       "    <tr>\n",
       "      <th>...</th>\n",
       "      <td>...</td>\n",
       "      <td>...</td>\n",
       "      <td>...</td>\n",
       "    </tr>\n",
       "    <tr>\n",
       "      <th>9376652</th>\n",
       "      <td>NONHSAT017163.2</td>\n",
       "      <td>hsa-miR-523-3p</td>\n",
       "      <td>Intellectual disability</td>\n",
       "    </tr>\n",
       "    <tr>\n",
       "      <th>9376653</th>\n",
       "      <td>NONHSAT017163.2</td>\n",
       "      <td>hsa-miR-523-3p</td>\n",
       "      <td>Leukemia</td>\n",
       "    </tr>\n",
       "    <tr>\n",
       "      <th>9376654</th>\n",
       "      <td>NONHSAT017163.2</td>\n",
       "      <td>hsa-miR-523-3p</td>\n",
       "      <td>Neurodegenerative diseases</td>\n",
       "    </tr>\n",
       "    <tr>\n",
       "      <th>9376655</th>\n",
       "      <td>NONHSAT017163.2</td>\n",
       "      <td>hsa-miR-523-3p</td>\n",
       "      <td>Skin disease</td>\n",
       "    </tr>\n",
       "    <tr>\n",
       "      <th>9376656</th>\n",
       "      <td>NONHSAT017163.2</td>\n",
       "      <td>hsa-miR-523-3p</td>\n",
       "      <td>Vascular diseases</td>\n",
       "    </tr>\n",
       "  </tbody>\n",
       "</table>\n",
       "<p>9376657 rows × 3 columns</p>\n",
       "</div>"
      ],
      "text/plain": [
       "                  lncRNA           miRNA                             Disease\n",
       "0        NONHSAT000002.2  hsa-miR-15a-5p                   Abortion habitual\n",
       "1        NONHSAT000002.2  hsa-miR-15a-5p                    Acoustic neuroma\n",
       "2        NONHSAT000002.2  hsa-miR-15a-5p  Acquired immunodeficiency syndrome\n",
       "3        NONHSAT000002.2  hsa-miR-15a-5p             Acute coronary syndrome\n",
       "4        NONHSAT000002.2  hsa-miR-15a-5p                Acute kidney failure\n",
       "...                  ...             ...                                 ...\n",
       "9376652  NONHSAT017163.2  hsa-miR-523-3p             Intellectual disability\n",
       "9376653  NONHSAT017163.2  hsa-miR-523-3p                            Leukemia\n",
       "9376654  NONHSAT017163.2  hsa-miR-523-3p          Neurodegenerative diseases\n",
       "9376655  NONHSAT017163.2  hsa-miR-523-3p                        Skin disease\n",
       "9376656  NONHSAT017163.2  hsa-miR-523-3p                   Vascular diseases\n",
       "\n",
       "[9376657 rows x 3 columns]"
      ]
     },
     "execution_count": 8,
     "metadata": {},
     "output_type": "execute_result"
    }
   ],
   "source": [
    "df = dataset2.copy()\n",
    "df"
   ]
  },
  {
   "cell_type": "code",
   "execution_count": 9,
   "metadata": {},
   "outputs": [],
   "source": [
    "# # only run this for first time \n",
    "# disease = df['Disease'].unique()\n",
    "# lncRNA = df['lncRNA'].unique()\n",
    "# miRNA = df['miRNA'].unique()\n",
    "\n",
    "# np.savetxt(\"./disease.txt\",disease,delimiter=',',fmt='%s')\n",
    "# np.savetxt(\"./lncRNA.txt\",lncRNA,delimiter=',',fmt='%s')\n",
    "# np.savetxt(\"./miRNA.txt\",miRNA,delimiter=',',fmt='%s')"
   ]
  },
  {
   "cell_type": "code",
   "execution_count": 4,
   "metadata": {},
   "outputs": [],
   "source": [
    "lncRNA = np.array([a[:-1] for a in open(\"./lncRNA.txt\").readlines()])\n",
    "miRNA = np.array([a[:-1] for a in open(\"./miRNA.txt\").readlines()])\n",
    "disease = np.array([a[:-1] for a in open(\"./disease.txt\").readlines()])"
   ]
  },
  {
   "cell_type": "code",
   "execution_count": 11,
   "metadata": {},
   "outputs": [
    {
     "data": {
      "text/plain": [
       "(7554, 239, 514)"
      ]
     },
     "execution_count": 11,
     "metadata": {},
     "output_type": "execute_result"
    }
   ],
   "source": [
    "len(lncRNA),len(miRNA),len(disease)"
   ]
  },
  {
   "cell_type": "markdown",
   "metadata": {},
   "source": [
    "CReation of the graph that contains the totaly connected with miRNA, lncRNA, Disease"
   ]
  },
  {
   "cell_type": "code",
   "execution_count": 12,
   "metadata": {},
   "outputs": [],
   "source": [
    "G = nx.Graph()\n",
    "for a in df:\n",
    "    for b in df[a].unique().tolist():\n",
    "        G.add_node(b)\n",
    "for a in df.values:\n",
    "    G.add_edge(a[1],a[2])\n",
    "    G.add_edge(a[0],a[1])\n",
    "    G.add_edge(a[2],a[0])"
   ]
  },
  {
   "cell_type": "code",
   "execution_count": 13,
   "metadata": {},
   "outputs": [],
   "source": [
    "mergedAdjencymatrix = nx.adjacency_matrix(G).todense()\n",
    "index_node = {a:b for (a,b) in zip(G.nodes(),range(len(G.nodes())))}"
   ]
  },
  {
   "cell_type": "markdown",
   "metadata": {},
   "source": [
    "CReation of the Lncrna-disease , Lncrna-miRNA, miRNA-Disease assoction matrix (LM,LD,MD)"
   ]
  },
  {
   "cell_type": "code",
   "execution_count": 14,
   "metadata": {},
   "outputs": [
    {
     "data": {
      "text/plain": [
       "array([[1., 1., 1., ..., 0., 0., 0.],\n",
       "       [1., 1., 1., ..., 0., 0., 0.],\n",
       "       [1., 1., 1., ..., 0., 0., 0.],\n",
       "       ...,\n",
       "       [0., 0., 0., ..., 0., 0., 0.],\n",
       "       [0., 0., 0., ..., 0., 0., 0.],\n",
       "       [0., 0., 0., ..., 0., 0., 0.]])"
      ]
     },
     "execution_count": 14,
     "metadata": {},
     "output_type": "execute_result"
    }
   ],
   "source": [
    "LD = np.zeros(shape=(len(lncRNA),len(disease)))\n",
    "LD_row_index = {a:i for i,a in enumerate(lncRNA)}\n",
    "LD_col_index = {a:i for i,a in enumerate(disease)}\n",
    "for a,i in LD_row_index.items():\n",
    "    for b,j in LD_col_index.items():\n",
    "        LD[i][j] = mergedAdjencymatrix[index_node[a]][index_node[b]]\n",
    "LD"
   ]
  },
  {
   "cell_type": "code",
   "execution_count": 15,
   "metadata": {},
   "outputs": [
    {
     "data": {
      "text/plain": [
       "array([[1., 1., 1., ..., 0., 0., 0.],\n",
       "       [1., 1., 1., ..., 0., 0., 0.],\n",
       "       [1., 0., 1., ..., 0., 0., 0.],\n",
       "       ...,\n",
       "       [0., 0., 0., ..., 0., 0., 0.],\n",
       "       [0., 0., 0., ..., 0., 0., 0.],\n",
       "       [0., 0., 0., ..., 0., 0., 0.]])"
      ]
     },
     "execution_count": 15,
     "metadata": {},
     "output_type": "execute_result"
    }
   ],
   "source": [
    "LMD = np.zeros(shape=(len(lncRNA),len(miRNA)+len(disease)))\n",
    "LMD_row_index = {a:i for i,a in enumerate(lncRNA)}\n",
    "LMD_col_index = {a:i for i,a in enumerate(miRNA.tolist()+disease.tolist())}\n",
    "for a,i in LMD_row_index.items():\n",
    "    for b,j in LMD_col_index.items():\n",
    "        LMD[i][j] = mergedAdjencymatrix[index_node[a]][index_node[b]]\n",
    "LMD"
   ]
  },
  {
   "cell_type": "code",
   "execution_count": 16,
   "metadata": {},
   "outputs": [
    {
     "data": {
      "text/plain": [
       "array([[1., 0., 1., ..., 0., 0., 0.],\n",
       "       [1., 0., 1., ..., 0., 0., 0.],\n",
       "       [1., 0., 1., ..., 0., 0., 0.],\n",
       "       ...,\n",
       "       [0., 0., 0., ..., 0., 0., 0.],\n",
       "       [0., 0., 0., ..., 0., 0., 0.],\n",
       "       [0., 0., 0., ..., 0., 0., 0.]])"
      ]
     },
     "execution_count": 16,
     "metadata": {},
     "output_type": "execute_result"
    }
   ],
   "source": [
    "DML = np.zeros(shape=(len(disease), len(lncRNA)+len(miRNA)))\n",
    "DML_row_index = {a:i for i,a in enumerate(disease)}\n",
    "DML_col_index = {a:i for i,a in enumerate(miRNA.tolist()+lncRNA.tolist())}\n",
    "for a,i in DML_row_index.items():\n",
    "    for b,j in DML_col_index.items():\n",
    "        DML[i][j] = mergedAdjencymatrix[index_node[a]][index_node[b]]\n",
    "DML"
   ]
  },
  {
   "cell_type": "code",
   "execution_count": 17,
   "metadata": {},
   "outputs": [],
   "source": [
    "lam = 0.2"
   ]
  },
  {
   "cell_type": "code",
   "execution_count": 18,
   "metadata": {},
   "outputs": [],
   "source": [
    "# # only run this if the SL.csv not found\n",
    "# SL = np.zeros(shape=(len(lncRNA),len(lncRNA)))\n",
    "# for i in range(len(lncRNA)):\n",
    "#     for j in range(len(lncRNA)):\n",
    "#         SL[i][j] = (lam*norm(LMD[i].dot(LMD[j])) + (1-lam)*norm(LMD[i]-LMD[j]))/np.sqrt(len(LMD[0]))\n",
    "# np.save(\"SL\",SL)"
   ]
  },
  {
   "cell_type": "code",
   "execution_count": 19,
   "metadata": {},
   "outputs": [],
   "source": [
    "SL = np.load(\"./SL.npy\")"
   ]
  },
  {
   "cell_type": "code",
   "execution_count": 20,
   "metadata": {},
   "outputs": [],
   "source": [
    "# # # run this only if SD.csv not found\n",
    "# SD = np.zeros(shape=(len(disease),len(disease)))\n",
    "# for i in range(len(disease)):\n",
    "#     for j in range(len(disease)):\n",
    "#         SD[i][j] = (lam*norm(DML[i]*DML[j]) + (1-lam)*norm(DML[i]-DML[j]))/np.sqrt(len(DML[0]))\n",
    "# np.save(\"SD\",SD)"
   ]
  },
  {
   "cell_type": "code",
   "execution_count": 21,
   "metadata": {},
   "outputs": [],
   "source": [
    "SD = np.load('SD.npy')"
   ]
  },
  {
   "cell_type": "code",
   "execution_count": 22,
   "metadata": {},
   "outputs": [],
   "source": [
    "k = 217 "
   ]
  },
  {
   "cell_type": "code",
   "execution_count": 23,
   "metadata": {},
   "outputs": [],
   "source": [
    "wt_ = (2)/(k*(k+1)) "
   ]
  },
  {
   "cell_type": "code",
   "execution_count": 24,
   "metadata": {},
   "outputs": [],
   "source": [
    "#  #If u dont have y1, run this , this runs for around 7 mins  (this ran with k = 217)\n",
    "# Y1 = LD.copy()\n",
    "# KL = np.zeros(shape=(len(lncRNA),k))\n",
    "# for i in range(len(lncRNA)):\n",
    "#     sl_ = SL[i].argsort()[::-1]\n",
    "#     for j in range(k):\n",
    "#         KL[i][j] = sl_[j]\n",
    "# for i in range(len(lncRNA)):\n",
    "#     for j in range(len(disease)):\n",
    "#         if Y1[i][j] == 0:\n",
    "#             for t in range(k): \n",
    "#                 # wt = 2*(k-t)/(k*(k+1)) this is computaional expens\n",
    "#                 wt = wt_*(k-t)\n",
    "#                 n = int(KL[i][t])\n",
    "#                 Y1[i][j] += LD[n][j]*SL[i][n]*wt\n",
    "# np.save(\"Y1\",Y1)"
   ]
  },
  {
   "cell_type": "code",
   "execution_count": 25,
   "metadata": {},
   "outputs": [],
   "source": [
    "Y1 = np.load(\"Y1.npy\")"
   ]
  },
  {
   "cell_type": "code",
   "execution_count": 28,
   "metadata": {},
   "outputs": [],
   "source": [
    "# # run this only if Y2 in not there this run for around 8 mins(this ran with k = 217)\n",
    "#  Y2 = LD.copy()\n",
    "# Y2 = Y2.T\n",
    "# KD = np.zeros(shape=(len(disease),k))\n",
    "# Y_t = LD.T\n",
    "# for i in range(len(disease)):\n",
    "#     sd_ = SD[i].argsort()[::-1]\n",
    "#     for j in range(k):\n",
    "#         KD[i][j] = sd_[j]\n",
    "# for i in range(Y2.shape[0]):\n",
    "#     for j in range(Y2.shape[1]):\n",
    "#         if Y2[i][j] == 0:\n",
    "#             for t in range(k):\n",
    "#                 wt = wt_*(k-t)\n",
    "#                 n = int(KD[i][t])\n",
    "#                 Y2[i][j] += Y_t[n][j]*SD[i][n]*wt \n",
    "# Y2 = Y2.T\n",
    "# np.save(\"Y2\",Y2)"
   ]
  },
  {
   "cell_type": "code",
   "execution_count": 29,
   "metadata": {},
   "outputs": [],
   "source": [
    "Y2 = np.load(\"Y2.npy\")"
   ]
  },
  {
   "cell_type": "code",
   "execution_count": 58,
   "metadata": {},
   "outputs": [
    {
     "data": {
      "text/plain": [
       "5.142199168393014"
      ]
     },
     "execution_count": 58,
     "metadata": {},
     "output_type": "execute_result"
    }
   ],
   "source": [
    "Y1.max()"
   ]
  },
  {
   "cell_type": "code",
   "execution_count": 59,
   "metadata": {},
   "outputs": [
    {
     "data": {
      "text/plain": [
       "1.0"
      ]
     },
     "execution_count": 59,
     "metadata": {},
     "output_type": "execute_result"
    }
   ],
   "source": [
    "Y2.max()"
   ]
  },
  {
   "cell_type": "code",
   "execution_count": null,
   "metadata": {},
   "outputs": [],
   "source": [
    "# optimal values \n",
    "# nu1,nu2 = 0.12670215, 0.53003007431\n",
    "# (0.999999999999591, 0.04042105250750801)\n",
    "# nu1,nu2 = 0.12670215, 0.5300300743106127\n",
    "# (1.0, 0.040421052507512635)"
   ]
  },
  {
   "cell_type": "code",
   "execution_count": 184,
   "metadata": {},
   "outputs": [
    {
     "data": {
      "text/plain": [
       "(1.0, 0.040421052507512635)"
      ]
     },
     "execution_count": 184,
     "metadata": {},
     "output_type": "execute_result"
    }
   ],
   "source": [
    "nu1,nu2 = 0.12670215, 0.5300300743106127\n",
    "Y0 = np.zeros(shape=Y1.shape)\n",
    "for i in range(Y0.shape[0]):\n",
    "    for j in range(Y0.shape[1]):\n",
    "        Y0[i][j] = nu1*Y1[i][j] + nu2*Y2[i][j]\n",
    "# Y0/\n",
    "Y0.max(),Y0.min()"
   ]
  },
  {
   "cell_type": "code",
   "execution_count": null,
   "metadata": {},
   "outputs": [],
   "source": [
    "# np.save(\"Y0\",Y0)"
   ]
  },
  {
   "cell_type": "code",
   "execution_count": 3,
   "metadata": {},
   "outputs": [],
   "source": [
    "Y0 = np.load(\"Y0.npy\")"
   ]
  },
  {
   "cell_type": "code",
   "execution_count": 7,
   "metadata": {},
   "outputs": [
    {
     "data": {
      "text/plain": [
       "(3882756, 3882756)"
      ]
     },
     "execution_count": 7,
     "metadata": {},
     "output_type": "execute_result"
    }
   ],
   "source": [
    "d_len = len(disease)\n",
    "l_len = len(lncRNA)\n",
    "l = np.array([[a]*d_len for a in lncRNA]).flatten()\n",
    "d = np.array(l_len*disease.tolist())\n",
    "d.size,l.size"
   ]
  },
  {
   "cell_type": "code",
   "execution_count": 8,
   "metadata": {},
   "outputs": [],
   "source": [
    "stat_d = pd.DataFrame()\n",
    "stat_d['lncRNA'] = l.copy()\n",
    "stat_d['diease'] = d.copy()\n",
    "stat_d['Algorithmic Value'] = Y0.flatten().copy()\n",
    "stat_d['Algorithmic Value'] = stat_d['Algorithmic Value']"
   ]
  },
  {
   "cell_type": "code",
   "execution_count": 9,
   "metadata": {},
   "outputs": [],
   "source": [
    "stat_d.to_csv(\"DMWNN_final_ouput.csv\")"
   ]
  },
  {
   "cell_type": "code",
   "execution_count": 5,
   "metadata": {},
   "outputs": [
    {
     "data": {
      "text/plain": [
       "0"
      ]
     },
     "execution_count": 5,
     "metadata": {},
     "output_type": "execute_result"
    }
   ],
   "source": [
    "Y0.flatten().tolist().count(0)"
   ]
  }
 ],
 "metadata": {
  "kernelspec": {
   "display_name": "Python 3 (ipykernel)",
   "language": "python",
   "name": "python3"
  },
  "language_info": {
   "codemirror_mode": {
    "name": "ipython",
    "version": 3
   },
   "file_extension": ".py",
   "mimetype": "text/x-python",
   "name": "python",
   "nbconvert_exporter": "python",
   "pygments_lexer": "ipython3",
   "version": "3.11.4"
  }
 },
 "nbformat": 4,
 "nbformat_minor": 2
}
