{
 "cells": [
  {
   "cell_type": "code",
   "execution_count": 2,
   "metadata": {},
   "outputs": [],
   "source": [
    "import pandas as pd\n",
    "import numpy as np\n",
    "import networkx as nx \n",
    "from numpy.linalg import norm\n"
   ]
  },
  {
   "cell_type": "code",
   "execution_count": 3,
   "metadata": {},
   "outputs": [],
   "source": [
    "# # from colab run this \n",
    "# !git clone https://github.com/gru13/lncRNA_Disease_association.git\n",
    "# df_lnc_die = pd.read_csv(r\"./lncRNA_Disease_association/datasets/lncrnaDiesease3/website_alldata_p1.csv\")\n",
    "# df_lnc_mir = pd.read_csv(r\"./lncRNA_Disease_association/datasets/LncRNASNP/Homo_sapiens_lncRNA_miRNA_interactions.csv\")\n",
    "# df_mir_die = pd.read_csv(r\"./lncRNA_Disease_association/datasets/rnaDisease/RNADisease_RNA-disease_miRNA_predict.csv\")"
   ]
  },
  {
   "cell_type": "code",
   "execution_count": 4,
   "metadata": {},
   "outputs": [],
   "source": [
    "# from local system\n",
    "df_lnc_die = pd.read_csv(r\"./../datasets/lncrnaDiesease3/website_alldata_p1.csv\")\n",
    "df_lnc_mir = pd.read_csv(r\"./../datasets/LncRNASNP/Homo_sapiens_lncRNA_miRNA_interactions.csv\")\n",
    "df_mir_die = pd.read_csv(r\"./../datasets/rnaDisease/RNADisease_RNA-disease_miRNA_predict.csv\")\n"
   ]
  },
  {
   "cell_type": "code",
   "execution_count": 5,
   "metadata": {},
   "outputs": [
    {
     "data": {
      "text/plain": [
       "(        lncRNA                    Disease  PubMed ID\n",
       " 0  ARHGAP5-AS1  Carcinoma, Hepatocellular   36354136\n",
       " 1       HOTTIP               Osteosarcoma   33475442\n",
       " 2       HOTTIP                     Glioma   35402278\n",
       " 3       HOTTIP             Retinoblastoma   33784880\n",
       " 4       HOTTIP          stomach carcinoma   32633359,\n",
       "             lncRNA           miRNA\n",
       " 0  NONHSAT000002.2  hsa-miR-15a-5p\n",
       " 1  NONHSAT000002.2  hsa-miR-15a-3p\n",
       " 2  NONHSAT000002.2   hsa-miR-16-5p\n",
       " 3  NONHSAT000002.2   hsa-miR-21-3p\n",
       " 4  NONHSAT000002.2   hsa-miR-28-5p,\n",
       "           miRNA                    Disease\n",
       " 0  hsa-let-7a-1  Abdominal aortic aneurysm\n",
       " 1  hsa-let-7a-2  Abdominal aortic aneurysm\n",
       " 2  hsa-let-7a-3  Abdominal aortic aneurysm\n",
       " 3    hsa-let-7c  Abdominal aortic aneurysm\n",
       " 4    hsa-let-7d  Abdominal aortic aneurysm)"
      ]
     },
     "execution_count": 5,
     "metadata": {},
     "output_type": "execute_result"
    }
   ],
   "source": [
    "df_lnc_die.head(),df_lnc_mir.head(),df_mir_die.head()"
   ]
  },
  {
   "cell_type": "code",
   "execution_count": 6,
   "metadata": {},
   "outputs": [],
   "source": [
    "dataset1 = pd.merge(df_lnc_mir,df_lnc_die,on=['lncRNA'],how='inner')\n",
    "dataset2 = pd.merge(df_lnc_mir,df_mir_die,on=['miRNA'],how='inner')"
   ]
  },
  {
   "cell_type": "code",
   "execution_count": 7,
   "metadata": {},
   "outputs": [
    {
     "data": {
      "text/html": [
       "<div>\n",
       "<style scoped>\n",
       "    .dataframe tbody tr th:only-of-type {\n",
       "        vertical-align: middle;\n",
       "    }\n",
       "\n",
       "    .dataframe tbody tr th {\n",
       "        vertical-align: top;\n",
       "    }\n",
       "\n",
       "    .dataframe thead th {\n",
       "        text-align: right;\n",
       "    }\n",
       "</style>\n",
       "<table border=\"1\" class=\"dataframe\">\n",
       "  <thead>\n",
       "    <tr style=\"text-align: right;\">\n",
       "      <th></th>\n",
       "      <th>lncRNA</th>\n",
       "      <th>miRNA</th>\n",
       "      <th>Disease</th>\n",
       "      <th>PubMed ID</th>\n",
       "    </tr>\n",
       "  </thead>\n",
       "  <tbody>\n",
       "    <tr>\n",
       "      <th>0</th>\n",
       "      <td>NONHSAT000612.2</td>\n",
       "      <td>hsa-miR-570-3p</td>\n",
       "      <td>Osteoarthritis</td>\n",
       "      <td>34780784</td>\n",
       "    </tr>\n",
       "    <tr>\n",
       "      <th>1</th>\n",
       "      <td>NONHSAT000612.2</td>\n",
       "      <td>hsa-miR-651-3p</td>\n",
       "      <td>Osteoarthritis</td>\n",
       "      <td>34780784</td>\n",
       "    </tr>\n",
       "    <tr>\n",
       "      <th>2</th>\n",
       "      <td>NONHSAT000612.2</td>\n",
       "      <td>hsa-miR-449b-3p</td>\n",
       "      <td>Osteoarthritis</td>\n",
       "      <td>34780784</td>\n",
       "    </tr>\n",
       "    <tr>\n",
       "      <th>3</th>\n",
       "      <td>NONHSAT000612.2</td>\n",
       "      <td>hsa-miR-1468-3p</td>\n",
       "      <td>Osteoarthritis</td>\n",
       "      <td>34780784</td>\n",
       "    </tr>\n",
       "    <tr>\n",
       "      <th>4</th>\n",
       "      <td>NONHSAT000612.2</td>\n",
       "      <td>hsa-miR-874-5p</td>\n",
       "      <td>Osteoarthritis</td>\n",
       "      <td>34780784</td>\n",
       "    </tr>\n",
       "    <tr>\n",
       "      <th>...</th>\n",
       "      <td>...</td>\n",
       "      <td>...</td>\n",
       "      <td>...</td>\n",
       "      <td>...</td>\n",
       "    </tr>\n",
       "    <tr>\n",
       "      <th>590</th>\n",
       "      <td>NONHSAT015292.2</td>\n",
       "      <td>hsa-miR-9902</td>\n",
       "      <td>Osteoarthritis</td>\n",
       "      <td>34780784</td>\n",
       "    </tr>\n",
       "    <tr>\n",
       "      <th>591</th>\n",
       "      <td>NONHSAT015292.2</td>\n",
       "      <td>hsa-miR-10522-5p</td>\n",
       "      <td>Osteoarthritis</td>\n",
       "      <td>34780784</td>\n",
       "    </tr>\n",
       "    <tr>\n",
       "      <th>592</th>\n",
       "      <td>NONHSAT015292.2</td>\n",
       "      <td>hsa-miR-10526-3p</td>\n",
       "      <td>Osteoarthritis</td>\n",
       "      <td>34780784</td>\n",
       "    </tr>\n",
       "    <tr>\n",
       "      <th>593</th>\n",
       "      <td>NONHSAT015292.2</td>\n",
       "      <td>hsa-miR-9851-3p</td>\n",
       "      <td>Osteoarthritis</td>\n",
       "      <td>34780784</td>\n",
       "    </tr>\n",
       "    <tr>\n",
       "      <th>594</th>\n",
       "      <td>NONHSAT015292.2</td>\n",
       "      <td>hsa-miR-12118</td>\n",
       "      <td>Osteoarthritis</td>\n",
       "      <td>34780784</td>\n",
       "    </tr>\n",
       "  </tbody>\n",
       "</table>\n",
       "<p>595 rows × 4 columns</p>\n",
       "</div>"
      ],
      "text/plain": [
       "              lncRNA             miRNA         Disease  PubMed ID\n",
       "0    NONHSAT000612.2    hsa-miR-570-3p  Osteoarthritis   34780784\n",
       "1    NONHSAT000612.2    hsa-miR-651-3p  Osteoarthritis   34780784\n",
       "2    NONHSAT000612.2   hsa-miR-449b-3p  Osteoarthritis   34780784\n",
       "3    NONHSAT000612.2   hsa-miR-1468-3p  Osteoarthritis   34780784\n",
       "4    NONHSAT000612.2    hsa-miR-874-5p  Osteoarthritis   34780784\n",
       "..               ...               ...             ...        ...\n",
       "590  NONHSAT015292.2      hsa-miR-9902  Osteoarthritis   34780784\n",
       "591  NONHSAT015292.2  hsa-miR-10522-5p  Osteoarthritis   34780784\n",
       "592  NONHSAT015292.2  hsa-miR-10526-3p  Osteoarthritis   34780784\n",
       "593  NONHSAT015292.2   hsa-miR-9851-3p  Osteoarthritis   34780784\n",
       "594  NONHSAT015292.2     hsa-miR-12118  Osteoarthritis   34780784\n",
       "\n",
       "[595 rows x 4 columns]"
      ]
     },
     "execution_count": 7,
     "metadata": {},
     "output_type": "execute_result"
    }
   ],
   "source": [
    "dataset1"
   ]
  },
  {
   "cell_type": "code",
   "execution_count": 8,
   "metadata": {},
   "outputs": [
    {
     "data": {
      "text/html": [
       "<div>\n",
       "<style scoped>\n",
       "    .dataframe tbody tr th:only-of-type {\n",
       "        vertical-align: middle;\n",
       "    }\n",
       "\n",
       "    .dataframe tbody tr th {\n",
       "        vertical-align: top;\n",
       "    }\n",
       "\n",
       "    .dataframe thead th {\n",
       "        text-align: right;\n",
       "    }\n",
       "</style>\n",
       "<table border=\"1\" class=\"dataframe\">\n",
       "  <thead>\n",
       "    <tr style=\"text-align: right;\">\n",
       "      <th></th>\n",
       "      <th>lncRNA</th>\n",
       "      <th>miRNA</th>\n",
       "      <th>Disease</th>\n",
       "    </tr>\n",
       "  </thead>\n",
       "  <tbody>\n",
       "    <tr>\n",
       "      <th>0</th>\n",
       "      <td>NONHSAT000002.2</td>\n",
       "      <td>hsa-miR-15a-5p</td>\n",
       "      <td>Abortion habitual</td>\n",
       "    </tr>\n",
       "    <tr>\n",
       "      <th>1</th>\n",
       "      <td>NONHSAT000002.2</td>\n",
       "      <td>hsa-miR-15a-5p</td>\n",
       "      <td>Acoustic neuroma</td>\n",
       "    </tr>\n",
       "    <tr>\n",
       "      <th>2</th>\n",
       "      <td>NONHSAT000002.2</td>\n",
       "      <td>hsa-miR-15a-5p</td>\n",
       "      <td>Acquired immunodeficiency syndrome</td>\n",
       "    </tr>\n",
       "    <tr>\n",
       "      <th>3</th>\n",
       "      <td>NONHSAT000002.2</td>\n",
       "      <td>hsa-miR-15a-5p</td>\n",
       "      <td>Acute coronary syndrome</td>\n",
       "    </tr>\n",
       "    <tr>\n",
       "      <th>4</th>\n",
       "      <td>NONHSAT000002.2</td>\n",
       "      <td>hsa-miR-15a-5p</td>\n",
       "      <td>Acute kidney failure</td>\n",
       "    </tr>\n",
       "    <tr>\n",
       "      <th>...</th>\n",
       "      <td>...</td>\n",
       "      <td>...</td>\n",
       "      <td>...</td>\n",
       "    </tr>\n",
       "    <tr>\n",
       "      <th>9376652</th>\n",
       "      <td>NONHSAT017231.2</td>\n",
       "      <td>hsa-miR-4514</td>\n",
       "      <td>Cancer</td>\n",
       "    </tr>\n",
       "    <tr>\n",
       "      <th>9376653</th>\n",
       "      <td>NONHSAT017231.2</td>\n",
       "      <td>hsa-miR-4514</td>\n",
       "      <td>Vascular diseases</td>\n",
       "    </tr>\n",
       "    <tr>\n",
       "      <th>9376654</th>\n",
       "      <td>NONHSAT017231.2</td>\n",
       "      <td>hsa-miR-4533</td>\n",
       "      <td>Cancer</td>\n",
       "    </tr>\n",
       "    <tr>\n",
       "      <th>9376655</th>\n",
       "      <td>NONHSAT017231.2</td>\n",
       "      <td>hsa-miR-4692</td>\n",
       "      <td>Cancer</td>\n",
       "    </tr>\n",
       "    <tr>\n",
       "      <th>9376656</th>\n",
       "      <td>NONHSAT017231.2</td>\n",
       "      <td>hsa-miR-4692</td>\n",
       "      <td>Vascular diseases</td>\n",
       "    </tr>\n",
       "  </tbody>\n",
       "</table>\n",
       "<p>9376657 rows × 3 columns</p>\n",
       "</div>"
      ],
      "text/plain": [
       "                  lncRNA           miRNA                             Disease\n",
       "0        NONHSAT000002.2  hsa-miR-15a-5p                   Abortion habitual\n",
       "1        NONHSAT000002.2  hsa-miR-15a-5p                    Acoustic neuroma\n",
       "2        NONHSAT000002.2  hsa-miR-15a-5p  Acquired immunodeficiency syndrome\n",
       "3        NONHSAT000002.2  hsa-miR-15a-5p             Acute coronary syndrome\n",
       "4        NONHSAT000002.2  hsa-miR-15a-5p                Acute kidney failure\n",
       "...                  ...             ...                                 ...\n",
       "9376652  NONHSAT017231.2    hsa-miR-4514                              Cancer\n",
       "9376653  NONHSAT017231.2    hsa-miR-4514                   Vascular diseases\n",
       "9376654  NONHSAT017231.2    hsa-miR-4533                              Cancer\n",
       "9376655  NONHSAT017231.2    hsa-miR-4692                              Cancer\n",
       "9376656  NONHSAT017231.2    hsa-miR-4692                   Vascular diseases\n",
       "\n",
       "[9376657 rows x 3 columns]"
      ]
     },
     "execution_count": 8,
     "metadata": {},
     "output_type": "execute_result"
    }
   ],
   "source": [
    "dataset2"
   ]
  },
  {
   "cell_type": "code",
   "execution_count": 9,
   "metadata": {},
   "outputs": [
    {
     "data": {
      "text/html": [
       "<div>\n",
       "<style scoped>\n",
       "    .dataframe tbody tr th:only-of-type {\n",
       "        vertical-align: middle;\n",
       "    }\n",
       "\n",
       "    .dataframe tbody tr th {\n",
       "        vertical-align: top;\n",
       "    }\n",
       "\n",
       "    .dataframe thead th {\n",
       "        text-align: right;\n",
       "    }\n",
       "</style>\n",
       "<table border=\"1\" class=\"dataframe\">\n",
       "  <thead>\n",
       "    <tr style=\"text-align: right;\">\n",
       "      <th></th>\n",
       "      <th>lncRNA</th>\n",
       "      <th>miRNA</th>\n",
       "      <th>Disease</th>\n",
       "    </tr>\n",
       "  </thead>\n",
       "  <tbody>\n",
       "    <tr>\n",
       "      <th>0</th>\n",
       "      <td>NONHSAT000002.2</td>\n",
       "      <td>hsa-miR-15a-5p</td>\n",
       "      <td>Abortion habitual</td>\n",
       "    </tr>\n",
       "    <tr>\n",
       "      <th>1</th>\n",
       "      <td>NONHSAT000002.2</td>\n",
       "      <td>hsa-miR-15a-5p</td>\n",
       "      <td>Acoustic neuroma</td>\n",
       "    </tr>\n",
       "    <tr>\n",
       "      <th>2</th>\n",
       "      <td>NONHSAT000002.2</td>\n",
       "      <td>hsa-miR-15a-5p</td>\n",
       "      <td>Acquired immunodeficiency syndrome</td>\n",
       "    </tr>\n",
       "    <tr>\n",
       "      <th>3</th>\n",
       "      <td>NONHSAT000002.2</td>\n",
       "      <td>hsa-miR-15a-5p</td>\n",
       "      <td>Acute coronary syndrome</td>\n",
       "    </tr>\n",
       "    <tr>\n",
       "      <th>4</th>\n",
       "      <td>NONHSAT000002.2</td>\n",
       "      <td>hsa-miR-15a-5p</td>\n",
       "      <td>Acute kidney failure</td>\n",
       "    </tr>\n",
       "    <tr>\n",
       "      <th>...</th>\n",
       "      <td>...</td>\n",
       "      <td>...</td>\n",
       "      <td>...</td>\n",
       "    </tr>\n",
       "    <tr>\n",
       "      <th>9376652</th>\n",
       "      <td>NONHSAT017231.2</td>\n",
       "      <td>hsa-miR-4514</td>\n",
       "      <td>Cancer</td>\n",
       "    </tr>\n",
       "    <tr>\n",
       "      <th>9376653</th>\n",
       "      <td>NONHSAT017231.2</td>\n",
       "      <td>hsa-miR-4514</td>\n",
       "      <td>Vascular diseases</td>\n",
       "    </tr>\n",
       "    <tr>\n",
       "      <th>9376654</th>\n",
       "      <td>NONHSAT017231.2</td>\n",
       "      <td>hsa-miR-4533</td>\n",
       "      <td>Cancer</td>\n",
       "    </tr>\n",
       "    <tr>\n",
       "      <th>9376655</th>\n",
       "      <td>NONHSAT017231.2</td>\n",
       "      <td>hsa-miR-4692</td>\n",
       "      <td>Cancer</td>\n",
       "    </tr>\n",
       "    <tr>\n",
       "      <th>9376656</th>\n",
       "      <td>NONHSAT017231.2</td>\n",
       "      <td>hsa-miR-4692</td>\n",
       "      <td>Vascular diseases</td>\n",
       "    </tr>\n",
       "  </tbody>\n",
       "</table>\n",
       "<p>9376657 rows × 3 columns</p>\n",
       "</div>"
      ],
      "text/plain": [
       "                  lncRNA           miRNA                             Disease\n",
       "0        NONHSAT000002.2  hsa-miR-15a-5p                   Abortion habitual\n",
       "1        NONHSAT000002.2  hsa-miR-15a-5p                    Acoustic neuroma\n",
       "2        NONHSAT000002.2  hsa-miR-15a-5p  Acquired immunodeficiency syndrome\n",
       "3        NONHSAT000002.2  hsa-miR-15a-5p             Acute coronary syndrome\n",
       "4        NONHSAT000002.2  hsa-miR-15a-5p                Acute kidney failure\n",
       "...                  ...             ...                                 ...\n",
       "9376652  NONHSAT017231.2    hsa-miR-4514                              Cancer\n",
       "9376653  NONHSAT017231.2    hsa-miR-4514                   Vascular diseases\n",
       "9376654  NONHSAT017231.2    hsa-miR-4533                              Cancer\n",
       "9376655  NONHSAT017231.2    hsa-miR-4692                              Cancer\n",
       "9376656  NONHSAT017231.2    hsa-miR-4692                   Vascular diseases\n",
       "\n",
       "[9376657 rows x 3 columns]"
      ]
     },
     "execution_count": 9,
     "metadata": {},
     "output_type": "execute_result"
    }
   ],
   "source": [
    "df = dataset2.copy()\n",
    "df"
   ]
  },
  {
   "cell_type": "code",
   "execution_count": 10,
   "metadata": {},
   "outputs": [],
   "source": [
    "# # only run this for first time \n",
    "# disease = df['Disease'].unique()\n",
    "# lncRNA = df['lncRNA'].unique()\n",
    "# miRNA = df['miRNA'].unique()\n",
    "\n",
    "# np.savetxt(\"./disease.txt\",disease,delimiter=',',fmt='%s')\n",
    "# np.savetxt(\"./lncRNA.txt\",lncRNA,delimiter=',',fmt='%s')\n",
    "# np.savetxt(\"./miRNA.txt\",miRNA,delimiter=',',fmt='%s')"
   ]
  },
  {
   "cell_type": "code",
   "execution_count": 11,
   "metadata": {},
   "outputs": [],
   "source": [
    "lncRNA = np.array([a[:-1] for a in open(\"./lncRNA.txt\").readlines()])\n",
    "miRNA = np.array([a[:-1] for a in open(\"./miRNA.txt\").readlines()])\n",
    "disease = np.array([a[:-1] for a in open(\"./disease.txt\").readlines()])"
   ]
  },
  {
   "cell_type": "code",
   "execution_count": 12,
   "metadata": {},
   "outputs": [
    {
     "data": {
      "text/plain": [
       "(7554, 239, 514)"
      ]
     },
     "execution_count": 12,
     "metadata": {},
     "output_type": "execute_result"
    }
   ],
   "source": [
    "len(lncRNA),len(miRNA),len(disease)"
   ]
  },
  {
   "cell_type": "markdown",
   "metadata": {},
   "source": [
    "CReation of the graph that contains the totaly connected with miRNA, lncRNA, Disease"
   ]
  },
  {
   "cell_type": "code",
   "execution_count": 13,
   "metadata": {},
   "outputs": [],
   "source": [
    "G = nx.Graph()\n",
    "for a in df:\n",
    "    for b in df[a].unique().tolist():\n",
    "        G.add_node(b)\n",
    "for a in df.values:\n",
    "    G.add_edge(a[1],a[2])\n",
    "    G.add_edge(a[0],a[1])\n",
    "    G.add_edge(a[2],a[0])"
   ]
  },
  {
   "cell_type": "code",
   "execution_count": 14,
   "metadata": {},
   "outputs": [],
   "source": [
    "mergedAdjencymatrix = nx.adjacency_matrix(G).todense()\n",
    "index_node = {a:b for (a,b) in zip(G.nodes(),range(len(G.nodes())))}"
   ]
  },
  {
   "cell_type": "markdown",
   "metadata": {},
   "source": [
    "CReation of the Lncrna-disease , Lncrna-miRNA, miRNA-Disease assoction matrix (LM,LD,MD)"
   ]
  },
  {
   "cell_type": "code",
   "execution_count": 15,
   "metadata": {},
   "outputs": [
    {
     "data": {
      "text/plain": [
       "array([[1., 1., 1., ..., 0., 0., 0.],\n",
       "       [1., 1., 1., ..., 0., 0., 0.],\n",
       "       [1., 0., 1., ..., 0., 0., 0.],\n",
       "       ...,\n",
       "       [0., 0., 0., ..., 0., 0., 0.],\n",
       "       [0., 0., 0., ..., 0., 0., 0.],\n",
       "       [0., 0., 0., ..., 0., 0., 0.]])"
      ]
     },
     "execution_count": 15,
     "metadata": {},
     "output_type": "execute_result"
    }
   ],
   "source": [
    "LMD = np.zeros(shape=(len(lncRNA),len(miRNA)+len(disease)))\n",
    "LMD_row_index = {a:i for i,a in enumerate(lncRNA)}\n",
    "LMD_col_index = {a:i for i,a in enumerate(miRNA.tolist()+disease.tolist())}\n",
    "for a,i in LMD_row_index.items():\n",
    "    for b,j in LMD_col_index.items():\n",
    "        LMD[i][j] = mergedAdjencymatrix[index_node[a]][index_node[b]]\n",
    "LMD"
   ]
  },
  {
   "cell_type": "code",
   "execution_count": 16,
   "metadata": {},
   "outputs": [
    {
     "data": {
      "text/plain": [
       "array([[1., 0., 1., ..., 0., 0., 0.],\n",
       "       [1., 0., 1., ..., 0., 0., 0.],\n",
       "       [1., 0., 1., ..., 0., 0., 0.],\n",
       "       ...,\n",
       "       [0., 0., 0., ..., 0., 0., 0.],\n",
       "       [0., 0., 0., ..., 0., 0., 0.],\n",
       "       [0., 0., 0., ..., 0., 0., 0.]])"
      ]
     },
     "execution_count": 16,
     "metadata": {},
     "output_type": "execute_result"
    }
   ],
   "source": [
    "DML = np.zeros(shape=(len(disease), len(lncRNA)+len(miRNA)))\n",
    "DML_row_index = {a:i for i,a in enumerate(disease)}\n",
    "DML_col_index = {a:i for i,a in enumerate(miRNA.tolist()+lncRNA.tolist())}\n",
    "for a,i in DML_row_index.items():\n",
    "    for b,j in DML_col_index.items():\n",
    "        DML[i][j] = mergedAdjencymatrix[index_node[a]][index_node[b]]\n",
    "DML"
   ]
  },
  {
   "cell_type": "code",
   "execution_count": 17,
   "metadata": {},
   "outputs": [],
   "source": [
    "lam = 0.2"
   ]
  },
  {
   "cell_type": "code",
   "execution_count": 21,
   "metadata": {},
   "outputs": [],
   "source": [
    "# only run this if the SL.csv not found\n",
    "SL = np.zeros(shape=(len(lncRNA),len(lncRNA)))\n",
    "for i in range(len(lncRNA)):\n",
    "    for j in range(len(lncRNA)):\n",
    "        SL[i][j] = (lam*norm(LMD[i].dot(LMD[j])) + (1-lam)*norm(LMD[i]-LMD[j]))/np.sqrt(len(LMD[0]))\n",
    "np.savetxt(\"./SL.csv\",SL,delimiter=',',fmt=\"%.5f\")"
   ]
  },
  {
   "cell_type": "code",
   "execution_count": 19,
   "metadata": {},
   "outputs": [
    {
     "ename": "FileNotFoundError",
     "evalue": "./SL.csv not found.",
     "output_type": "error",
     "traceback": [
      "\u001b[0;31m---------------------------------------------------------------------------\u001b[0m",
      "\u001b[0;31mFileNotFoundError\u001b[0m                         Traceback (most recent call last)",
      "Cell \u001b[0;32mIn[19], line 1\u001b[0m\n\u001b[0;32m----> 1\u001b[0m SL \u001b[38;5;241m=\u001b[39m \u001b[43mnp\u001b[49m\u001b[38;5;241;43m.\u001b[39;49m\u001b[43mloadtxt\u001b[49m\u001b[43m(\u001b[49m\u001b[38;5;124;43m\"\u001b[39;49m\u001b[38;5;124;43m./SL.csv\u001b[39;49m\u001b[38;5;124;43m\"\u001b[39;49m\u001b[43m,\u001b[49m\u001b[43mdelimiter\u001b[49m\u001b[38;5;241;43m=\u001b[39;49m\u001b[38;5;124;43m'\u001b[39;49m\u001b[38;5;124;43m,\u001b[39;49m\u001b[38;5;124;43m'\u001b[39;49m\u001b[43m,\u001b[49m\u001b[43mdtype\u001b[49m\u001b[38;5;241;43m=\u001b[39;49m\u001b[38;5;28;43mfloat\u001b[39;49m\u001b[43m)\u001b[49m\n",
      "File \u001b[0;32m~/.local/lib/python3.10/site-packages/numpy/lib/npyio.py:1373\u001b[0m, in \u001b[0;36mloadtxt\u001b[0;34m(fname, dtype, comments, delimiter, converters, skiprows, usecols, unpack, ndmin, encoding, max_rows, quotechar, like)\u001b[0m\n\u001b[1;32m   1370\u001b[0m \u001b[38;5;28;01mif\u001b[39;00m \u001b[38;5;28misinstance\u001b[39m(delimiter, \u001b[38;5;28mbytes\u001b[39m):\n\u001b[1;32m   1371\u001b[0m     delimiter \u001b[38;5;241m=\u001b[39m delimiter\u001b[38;5;241m.\u001b[39mdecode(\u001b[38;5;124m'\u001b[39m\u001b[38;5;124mlatin1\u001b[39m\u001b[38;5;124m'\u001b[39m)\n\u001b[0;32m-> 1373\u001b[0m arr \u001b[38;5;241m=\u001b[39m \u001b[43m_read\u001b[49m\u001b[43m(\u001b[49m\u001b[43mfname\u001b[49m\u001b[43m,\u001b[49m\u001b[43m \u001b[49m\u001b[43mdtype\u001b[49m\u001b[38;5;241;43m=\u001b[39;49m\u001b[43mdtype\u001b[49m\u001b[43m,\u001b[49m\u001b[43m \u001b[49m\u001b[43mcomment\u001b[49m\u001b[38;5;241;43m=\u001b[39;49m\u001b[43mcomment\u001b[49m\u001b[43m,\u001b[49m\u001b[43m \u001b[49m\u001b[43mdelimiter\u001b[49m\u001b[38;5;241;43m=\u001b[39;49m\u001b[43mdelimiter\u001b[49m\u001b[43m,\u001b[49m\n\u001b[1;32m   1374\u001b[0m \u001b[43m            \u001b[49m\u001b[43mconverters\u001b[49m\u001b[38;5;241;43m=\u001b[39;49m\u001b[43mconverters\u001b[49m\u001b[43m,\u001b[49m\u001b[43m \u001b[49m\u001b[43mskiplines\u001b[49m\u001b[38;5;241;43m=\u001b[39;49m\u001b[43mskiprows\u001b[49m\u001b[43m,\u001b[49m\u001b[43m \u001b[49m\u001b[43musecols\u001b[49m\u001b[38;5;241;43m=\u001b[39;49m\u001b[43musecols\u001b[49m\u001b[43m,\u001b[49m\n\u001b[1;32m   1375\u001b[0m \u001b[43m            \u001b[49m\u001b[43munpack\u001b[49m\u001b[38;5;241;43m=\u001b[39;49m\u001b[43munpack\u001b[49m\u001b[43m,\u001b[49m\u001b[43m \u001b[49m\u001b[43mndmin\u001b[49m\u001b[38;5;241;43m=\u001b[39;49m\u001b[43mndmin\u001b[49m\u001b[43m,\u001b[49m\u001b[43m \u001b[49m\u001b[43mencoding\u001b[49m\u001b[38;5;241;43m=\u001b[39;49m\u001b[43mencoding\u001b[49m\u001b[43m,\u001b[49m\n\u001b[1;32m   1376\u001b[0m \u001b[43m            \u001b[49m\u001b[43mmax_rows\u001b[49m\u001b[38;5;241;43m=\u001b[39;49m\u001b[43mmax_rows\u001b[49m\u001b[43m,\u001b[49m\u001b[43m \u001b[49m\u001b[43mquote\u001b[49m\u001b[38;5;241;43m=\u001b[39;49m\u001b[43mquotechar\u001b[49m\u001b[43m)\u001b[49m\n\u001b[1;32m   1378\u001b[0m \u001b[38;5;28;01mreturn\u001b[39;00m arr\n",
      "File \u001b[0;32m~/.local/lib/python3.10/site-packages/numpy/lib/npyio.py:992\u001b[0m, in \u001b[0;36m_read\u001b[0;34m(fname, delimiter, comment, quote, imaginary_unit, usecols, skiplines, max_rows, converters, ndmin, unpack, dtype, encoding)\u001b[0m\n\u001b[1;32m    990\u001b[0m     fname \u001b[38;5;241m=\u001b[39m os\u001b[38;5;241m.\u001b[39mfspath(fname)\n\u001b[1;32m    991\u001b[0m \u001b[38;5;28;01mif\u001b[39;00m \u001b[38;5;28misinstance\u001b[39m(fname, \u001b[38;5;28mstr\u001b[39m):\n\u001b[0;32m--> 992\u001b[0m     fh \u001b[38;5;241m=\u001b[39m \u001b[43mnp\u001b[49m\u001b[38;5;241;43m.\u001b[39;49m\u001b[43mlib\u001b[49m\u001b[38;5;241;43m.\u001b[39;49m\u001b[43m_datasource\u001b[49m\u001b[38;5;241;43m.\u001b[39;49m\u001b[43mopen\u001b[49m\u001b[43m(\u001b[49m\u001b[43mfname\u001b[49m\u001b[43m,\u001b[49m\u001b[43m \u001b[49m\u001b[38;5;124;43m'\u001b[39;49m\u001b[38;5;124;43mrt\u001b[39;49m\u001b[38;5;124;43m'\u001b[39;49m\u001b[43m,\u001b[49m\u001b[43m \u001b[49m\u001b[43mencoding\u001b[49m\u001b[38;5;241;43m=\u001b[39;49m\u001b[43mencoding\u001b[49m\u001b[43m)\u001b[49m\n\u001b[1;32m    993\u001b[0m     \u001b[38;5;28;01mif\u001b[39;00m encoding \u001b[38;5;129;01mis\u001b[39;00m \u001b[38;5;28;01mNone\u001b[39;00m:\n\u001b[1;32m    994\u001b[0m         encoding \u001b[38;5;241m=\u001b[39m \u001b[38;5;28mgetattr\u001b[39m(fh, \u001b[38;5;124m'\u001b[39m\u001b[38;5;124mencoding\u001b[39m\u001b[38;5;124m'\u001b[39m, \u001b[38;5;124m'\u001b[39m\u001b[38;5;124mlatin1\u001b[39m\u001b[38;5;124m'\u001b[39m)\n",
      "File \u001b[0;32m~/.local/lib/python3.10/site-packages/numpy/lib/_datasource.py:193\u001b[0m, in \u001b[0;36mopen\u001b[0;34m(path, mode, destpath, encoding, newline)\u001b[0m\n\u001b[1;32m    156\u001b[0m \u001b[38;5;250m\u001b[39m\u001b[38;5;124;03m\"\"\"\u001b[39;00m\n\u001b[1;32m    157\u001b[0m \u001b[38;5;124;03mOpen `path` with `mode` and return the file object.\u001b[39;00m\n\u001b[1;32m    158\u001b[0m \n\u001b[0;32m   (...)\u001b[0m\n\u001b[1;32m    189\u001b[0m \n\u001b[1;32m    190\u001b[0m \u001b[38;5;124;03m\"\"\"\u001b[39;00m\n\u001b[1;32m    192\u001b[0m ds \u001b[38;5;241m=\u001b[39m DataSource(destpath)\n\u001b[0;32m--> 193\u001b[0m \u001b[38;5;28;01mreturn\u001b[39;00m \u001b[43mds\u001b[49m\u001b[38;5;241;43m.\u001b[39;49m\u001b[43mopen\u001b[49m\u001b[43m(\u001b[49m\u001b[43mpath\u001b[49m\u001b[43m,\u001b[49m\u001b[43m \u001b[49m\u001b[43mmode\u001b[49m\u001b[43m,\u001b[49m\u001b[43m \u001b[49m\u001b[43mencoding\u001b[49m\u001b[38;5;241;43m=\u001b[39;49m\u001b[43mencoding\u001b[49m\u001b[43m,\u001b[49m\u001b[43m \u001b[49m\u001b[43mnewline\u001b[49m\u001b[38;5;241;43m=\u001b[39;49m\u001b[43mnewline\u001b[49m\u001b[43m)\u001b[49m\n",
      "File \u001b[0;32m~/.local/lib/python3.10/site-packages/numpy/lib/_datasource.py:533\u001b[0m, in \u001b[0;36mDataSource.open\u001b[0;34m(self, path, mode, encoding, newline)\u001b[0m\n\u001b[1;32m    530\u001b[0m     \u001b[38;5;28;01mreturn\u001b[39;00m _file_openers[ext](found, mode\u001b[38;5;241m=\u001b[39mmode,\n\u001b[1;32m    531\u001b[0m                               encoding\u001b[38;5;241m=\u001b[39mencoding, newline\u001b[38;5;241m=\u001b[39mnewline)\n\u001b[1;32m    532\u001b[0m \u001b[38;5;28;01melse\u001b[39;00m:\n\u001b[0;32m--> 533\u001b[0m     \u001b[38;5;28;01mraise\u001b[39;00m \u001b[38;5;167;01mFileNotFoundError\u001b[39;00m(\u001b[38;5;124mf\u001b[39m\u001b[38;5;124m\"\u001b[39m\u001b[38;5;132;01m{\u001b[39;00mpath\u001b[38;5;132;01m}\u001b[39;00m\u001b[38;5;124m not found.\u001b[39m\u001b[38;5;124m\"\u001b[39m)\n",
      "\u001b[0;31mFileNotFoundError\u001b[0m: ./SL.csv not found."
     ]
    }
   ],
   "source": [
    "# SL = np.loadtxt(\"./SL.csv\",delimiter=',',dtype=float)"
   ]
  },
  {
   "cell_type": "code",
   "execution_count": 22,
   "metadata": {},
   "outputs": [],
   "source": [
    "# # run this only if SD.csv not found\n",
    "SD = np.zeros(shape=(len(disease),len(disease)))\n",
    "for i in range(len(disease)):\n",
    "    for j in range(len(disease)):\n",
    "        SD[i][j] = (lam*norm(DML[i]*DML[j]) + (1-lam)*norm(DML[i]-DML[j]))/np.sqrt(len(DML[0]))\n",
    "np.savetxt(\"./SD.csv\",SD,delimiter=\",\",fmt=\"%.5f\")"
   ]
  },
  {
   "cell_type": "code",
   "execution_count": null,
   "metadata": {},
   "outputs": [],
   "source": [
    "# SD = np.loadtxt(\"./SD.csv\",delimiter=',',dtype=float)"
   ]
  },
  {
   "cell_type": "code",
   "execution_count": 24,
   "metadata": {},
   "outputs": [
    {
     "data": {
      "text/plain": [
       "array([[1.        , 1.        , 1.        , ..., 1.96537339, 1.96537339,\n",
       "        1.77204773],\n",
       "       [1.        , 1.        , 1.        , ..., 1.8093378 , 1.8093378 ,\n",
       "        1.67765501],\n",
       "       [1.        , 4.40763352, 1.        , ..., 1.83531589, 1.83531589,\n",
       "        1.72980845],\n",
       "       ...,\n",
       "       [0.86977875, 0.84492859, 0.86977875, ..., 0.39827729, 0.39827729,\n",
       "        0.34126884],\n",
       "       [0.92473511, 0.90591753, 0.92473511, ..., 0.41542834, 0.41542834,\n",
       "        0.35154627],\n",
       "       [0.81738325, 0.80076727, 0.81738325, ..., 0.35705053, 0.35705053,\n",
       "        0.3118824 ]])"
      ]
     },
     "execution_count": 24,
     "metadata": {},
     "output_type": "execute_result"
    }
   ],
   "source": [
    "#For each element in the association matrix LMD that is zero, the function fills it in by considering the values of the nearest neighbors in the similarity matrix  SL\n",
    "#Like this, we have to perform for DML w.r.t SD too\n",
    "k = 217   #Assumed in the paper\n",
    "a = np.zeros((len(LMD), len(LMD[0])))\n",
    "for i in range(len(LMD)):\n",
    "    for j in range(len(LMD[0])):\n",
    "        a[i, j] = LMD[i, j]\n",
    "K = np.zeros((len(LMD), k))\n",
    "for i in range(len(SL)):\n",
    "    for j in range(k):\n",
    "        K[i, j] = int(SL[i].argsort()[-j - 1])  #sorting in descending order and selecting the first k indices (because only k is required. Ipdi panna dhan largest value front la vandhurum and we can take most similar near value.\n",
    "for i in range(len(LMD)):\n",
    "        for j in range(len(LMD[0])):\n",
    "            if LMD[i, j] == 0:\n",
    "                for t in range(len(K[0])):\n",
    "                    n = int(K[i, t])\n",
    "                    alpha = (k - t) * 2 / (k * (k + 1))                 #Omega formula in paper (pg5 ending)\n",
    "                    a[i, j] = a[i, j] + LMD[n, j] * SL[i, n] * alpha    #Formulae in paper (pg6 starting)\n",
    "a       #a must be the updated LMD matrix"
   ]
  },
  {
   "cell_type": "code",
   "execution_count": null,
   "metadata": {},
   "outputs": [],
   "source": [
    "#Weighted KNN updation of DM-L\n",
    "k = 217   \n",
    "b = np.zeros((len(DML), len(DML[0])))\n",
    "for i in range(len(DML)):\n",
    "    for j in range(len(DML[0])):\n",
    "        b[i, j] = DML[i, j]\n",
    "K = np.zeros((len(DML), k))\n",
    "for i in range(len(SD)):\n",
    "    for j in range(k):\n",
    "        K[i, j] = int(SD[i].argsort()[-j - 1])  \n",
    "for i in range(len(DML)):\n",
    "        for j in range(len(DML[0])):\n",
    "            if DML[i, j] == 0:\n",
    "                for t in range(len(K[0])):\n",
    "                    n = int(K[i, t])\n",
    "                    alpha = (k - t) * 2 / (k * (k + 1))               \n",
    "                    b[i, j] = a[i, j] + DML[n, j] * SD[i, n] * alpha    \n",
    "b       #b must be the DML matrix"
   ]
  }
 ],
 "metadata": {
  "kernelspec": {
   "display_name": "Python 3 (ipykernel)",
   "language": "python",
   "name": "python3"
  },
  "language_info": {
   "codemirror_mode": {
    "name": "ipython",
    "version": 3
   },
   "file_extension": ".py",
   "mimetype": "text/x-python",
   "name": "python",
   "nbconvert_exporter": "python",
   "pygments_lexer": "ipython3",
   "version": "3.10.13"
  }
 },
 "nbformat": 4,
 "nbformat_minor": 2
}
