{
 "cells": [
  {
   "cell_type": "code",
   "execution_count": 1,
   "metadata": {},
   "outputs": [],
   "source": [
    "import pandas as pd\n",
    "import numpy as np\n",
    "import networkx as nx \n",
    "from numpy.linalg import norm"
   ]
  },
  {
   "cell_type": "code",
   "execution_count": 2,
   "metadata": {},
   "outputs": [],
   "source": [
    "# # from colab run this \n",
    "# !git clone https://github.com/gru13/lncRNA_Disease_association.git\n",
    "# df_lnc_die = pd.read_csv(r\"./lncRNA_Disease_association/datasets/lncrnaDiesease3/website_alldata_p1.csv\")\n",
    "# df_lnc_mir = pd.read_csv(r\"./lncRNA_Disease_association/datasets/LncRNASNP/Homo_sapiens_lncRNA_miRNA_interactions.csv\")\n",
    "# df_mir_die = pd.read_csv(r\"./lncRNA_Disease_association/datasets/rnaDisease/RNADisease_RNA-disease_miRNA_predict.csv\")"
   ]
  },
  {
   "cell_type": "code",
   "execution_count": 3,
   "metadata": {},
   "outputs": [],
   "source": [
    "# from local system\n",
    "\n",
    "df_lnc_die = pd.read_csv(r\"./../datasets/lncrnaDiesease3/website_alldata_p1.csv\")\n",
    "df_lnc_mir = pd.read_csv(r\"./../datasets/LncRNASNP/Homo_sapiens_lncRNA_miRNA_interactions.csv\")\n",
    "df_mir_die = pd.read_csv(r\"./../datasets/rnaDisease/RNADisease_RNA-disease_miRNA_predict.csv\")\n"
   ]
  },
  {
   "cell_type": "code",
   "execution_count": 4,
   "metadata": {},
   "outputs": [
    {
     "data": {
      "text/plain": [
       "(        lncRNA                    Disease  PubMed ID\n",
       " 0  ARHGAP5-AS1  Carcinoma, Hepatocellular   36354136\n",
       " 1       HOTTIP               Osteosarcoma   33475442\n",
       " 2       HOTTIP                     Glioma   35402278\n",
       " 3       HOTTIP             Retinoblastoma   33784880\n",
       " 4       HOTTIP          stomach carcinoma   32633359,\n",
       "             lncRNA           miRNA\n",
       " 0  NONHSAT000002.2  hsa-miR-15a-5p\n",
       " 1  NONHSAT000002.2  hsa-miR-15a-3p\n",
       " 2  NONHSAT000002.2   hsa-miR-16-5p\n",
       " 3  NONHSAT000002.2   hsa-miR-21-3p\n",
       " 4  NONHSAT000002.2   hsa-miR-28-5p,\n",
       "           miRNA                    Disease\n",
       " 0  hsa-let-7a-1  Abdominal aortic aneurysm\n",
       " 1  hsa-let-7a-2  Abdominal aortic aneurysm\n",
       " 2  hsa-let-7a-3  Abdominal aortic aneurysm\n",
       " 3    hsa-let-7c  Abdominal aortic aneurysm\n",
       " 4    hsa-let-7d  Abdominal aortic aneurysm)"
      ]
     },
     "execution_count": 4,
     "metadata": {},
     "output_type": "execute_result"
    }
   ],
   "source": [
    "\n",
    "df_lnc_die.head(),df_lnc_mir.head(),df_mir_die.head()"
   ]
  },
  {
   "cell_type": "code",
   "execution_count": 5,
   "metadata": {},
   "outputs": [],
   "source": [
    "dataset1 = pd.merge(df_lnc_mir,df_lnc_die,on=['lncRNA'],how='inner')\n",
    "dataset2 = pd.merge(df_lnc_mir,df_mir_die,on=['miRNA'],how='inner')"
   ]
  },
  {
   "cell_type": "code",
   "execution_count": 6,
   "metadata": {},
   "outputs": [],
   "source": [
    "# dataset1"
   ]
  },
  {
   "cell_type": "code",
   "execution_count": 7,
   "metadata": {},
   "outputs": [
    {
     "data": {
      "text/html": [
       "<div>\n",
       "<style scoped>\n",
       "    .dataframe tbody tr th:only-of-type {\n",
       "        vertical-align: middle;\n",
       "    }\n",
       "\n",
       "    .dataframe tbody tr th {\n",
       "        vertical-align: top;\n",
       "    }\n",
       "\n",
       "    .dataframe thead th {\n",
       "        text-align: right;\n",
       "    }\n",
       "</style>\n",
       "<table border=\"1\" class=\"dataframe\">\n",
       "  <thead>\n",
       "    <tr style=\"text-align: right;\">\n",
       "      <th></th>\n",
       "      <th>lncRNA</th>\n",
       "      <th>miRNA</th>\n",
       "      <th>Disease</th>\n",
       "    </tr>\n",
       "  </thead>\n",
       "  <tbody>\n",
       "    <tr>\n",
       "      <th>0</th>\n",
       "      <td>NONHSAT000002.2</td>\n",
       "      <td>hsa-miR-15a-5p</td>\n",
       "      <td>Abortion habitual</td>\n",
       "    </tr>\n",
       "    <tr>\n",
       "      <th>1</th>\n",
       "      <td>NONHSAT000002.2</td>\n",
       "      <td>hsa-miR-15a-5p</td>\n",
       "      <td>Acoustic neuroma</td>\n",
       "    </tr>\n",
       "    <tr>\n",
       "      <th>2</th>\n",
       "      <td>NONHSAT000002.2</td>\n",
       "      <td>hsa-miR-15a-5p</td>\n",
       "      <td>Acquired immunodeficiency syndrome</td>\n",
       "    </tr>\n",
       "    <tr>\n",
       "      <th>3</th>\n",
       "      <td>NONHSAT000002.2</td>\n",
       "      <td>hsa-miR-15a-5p</td>\n",
       "      <td>Acute coronary syndrome</td>\n",
       "    </tr>\n",
       "    <tr>\n",
       "      <th>4</th>\n",
       "      <td>NONHSAT000002.2</td>\n",
       "      <td>hsa-miR-15a-5p</td>\n",
       "      <td>Acute kidney failure</td>\n",
       "    </tr>\n",
       "    <tr>\n",
       "      <th>...</th>\n",
       "      <td>...</td>\n",
       "      <td>...</td>\n",
       "      <td>...</td>\n",
       "    </tr>\n",
       "    <tr>\n",
       "      <th>9376652</th>\n",
       "      <td>NONHSAT017163.2</td>\n",
       "      <td>hsa-miR-523-3p</td>\n",
       "      <td>Intellectual disability</td>\n",
       "    </tr>\n",
       "    <tr>\n",
       "      <th>9376653</th>\n",
       "      <td>NONHSAT017163.2</td>\n",
       "      <td>hsa-miR-523-3p</td>\n",
       "      <td>Leukemia</td>\n",
       "    </tr>\n",
       "    <tr>\n",
       "      <th>9376654</th>\n",
       "      <td>NONHSAT017163.2</td>\n",
       "      <td>hsa-miR-523-3p</td>\n",
       "      <td>Neurodegenerative diseases</td>\n",
       "    </tr>\n",
       "    <tr>\n",
       "      <th>9376655</th>\n",
       "      <td>NONHSAT017163.2</td>\n",
       "      <td>hsa-miR-523-3p</td>\n",
       "      <td>Skin disease</td>\n",
       "    </tr>\n",
       "    <tr>\n",
       "      <th>9376656</th>\n",
       "      <td>NONHSAT017163.2</td>\n",
       "      <td>hsa-miR-523-3p</td>\n",
       "      <td>Vascular diseases</td>\n",
       "    </tr>\n",
       "  </tbody>\n",
       "</table>\n",
       "<p>9376657 rows × 3 columns</p>\n",
       "</div>"
      ],
      "text/plain": [
       "                  lncRNA           miRNA                             Disease\n",
       "0        NONHSAT000002.2  hsa-miR-15a-5p                   Abortion habitual\n",
       "1        NONHSAT000002.2  hsa-miR-15a-5p                    Acoustic neuroma\n",
       "2        NONHSAT000002.2  hsa-miR-15a-5p  Acquired immunodeficiency syndrome\n",
       "3        NONHSAT000002.2  hsa-miR-15a-5p             Acute coronary syndrome\n",
       "4        NONHSAT000002.2  hsa-miR-15a-5p                Acute kidney failure\n",
       "...                  ...             ...                                 ...\n",
       "9376652  NONHSAT017163.2  hsa-miR-523-3p             Intellectual disability\n",
       "9376653  NONHSAT017163.2  hsa-miR-523-3p                            Leukemia\n",
       "9376654  NONHSAT017163.2  hsa-miR-523-3p          Neurodegenerative diseases\n",
       "9376655  NONHSAT017163.2  hsa-miR-523-3p                        Skin disease\n",
       "9376656  NONHSAT017163.2  hsa-miR-523-3p                   Vascular diseases\n",
       "\n",
       "[9376657 rows x 3 columns]"
      ]
     },
     "execution_count": 7,
     "metadata": {},
     "output_type": "execute_result"
    }
   ],
   "source": [
    "dataset2"
   ]
  },
  {
   "cell_type": "code",
   "execution_count": 8,
   "metadata": {},
   "outputs": [],
   "source": [
    "df = dataset2.copy()\n",
    "# df"
   ]
  },
  {
   "cell_type": "code",
   "execution_count": 9,
   "metadata": {},
   "outputs": [],
   "source": [
    "df = dataset2.copy()"
   ]
  },
  {
   "cell_type": "code",
   "execution_count": 10,
   "metadata": {},
   "outputs": [],
   "source": [
    "# # only run this for first time \n",
    "# disease = df['Disease'].unique()\n",
    "# lncRNA = df['lncRNA'].unique()\n",
    "# miRNA = df['miRNA'].unique()\n",
    "\n",
    "# np.savetxt(\"./disease.txt\",disease,delimiter=',',fmt='%s')\n",
    "# np.savetxt(\"./lncRNA.txt\",lncRNA,delimiter=',',fmt='%s')\n",
    "# np.savetxt(\"./miRNA.txt\",miRNA,delimiter=',',fmt='%s')"
   ]
  },
  {
   "cell_type": "code",
   "execution_count": 11,
   "metadata": {},
   "outputs": [],
   "source": [
    "disease = [a[:-1] for a in open(\"./disease.txt\").readlines()]\n",
    "lncRNA = [a[:-1] for a in open(\"./lncRNA.txt\").readlines()]\n",
    "miRNA = [a[:-1] for a in open(\"./miRNA.txt\").readlines()]"
   ]
  },
  {
   "cell_type": "code",
   "execution_count": 12,
   "metadata": {},
   "outputs": [
    {
     "data": {
      "text/plain": [
       "(7554, 239, 514)"
      ]
     },
     "execution_count": 12,
     "metadata": {},
     "output_type": "execute_result"
    }
   ],
   "source": [
    "len(lncRNA),len(miRNA),len(disease)"
   ]
  },
  {
   "cell_type": "code",
   "execution_count": 13,
   "metadata": {},
   "outputs": [],
   "source": [
    "lncRNA_index = {a:b for (a,b) in zip(lncRNA,range(len(lncRNA)))}\n",
    "disease_index = {a:b for (a,b) in zip(disease,range(len(disease)))}\n",
    "miRNA_index = {a:b for (a,b) in zip(miRNA,range(len(miRNA)))}"
   ]
  },
  {
   "cell_type": "code",
   "execution_count": 14,
   "metadata": {},
   "outputs": [],
   "source": [
    "# len(df['lncRNA'].unique()),len(df['miRNA'].unique()),len(df['Disease'].unique()),"
   ]
  },
  {
   "cell_type": "markdown",
   "metadata": {},
   "source": [
    "CReation of the graph that contains the totaly connected with miRNA, lncRNA, Disease"
   ]
  },
  {
   "cell_type": "code",
   "execution_count": 15,
   "metadata": {},
   "outputs": [],
   "source": [
    "LM_Graph = nx.Graph()\n",
    "MD_Graph = nx.Graph()\n",
    "LD_Graph = nx.Graph()\n",
    "\n",
    "LM_Graph.add_nodes_from(lncRNA)\n",
    "LM_Graph.add_nodes_from(miRNA)\n",
    "\n",
    "LD_Graph.add_nodes_from(lncRNA)\n",
    "LD_Graph.add_nodes_from(disease)\n",
    "\n",
    "MD_Graph.add_nodes_from(miRNA)\n",
    "MD_Graph.add_nodes_from(disease)"
   ]
  },
  {
   "cell_type": "code",
   "execution_count": 16,
   "metadata": {},
   "outputs": [],
   "source": [
    "for a in df.values:\n",
    "    LM_Graph.add_edge(a[0],a[1])\n",
    "    MD_Graph.add_edge(a[1],a[2])\n",
    "    LD_Graph.add_edge(a[0],a[2])"
   ]
  },
  {
   "cell_type": "markdown",
   "metadata": {},
   "source": [
    "CReation of the Lncrna-disease , Lncrna-miRNA, miRNA-Disease assoction matrix (LM,LD,MD)"
   ]
  },
  {
   "cell_type": "code",
   "execution_count": 17,
   "metadata": {},
   "outputs": [],
   "source": [
    "LM_index = {a:b for (a,b) in zip(LM_Graph.nodes(),range(len(LM_Graph.nodes())))}\n",
    "MD_index = {a:b for (a,b) in zip(MD_Graph.nodes(),range(len(MD_Graph.nodes())))}\n",
    "LD_index = {a:b for (a,b) in zip(LD_Graph.nodes(),range(len(LD_Graph.nodes())))}"
   ]
  },
  {
   "cell_type": "code",
   "execution_count": 18,
   "metadata": {},
   "outputs": [],
   "source": [
    "LM_M_A = nx.adjacency_matrix(LM_Graph).todense()\n",
    "MD_M_A = nx.adjacency_matrix(MD_Graph).todense()\n",
    "LD_M_A = nx.adjacency_matrix(LD_Graph).todense()"
   ]
  },
  {
   "cell_type": "code",
   "execution_count": 19,
   "metadata": {},
   "outputs": [],
   "source": [
    "LM_M = np.zeros(shape=(len(lncRNA),len(miRNA)),dtype=int)\n",
    "MD_M = np.zeros(shape=(len(miRNA), len(disease)),dtype=int)\n",
    "LD_M = np.zeros(shape=(len(lncRNA), len(disease)),dtype=int)"
   ]
  },
  {
   "cell_type": "code",
   "execution_count": 20,
   "metadata": {},
   "outputs": [
    {
     "data": {
      "text/plain": [
       "array([[1, 1, 1, ..., 0, 0, 0],\n",
       "       [1, 1, 1, ..., 0, 0, 0],\n",
       "       [1, 1, 1, ..., 0, 0, 0],\n",
       "       ...,\n",
       "       [0, 0, 0, ..., 0, 0, 0],\n",
       "       [0, 0, 0, ..., 0, 0, 0],\n",
       "       [0, 0, 0, ..., 0, 0, 0]])"
      ]
     },
     "execution_count": 20,
     "metadata": {},
     "output_type": "execute_result"
    }
   ],
   "source": [
    "for a in range(len(lncRNA)):\n",
    "    for b in range(len(disease)):\n",
    "        LD_M[a][b] = LD_M_A[LD_index[lncRNA[a]]][LD_index[disease[b]]]\n",
    "LD_M"
   ]
  },
  {
   "cell_type": "code",
   "execution_count": 21,
   "metadata": {},
   "outputs": [
    {
     "data": {
      "text/plain": [
       "array([[1, 1, 1, ..., 0, 0, 0],\n",
       "       [1, 1, 1, ..., 0, 0, 0],\n",
       "       [1, 0, 1, ..., 0, 0, 0],\n",
       "       ...,\n",
       "       [0, 0, 0, ..., 0, 0, 0],\n",
       "       [0, 0, 0, ..., 0, 0, 0],\n",
       "       [0, 0, 0, ..., 0, 0, 0]])"
      ]
     },
     "execution_count": 21,
     "metadata": {},
     "output_type": "execute_result"
    }
   ],
   "source": [
    "for a in range(len(lncRNA)):\n",
    "    for b in range(len(miRNA)):\n",
    "        LM_M[a][b] = LM_M_A[LM_index[lncRNA[a]]][LM_index[miRNA[b]]]\n",
    "LM_M"
   ]
  },
  {
   "cell_type": "code",
   "execution_count": 22,
   "metadata": {},
   "outputs": [
    {
     "data": {
      "text/plain": [
       "array([[1, 1, 1, ..., 0, 0, 0],\n",
       "       [0, 0, 0, ..., 0, 0, 0],\n",
       "       [1, 1, 1, ..., 0, 0, 0],\n",
       "       ...,\n",
       "       [0, 0, 0, ..., 0, 0, 0],\n",
       "       [0, 0, 0, ..., 0, 0, 0],\n",
       "       [0, 0, 0, ..., 0, 0, 0]])"
      ]
     },
     "execution_count": 22,
     "metadata": {},
     "output_type": "execute_result"
    }
   ],
   "source": [
    "for a in range(len(miRNA)):\n",
    "    for b in range(len(disease)):\n",
    "        MD_M[a][b] = MD_M_A[MD_index[miRNA[a]]][MD_index[disease[b]]]\n",
    "MD_M"
   ]
  },
  {
   "cell_type": "code",
   "execution_count": 23,
   "metadata": {},
   "outputs": [
    {
     "data": {
      "text/plain": [
       "array([[5, 6, 6, ..., 0, 0, 0],\n",
       "       [3, 5, 5, ..., 0, 0, 0],\n",
       "       [7, 9, 7, ..., 0, 0, 0],\n",
       "       ...,\n",
       "       [0, 0, 0, ..., 0, 0, 0],\n",
       "       [0, 0, 0, ..., 0, 0, 0],\n",
       "       [0, 0, 0, ..., 0, 0, 0]])"
      ]
     },
     "execution_count": 23,
     "metadata": {},
     "output_type": "execute_result"
    }
   ],
   "source": [
    "LD = LM_M.dot(MD_M)\n",
    "LD"
   ]
  },
  {
   "cell_type": "code",
   "execution_count": 24,
   "metadata": {},
   "outputs": [],
   "source": [
    "# # run this if CD.csv is not found in the current folder(runs for seconds)\n",
    "# CD = np.zeros(shape=(len(disease),len(disease)))\n",
    "# for i in range(len(disease)):\n",
    "#     for j in range(len(disease)):\n",
    "#         CD[i][j] = (MD_M[:,i].dot(MD_M[:,j]))/(norm(MD_M[:,i])*norm(MD_M[:,j]))\n",
    "# np.save(\"CD\",CD)"
   ]
  },
  {
   "cell_type": "code",
   "execution_count": 25,
   "metadata": {},
   "outputs": [],
   "source": [
    "CD = np.load(\"CD.npy\")"
   ]
  },
  {
   "cell_type": "code",
   "execution_count": 26,
   "metadata": {},
   "outputs": [],
   "source": [
    "# # run this if CL.csv not found in the current folder(run for 8 min )\n",
    "# CL = np.zeros(shape=(len(lncRNA),len(lncRNA)))\n",
    "# for i in range(len(lncRNA)):\n",
    "#     for j in range(len(lncRNA)):\n",
    "#         CL[i][j] = (LM_M[i,:].dot(LM_M[j,:]))/(norm(LM_M[i,:])*norm(LM_M[j,:]))\n",
    "# np.save(\"CL\",CL)"
   ]
  },
  {
   "cell_type": "code",
   "execution_count": 27,
   "metadata": {},
   "outputs": [],
   "source": [
    "CL = np.load(\"CL.npy\")"
   ]
  },
  {
   "cell_type": "code",
   "execution_count": 28,
   "metadata": {},
   "outputs": [],
   "source": [
    "JD = np.zeros(shape=CD.shape)\n",
    "for i in range(MD_M.shape[-1]):\n",
    "    for j in range(MD_M.shape[-1]):\n",
    "        JD[i][j] =(np.bitwise_and(MD_M[:,i],MD_M[:,j]).sum())/(np.bitwise_or(MD_M[:,i],MD_M[:,j]).sum())\n",
    "        "
   ]
  },
  {
   "cell_type": "code",
   "execution_count": 29,
   "metadata": {},
   "outputs": [
    {
     "data": {
      "text/plain": [
       "array([[1.        , 0.28849315, 1.        , ..., 0.        , 0.        ,\n",
       "        0.        ],\n",
       "       [0.28849315, 1.        , 0.28849315, ..., 0.        , 0.        ,\n",
       "        0.        ],\n",
       "       [1.        , 0.28849315, 1.        , ..., 0.        , 0.        ,\n",
       "        0.        ],\n",
       "       ...,\n",
       "       [0.        , 0.        , 0.        , ..., 0.        , 0.        ,\n",
       "        0.        ],\n",
       "       [0.        , 0.        , 0.        , ..., 0.        , 0.        ,\n",
       "        0.        ],\n",
       "       [0.        , 0.        , 0.        , ..., 0.        , 0.        ,\n",
       "        0.        ]])"
      ]
     },
     "execution_count": 29,
     "metadata": {},
     "output_type": "execute_result"
    }
   ],
   "source": [
    "JL = np.zeros(shape=CL.shape)\n",
    "for i in range(LM_M.shape[-1]):\n",
    "    for j in range(LM_M.shape[-1]):\n",
    "        JL[i][j] =(np.bitwise_and(LM_M[:,i],LM_M[:,j]).sum())/(np.bitwise_or(LM_M[:,i],LM_M[:,j]).sum())\n",
    "JL      "
   ]
  },
  {
   "cell_type": "code",
   "execution_count": 30,
   "metadata": {},
   "outputs": [
    {
     "data": {
      "text/plain": [
       "array([[1.        , 0.73534833, 0.62628227, ..., 0.        , 0.        ,\n",
       "        0.        ],\n",
       "       [0.73534833, 1.        , 0.79003636, ..., 0.19620955, 0.19620955,\n",
       "        0.        ],\n",
       "       [0.62628227, 0.79003636, 1.        , ..., 0.        , 0.        ,\n",
       "        0.        ],\n",
       "       ...,\n",
       "       [0.        , 0.19620955, 0.        , ..., 1.        , 1.        ,\n",
       "        0.        ],\n",
       "       [0.        , 0.19620955, 0.        , ..., 1.        , 1.        ,\n",
       "        0.        ],\n",
       "       [0.        , 0.        , 0.        , ..., 0.        , 0.        ,\n",
       "        1.        ]])"
      ]
     },
     "execution_count": 30,
     "metadata": {},
     "output_type": "execute_result"
    }
   ],
   "source": [
    "IDS = np.zeros(shape=CD.shape)\n",
    "for i in range(IDS.shape[0]):\n",
    "    for j in range(IDS.shape[-1]):\n",
    "        if CD[i][j] == 0:\n",
    "            IDS[i][j] = JD[i][j]\n",
    "        else:\n",
    "            IDS[i][j] = (CD[i][j]+JD[i][j])/2\n",
    "IDS"
   ]
  },
  {
   "cell_type": "code",
   "execution_count": 31,
   "metadata": {},
   "outputs": [
    {
     "data": {
      "text/plain": [
       "array([[1.        , 0.50909658, 0.80073   , ..., 0.        , 0.        ,\n",
       "        0.        ],\n",
       "       [0.50909658, 1.        , 0.42427158, ..., 0.        , 0.        ,\n",
       "        0.        ],\n",
       "       [0.80073   , 0.42427158, 1.        , ..., 0.        , 0.        ,\n",
       "        0.        ],\n",
       "       ...,\n",
       "       [0.        , 0.        , 0.        , ..., 0.5       , 0.        ,\n",
       "        0.        ],\n",
       "       [0.        , 0.        , 0.        , ..., 0.        , 0.5       ,\n",
       "        0.        ],\n",
       "       [0.        , 0.        , 0.        , ..., 0.        , 0.        ,\n",
       "        0.5       ]])"
      ]
     },
     "execution_count": 31,
     "metadata": {},
     "output_type": "execute_result"
    }
   ],
   "source": [
    "ILS = np.zeros(shape=CL.shape)\n",
    "for i in range(ILS.shape[0]):\n",
    "    for j in range(ILS.shape[-1]):\n",
    "        if CL[i][j] == 0:\n",
    "            ILS[i][j] = JL[i][j]\n",
    "        else:\n",
    "            ILS[i][j] = (CL[i][j]+JL[i][j])/2\n",
    "ILS"
   ]
  },
  {
   "cell_type": "markdown",
   "metadata": {},
   "source": [
    "Dormant Factor model"
   ]
  },
  {
   "cell_type": "code",
   "execution_count": 32,
   "metadata": {},
   "outputs": [
    {
     "data": {
      "text/plain": [
       "(array([[ 0.01191702,  0.0386866 ,  0.33197794, ...,  0.03594867,\n",
       "          0.1764851 ,  0.11321185],\n",
       "        [ 0.69689107,  0.28668425,  0.41123002, ...,  0.67126637,\n",
       "          0.73037112,  0.61965124],\n",
       "        [ 0.20443782,  0.54822092,  0.0749367 , ...,  0.69430038,\n",
       "          0.49939835,  0.33053526],\n",
       "        ...,\n",
       "        [ 0.76639983,  0.72775646,  0.6320432 , ...,  0.78008537,\n",
       "          0.35785477,  0.07829544],\n",
       "        [-0.09847617,  0.73225883, -0.01875186, ...,  0.11901569,\n",
       "          0.35271883,  0.58027835],\n",
       "        [ 0.62569122,  0.02386962,  0.8225404 , ...,  0.6476917 ,\n",
       "         -0.14927884, -0.16236679]]),\n",
       " array([[ 0.30515233, -0.02140126, -0.04341556, ..., -0.13779668,\n",
       "          0.00905075,  0.08663864],\n",
       "        [ 0.29812486, -0.25151306, -0.29612048, ..., -0.06683082,\n",
       "          0.07428322,  0.44376719],\n",
       "        [ 0.14468103,  0.03016891, -0.15777618, ..., -0.19663191,\n",
       "         -0.00244356,  0.44082574],\n",
       "        ...,\n",
       "        [ 0.07893211, -0.07770566,  0.06817446, ..., -0.15434613,\n",
       "          0.11277804,  0.11404035],\n",
       "        [-0.08075257, -0.1067676 , -0.13772058, ...,  0.11493475,\n",
       "          0.14781071,  0.05362631],\n",
       "        [-0.05282628,  0.04670024,  0.06503407, ..., -0.14951502,\n",
       "         -0.09731236, -0.02112975]]),\n",
       " array([[ 5.94224267,  6.47677335,  5.73609897, ...,  0.07783787,\n",
       "          0.02152195,  0.48909518],\n",
       "        [ 3.83224373,  5.15785515,  4.17636798, ...,  0.42371991,\n",
       "         -0.13456894, -0.1996978 ],\n",
       "        [ 5.98731859,  7.06253945,  5.75109301, ..., -0.54935618,\n",
       "          0.53549035, -0.01763445],\n",
       "        ...,\n",
       "        [ 0.55481665, -0.72403102, -0.20527016, ...,  0.07630121,\n",
       "         -0.18741269, -0.57744586],\n",
       "        [ 0.51440134,  0.26071045,  0.82703244, ...,  0.03875945,\n",
       "         -0.22994326, -0.1000076 ],\n",
       "        [ 0.86026303,  0.67370645,  0.61891925, ..., -0.58928954,\n",
       "         -0.60665122, -0.04617438]]))"
      ]
     },
     "execution_count": 32,
     "metadata": {},
     "output_type": "execute_result"
    }
   ],
   "source": [
    "def Dormant_factor_model(ALM, AMD, k, alpha=2*10**-6, lmbda=4*10**-5, max_iter=1000):\n",
    "    \"\"\"\n",
    "    Dormant factor model for calculating lncRNA-disease associations.\n",
    "\n",
    "    Args:\n",
    "        ALM (numpy.ndarray): Adjacency matrix of lncRNA-miRNA associations (m x n).\n",
    "        AMD (numpy.ndarray): Adjacency matrix of miRNA-disease associations (n x e).\n",
    "        k (int): Number of Dormant factors.\n",
    "        alpha (float): Learning rate for gradient descent.\n",
    "        lmbda (float): Regularization parameter.\n",
    "        max_iter (int): Maximum number of iterations for gradient descent.\n",
    "\n",
    "    Returns:\n",
    "        X (numpy.ndarray): lncRNA feature matrix (m x k).\n",
    "        Y (numpy.ndarray): Disease feature matrix (e x k).\n",
    "        psi (numpy.ndarray): lncRNA-disease association score matrix (m x e).\n",
    "    \"\"\"\n",
    "\n",
    "\n",
    "    # Calculate the preliminary lncRNA-disease association matrix\n",
    "    ALD = ALM @ AMD\n",
    "\n",
    "    m = ALD.shape[0]\n",
    "    e = ALD.shape[1]\n",
    "\n",
    "    # Initialize feature matrices randomly\n",
    "    X = np.random.rand(m, k)\n",
    "    Y = np.random.rand(e, k)\n",
    "\n",
    "    for _ in range(max_iter):\n",
    "        # Calculate the lncRNA-disease association score matrix\n",
    "        psi = X @ Y.T   \n",
    "\n",
    "        # Calculate the loss function and gradients\n",
    "        # loss = np.sum((psi - ALD) ** 2) + lmbda * (np.sum(norm(X)) + np.sum(norm(Y)))\n",
    "        grad_X = 2 * (psi - ALD) @ Y +  lmbda * X\n",
    "        grad_Y = 2 * (psi - ALD).T @ X + lmbda * Y\n",
    "\n",
    "        # Update feature matrices using gradient descent\n",
    "        X -= alpha * grad_X\n",
    "        Y -= alpha * grad_Y\n",
    "\n",
    "    return X, Y, psi\n",
    "X,Y,phi = Dormant_factor_model(LM_M,MD_M,213,max_iter=500)\n",
    "X,Y,phi"
   ]
  },
  {
   "cell_type": "code",
   "execution_count": 33,
   "metadata": {},
   "outputs": [
    {
     "data": {
      "text/plain": [
       "array([[ 5.94224267,  6.47677335,  5.73609897, ...,  0.07783787,\n",
       "         0.02152195,  0.48909518],\n",
       "       [ 3.83224373,  5.15785515,  4.17636798, ...,  0.42371991,\n",
       "        -0.13456894, -0.1996978 ],\n",
       "       [ 5.98731859,  7.06253945,  5.75109301, ..., -0.54935618,\n",
       "         0.53549035, -0.01763445],\n",
       "       ...,\n",
       "       [ 0.55481665, -0.72403102, -0.20527016, ...,  0.07630121,\n",
       "        -0.18741269, -0.57744586],\n",
       "       [ 0.51440134,  0.26071045,  0.82703244, ...,  0.03875945,\n",
       "        -0.22994326, -0.1000076 ],\n",
       "       [ 0.86026303,  0.67370645,  0.61891925, ..., -0.58928954,\n",
       "        -0.60665122, -0.04617438]])"
      ]
     },
     "execution_count": 33,
     "metadata": {},
     "output_type": "execute_result"
    }
   ],
   "source": [
    "phi"
   ]
  },
  {
   "cell_type": "code",
   "execution_count": 34,
   "metadata": {},
   "outputs": [
    {
     "data": {
      "text/plain": [
       "((7554, 7554), (7554, 514), 7554)"
      ]
     },
     "execution_count": 34,
     "metadata": {},
     "output_type": "execute_result"
    }
   ],
   "source": [
    "ILS.shape, phi.shape,len(lncRNA)"
   ]
  },
  {
   "cell_type": "code",
   "execution_count": 35,
   "metadata": {},
   "outputs": [
    {
     "data": {
      "text/plain": [
       "array([[4.29906118e+00, 5.08886122e+00, 4.16453251e+00, ...,\n",
       "        1.51421960e-01, 1.50005528e-01, 1.17502307e-01],\n",
       "       [3.37434758e+00, 4.01316423e+00, 3.28474838e+00, ...,\n",
       "        1.16470446e-01, 1.15594703e-01, 8.91900043e-02],\n",
       "       [3.32747787e+00, 3.95816745e+00, 3.23776029e+00, ...,\n",
       "        1.11379189e-01, 1.14966351e-01, 8.67072699e-02],\n",
       "       ...,\n",
       "       [5.78864087e+01, 6.81887781e+01, 5.56898945e+01, ...,\n",
       "        1.96952013e+00, 1.87997514e+00, 1.41278304e+00],\n",
       "       [1.00307961e+02, 1.17444023e+02, 9.61944397e+01, ...,\n",
       "        3.74712185e+00, 3.61507852e+00, 3.21767502e+00],\n",
       "       [1.55656288e+02, 1.82481898e+02, 1.48969683e+02, ...,\n",
       "        5.67910253e+00, 5.38742853e+00, 4.36238766e+00]])"
      ]
     },
     "execution_count": 35,
     "metadata": {},
     "output_type": "execute_result"
    }
   ],
   "source": [
    "LP = np.zeros(shape=LD_M.shape)\n",
    "for i in range(LP.shape[0]):\n",
    "    for j in range(len(lncRNA)):\n",
    "        LP[i,:] += ILS[i,j]*phi[j,:] \n",
    "    LP[i,:] /= norm(ILS[i:]) \n",
    "LP"
   ]
  },
  {
   "cell_type": "code",
   "execution_count": 36,
   "metadata": {},
   "outputs": [
    {
     "data": {
      "text/plain": [
       "array([[ 1.10862751e+02,  1.12538664e+02,  1.11180412e+02, ...,\n",
       "         4.59526331e+01,  4.59526331e+01,  2.76308771e+01],\n",
       "       [ 7.61079943e+01,  7.73268393e+01,  7.62696969e+01, ...,\n",
       "         3.19280111e+01,  3.19280111e+01,  1.49844256e+01],\n",
       "       [ 1.12894441e+02,  1.14303152e+02,  1.12406751e+02, ...,\n",
       "         4.63981872e+01,  4.63981872e+01,  1.72136273e+01],\n",
       "       ...,\n",
       "       [-2.12153310e+00, -2.18942975e+00, -2.06994584e+00, ...,\n",
       "        -1.48113019e+00, -1.48113019e+00, -6.18786523e-01],\n",
       "       [ 6.19140264e+00,  6.20456374e+00,  5.98988519e+00, ...,\n",
       "         2.39894343e+00,  2.39894343e+00,  2.84519482e-02],\n",
       "       [ 7.67665808e+00,  7.54358649e+00,  7.51179347e+00, ...,\n",
       "         1.78878067e+00,  1.78878067e+00, -6.15146901e-01]])"
      ]
     },
     "execution_count": 36,
     "metadata": {},
     "output_type": "execute_result"
    }
   ],
   "source": [
    "DP = np.zeros(shape=LD_M.shape)\n",
    "for j in range(DP.shape[1]):\n",
    "    for i in range(len(disease)):\n",
    "        DP[:,j] += IDS[i,j]*phi[:,i]\n",
    "    DP[:,j] /= norm(IDS[:,j])\n",
    "DP"
   ]
  },
  {
   "cell_type": "code",
   "execution_count": 37,
   "metadata": {},
   "outputs": [
    {
     "data": {
      "text/plain": [
       "((7554, 514), (7554, 514), (7554, 7554), (514, 514))"
      ]
     },
     "execution_count": 37,
     "metadata": {},
     "output_type": "execute_result"
    }
   ],
   "source": [
    "LP.shape,DP.shape,ILS.shape,IDS.shape"
   ]
  },
  {
   "cell_type": "code",
   "execution_count": 38,
   "metadata": {},
   "outputs": [
    {
     "data": {
      "text/plain": [
       "array([[1.7026101 , 1.74625297, 1.80980522, ..., 0.95981678, 0.95978729,\n",
       "        0.63428092],\n",
       "       [1.353352  , 1.39157996, 1.4510631 , ..., 0.81901119, 0.81898881,\n",
       "        0.43266044],\n",
       "       [2.00455692, 2.04957463, 2.13864179, ..., 1.2119855 , 1.21207897,\n",
       "        0.50751623],\n",
       "       ...,\n",
       "       [1.75920202, 2.10051707, 1.92919743, ..., 0.04038018, 0.03297658,\n",
       "        0.10168566],\n",
       "       [3.1228377 , 3.65554298, 3.38377206, ..., 0.42388921, 0.41478229,\n",
       "        0.31784963],\n",
       "       [4.90537583, 5.75515859, 5.3240062 , ..., 0.54539731, 0.52409566,\n",
       "        0.39838385]])"
      ]
     },
     "execution_count": 38,
     "metadata": {},
     "output_type": "execute_result"
    }
   ],
   "source": [
    "LFMP = np.zeros(shape=LD_M.shape)\n",
    "w = 0.50\n",
    "for i in range(LFMP.shape[0]):\n",
    "    for j in range(LFMP.shape[1]):\n",
    "        LFMP[i][j] = (w*LP[i][j] + (1-w)*DP[i][j])/(norm(ILS[i,:])+norm(IDS[:,j]))\n",
    "LFMP"
   ]
  },
  {
   "cell_type": "code",
   "execution_count": 39,
   "metadata": {},
   "outputs": [
    {
     "data": {
      "text/plain": [
       "0.7728010596848344"
      ]
     },
     "execution_count": 39,
     "metadata": {},
     "output_type": "execute_result"
    }
   ],
   "source": [
    "LFMP[lncRNA_index['NONHSAT006834.2']][disease_index['Ganglioneuroma']]"
   ]
  }
 ],
 "metadata": {
  "kernelspec": {
   "display_name": "Python 3",
   "language": "python",
   "name": "python3"
  },
  "language_info": {
   "codemirror_mode": {
    "name": "ipython",
    "version": 3
   },
   "file_extension": ".py",
   "mimetype": "text/x-python",
   "name": "python",
   "nbconvert_exporter": "python",
   "pygments_lexer": "ipython3",
   "version": "3.11.4"
  }
 },
 "nbformat": 4,
 "nbformat_minor": 2
}
