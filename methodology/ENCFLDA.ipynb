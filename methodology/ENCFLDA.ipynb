{
 "cells": [
  {
   "cell_type": "code",
   "execution_count": 1,
   "metadata": {},
   "outputs": [],
   "source": [
    "import pandas as pd\n",
    "import numpy as np\n",
    "import networkx as nx \n",
    "from numpy.linalg import norm"
   ]
  },
  {
   "cell_type": "code",
   "execution_count": 2,
   "metadata": {},
   "outputs": [],
   "source": [
    "# # from colab run this \n",
    "# !git clone https://github.com/gru13/lncRNA_Disease_association.git\n",
    "# df_lnc_die = pd.read_csv(r\"./lncRNA_Disease_association/datasets/lncrnaDiesease3/website_alldata_p1.csv\")\n",
    "# df_lnc_mir = pd.read_csv(r\"./lncRNA_Disease_association/datasets/LncRNASNP/Homo_sapiens_lncRNA_miRNA_interactions.csv\")\n",
    "# df_mir_die = pd.read_csv(r\"./lncRNA_Disease_association/datasets/rnaDisease/RNADisease_RNA-disease_miRNA_predict.csv\")"
   ]
  },
  {
   "cell_type": "code",
   "execution_count": 3,
   "metadata": {},
   "outputs": [],
   "source": [
    "# from local system\n",
    "\n",
    "df_lnc_die = pd.read_csv(r\"./../datasets/lncrnaDiesease3/website_alldata_p1.csv\")\n",
    "df_lnc_mir = pd.read_csv(r\"./../datasets/LncRNASNP/Homo_sapiens_lncRNA_miRNA_interactions.csv\")\n",
    "df_mir_die = pd.read_csv(r\"./../datasets/rnaDisease/RNADisease_RNA-disease_miRNA_predict.csv\")\n"
   ]
  },
  {
   "cell_type": "code",
   "execution_count": 4,
   "metadata": {},
   "outputs": [
    {
     "data": {
      "text/plain": [
       "(        lncRNA                    Disease  PubMed ID\n",
       " 0  ARHGAP5-AS1  Carcinoma, Hepatocellular   36354136\n",
       " 1       HOTTIP               Osteosarcoma   33475442\n",
       " 2       HOTTIP                     Glioma   35402278\n",
       " 3       HOTTIP             Retinoblastoma   33784880\n",
       " 4       HOTTIP          stomach carcinoma   32633359,\n",
       "             lncRNA           miRNA\n",
       " 0  NONHSAT000002.2  hsa-miR-15a-5p\n",
       " 1  NONHSAT000002.2  hsa-miR-15a-3p\n",
       " 2  NONHSAT000002.2   hsa-miR-16-5p\n",
       " 3  NONHSAT000002.2   hsa-miR-21-3p\n",
       " 4  NONHSAT000002.2   hsa-miR-28-5p,\n",
       "           miRNA                    Disease\n",
       " 0  hsa-let-7a-1  Abdominal aortic aneurysm\n",
       " 1  hsa-let-7a-2  Abdominal aortic aneurysm\n",
       " 2  hsa-let-7a-3  Abdominal aortic aneurysm\n",
       " 3    hsa-let-7c  Abdominal aortic aneurysm\n",
       " 4    hsa-let-7d  Abdominal aortic aneurysm)"
      ]
     },
     "execution_count": 4,
     "metadata": {},
     "output_type": "execute_result"
    }
   ],
   "source": [
    "\n",
    "df_lnc_die.head(),df_lnc_mir.head(),df_mir_die.head()"
   ]
  },
  {
   "cell_type": "code",
   "execution_count": 5,
   "metadata": {},
   "outputs": [],
   "source": [
    "dataset1 = pd.merge(df_lnc_mir,df_lnc_die,on=['lncRNA'],how='inner')\n",
    "dataset2 = pd.merge(df_lnc_mir,df_mir_die,on=['miRNA'],how='inner')"
   ]
  },
  {
   "cell_type": "code",
   "execution_count": 6,
   "metadata": {},
   "outputs": [
    {
     "data": {
      "text/html": [
       "<div>\n",
       "<style scoped>\n",
       "    .dataframe tbody tr th:only-of-type {\n",
       "        vertical-align: middle;\n",
       "    }\n",
       "\n",
       "    .dataframe tbody tr th {\n",
       "        vertical-align: top;\n",
       "    }\n",
       "\n",
       "    .dataframe thead th {\n",
       "        text-align: right;\n",
       "    }\n",
       "</style>\n",
       "<table border=\"1\" class=\"dataframe\">\n",
       "  <thead>\n",
       "    <tr style=\"text-align: right;\">\n",
       "      <th></th>\n",
       "      <th>lncRNA</th>\n",
       "      <th>miRNA</th>\n",
       "      <th>Disease</th>\n",
       "      <th>PubMed ID</th>\n",
       "    </tr>\n",
       "  </thead>\n",
       "  <tbody>\n",
       "    <tr>\n",
       "      <th>0</th>\n",
       "      <td>NONHSAT000612.2</td>\n",
       "      <td>hsa-miR-570-3p</td>\n",
       "      <td>Osteoarthritis</td>\n",
       "      <td>34780784</td>\n",
       "    </tr>\n",
       "    <tr>\n",
       "      <th>1</th>\n",
       "      <td>NONHSAT000612.2</td>\n",
       "      <td>hsa-miR-651-3p</td>\n",
       "      <td>Osteoarthritis</td>\n",
       "      <td>34780784</td>\n",
       "    </tr>\n",
       "    <tr>\n",
       "      <th>2</th>\n",
       "      <td>NONHSAT000612.2</td>\n",
       "      <td>hsa-miR-449b-3p</td>\n",
       "      <td>Osteoarthritis</td>\n",
       "      <td>34780784</td>\n",
       "    </tr>\n",
       "    <tr>\n",
       "      <th>3</th>\n",
       "      <td>NONHSAT000612.2</td>\n",
       "      <td>hsa-miR-1468-3p</td>\n",
       "      <td>Osteoarthritis</td>\n",
       "      <td>34780784</td>\n",
       "    </tr>\n",
       "    <tr>\n",
       "      <th>4</th>\n",
       "      <td>NONHSAT000612.2</td>\n",
       "      <td>hsa-miR-874-5p</td>\n",
       "      <td>Osteoarthritis</td>\n",
       "      <td>34780784</td>\n",
       "    </tr>\n",
       "    <tr>\n",
       "      <th>...</th>\n",
       "      <td>...</td>\n",
       "      <td>...</td>\n",
       "      <td>...</td>\n",
       "      <td>...</td>\n",
       "    </tr>\n",
       "    <tr>\n",
       "      <th>590</th>\n",
       "      <td>NONHSAT015292.2</td>\n",
       "      <td>hsa-miR-9902</td>\n",
       "      <td>Osteoarthritis</td>\n",
       "      <td>34780784</td>\n",
       "    </tr>\n",
       "    <tr>\n",
       "      <th>591</th>\n",
       "      <td>NONHSAT015292.2</td>\n",
       "      <td>hsa-miR-10522-5p</td>\n",
       "      <td>Osteoarthritis</td>\n",
       "      <td>34780784</td>\n",
       "    </tr>\n",
       "    <tr>\n",
       "      <th>592</th>\n",
       "      <td>NONHSAT015292.2</td>\n",
       "      <td>hsa-miR-10526-3p</td>\n",
       "      <td>Osteoarthritis</td>\n",
       "      <td>34780784</td>\n",
       "    </tr>\n",
       "    <tr>\n",
       "      <th>593</th>\n",
       "      <td>NONHSAT015292.2</td>\n",
       "      <td>hsa-miR-9851-3p</td>\n",
       "      <td>Osteoarthritis</td>\n",
       "      <td>34780784</td>\n",
       "    </tr>\n",
       "    <tr>\n",
       "      <th>594</th>\n",
       "      <td>NONHSAT015292.2</td>\n",
       "      <td>hsa-miR-12118</td>\n",
       "      <td>Osteoarthritis</td>\n",
       "      <td>34780784</td>\n",
       "    </tr>\n",
       "  </tbody>\n",
       "</table>\n",
       "<p>595 rows × 4 columns</p>\n",
       "</div>"
      ],
      "text/plain": [
       "              lncRNA             miRNA         Disease  PubMed ID\n",
       "0    NONHSAT000612.2    hsa-miR-570-3p  Osteoarthritis   34780784\n",
       "1    NONHSAT000612.2    hsa-miR-651-3p  Osteoarthritis   34780784\n",
       "2    NONHSAT000612.2   hsa-miR-449b-3p  Osteoarthritis   34780784\n",
       "3    NONHSAT000612.2   hsa-miR-1468-3p  Osteoarthritis   34780784\n",
       "4    NONHSAT000612.2    hsa-miR-874-5p  Osteoarthritis   34780784\n",
       "..               ...               ...             ...        ...\n",
       "590  NONHSAT015292.2      hsa-miR-9902  Osteoarthritis   34780784\n",
       "591  NONHSAT015292.2  hsa-miR-10522-5p  Osteoarthritis   34780784\n",
       "592  NONHSAT015292.2  hsa-miR-10526-3p  Osteoarthritis   34780784\n",
       "593  NONHSAT015292.2   hsa-miR-9851-3p  Osteoarthritis   34780784\n",
       "594  NONHSAT015292.2     hsa-miR-12118  Osteoarthritis   34780784\n",
       "\n",
       "[595 rows x 4 columns]"
      ]
     },
     "execution_count": 6,
     "metadata": {},
     "output_type": "execute_result"
    }
   ],
   "source": [
    "dataset1"
   ]
  },
  {
   "cell_type": "code",
   "execution_count": 7,
   "metadata": {},
   "outputs": [
    {
     "data": {
      "text/html": [
       "<div>\n",
       "<style scoped>\n",
       "    .dataframe tbody tr th:only-of-type {\n",
       "        vertical-align: middle;\n",
       "    }\n",
       "\n",
       "    .dataframe tbody tr th {\n",
       "        vertical-align: top;\n",
       "    }\n",
       "\n",
       "    .dataframe thead th {\n",
       "        text-align: right;\n",
       "    }\n",
       "</style>\n",
       "<table border=\"1\" class=\"dataframe\">\n",
       "  <thead>\n",
       "    <tr style=\"text-align: right;\">\n",
       "      <th></th>\n",
       "      <th>lncRNA</th>\n",
       "      <th>miRNA</th>\n",
       "      <th>Disease</th>\n",
       "    </tr>\n",
       "  </thead>\n",
       "  <tbody>\n",
       "    <tr>\n",
       "      <th>0</th>\n",
       "      <td>NONHSAT000002.2</td>\n",
       "      <td>hsa-miR-15a-5p</td>\n",
       "      <td>Abortion habitual</td>\n",
       "    </tr>\n",
       "    <tr>\n",
       "      <th>1</th>\n",
       "      <td>NONHSAT000002.2</td>\n",
       "      <td>hsa-miR-15a-5p</td>\n",
       "      <td>Acoustic neuroma</td>\n",
       "    </tr>\n",
       "    <tr>\n",
       "      <th>2</th>\n",
       "      <td>NONHSAT000002.2</td>\n",
       "      <td>hsa-miR-15a-5p</td>\n",
       "      <td>Acquired immunodeficiency syndrome</td>\n",
       "    </tr>\n",
       "    <tr>\n",
       "      <th>3</th>\n",
       "      <td>NONHSAT000002.2</td>\n",
       "      <td>hsa-miR-15a-5p</td>\n",
       "      <td>Acute coronary syndrome</td>\n",
       "    </tr>\n",
       "    <tr>\n",
       "      <th>4</th>\n",
       "      <td>NONHSAT000002.2</td>\n",
       "      <td>hsa-miR-15a-5p</td>\n",
       "      <td>Acute kidney failure</td>\n",
       "    </tr>\n",
       "    <tr>\n",
       "      <th>...</th>\n",
       "      <td>...</td>\n",
       "      <td>...</td>\n",
       "      <td>...</td>\n",
       "    </tr>\n",
       "    <tr>\n",
       "      <th>9376652</th>\n",
       "      <td>NONHSAT017163.2</td>\n",
       "      <td>hsa-miR-523-3p</td>\n",
       "      <td>Intellectual disability</td>\n",
       "    </tr>\n",
       "    <tr>\n",
       "      <th>9376653</th>\n",
       "      <td>NONHSAT017163.2</td>\n",
       "      <td>hsa-miR-523-3p</td>\n",
       "      <td>Leukemia</td>\n",
       "    </tr>\n",
       "    <tr>\n",
       "      <th>9376654</th>\n",
       "      <td>NONHSAT017163.2</td>\n",
       "      <td>hsa-miR-523-3p</td>\n",
       "      <td>Neurodegenerative diseases</td>\n",
       "    </tr>\n",
       "    <tr>\n",
       "      <th>9376655</th>\n",
       "      <td>NONHSAT017163.2</td>\n",
       "      <td>hsa-miR-523-3p</td>\n",
       "      <td>Skin disease</td>\n",
       "    </tr>\n",
       "    <tr>\n",
       "      <th>9376656</th>\n",
       "      <td>NONHSAT017163.2</td>\n",
       "      <td>hsa-miR-523-3p</td>\n",
       "      <td>Vascular diseases</td>\n",
       "    </tr>\n",
       "  </tbody>\n",
       "</table>\n",
       "<p>9376657 rows × 3 columns</p>\n",
       "</div>"
      ],
      "text/plain": [
       "                  lncRNA           miRNA                             Disease\n",
       "0        NONHSAT000002.2  hsa-miR-15a-5p                   Abortion habitual\n",
       "1        NONHSAT000002.2  hsa-miR-15a-5p                    Acoustic neuroma\n",
       "2        NONHSAT000002.2  hsa-miR-15a-5p  Acquired immunodeficiency syndrome\n",
       "3        NONHSAT000002.2  hsa-miR-15a-5p             Acute coronary syndrome\n",
       "4        NONHSAT000002.2  hsa-miR-15a-5p                Acute kidney failure\n",
       "...                  ...             ...                                 ...\n",
       "9376652  NONHSAT017163.2  hsa-miR-523-3p             Intellectual disability\n",
       "9376653  NONHSAT017163.2  hsa-miR-523-3p                            Leukemia\n",
       "9376654  NONHSAT017163.2  hsa-miR-523-3p          Neurodegenerative diseases\n",
       "9376655  NONHSAT017163.2  hsa-miR-523-3p                        Skin disease\n",
       "9376656  NONHSAT017163.2  hsa-miR-523-3p                   Vascular diseases\n",
       "\n",
       "[9376657 rows x 3 columns]"
      ]
     },
     "execution_count": 7,
     "metadata": {},
     "output_type": "execute_result"
    }
   ],
   "source": [
    "dataset2"
   ]
  },
  {
   "cell_type": "code",
   "execution_count": 8,
   "metadata": {},
   "outputs": [
    {
     "data": {
      "text/html": [
       "<div>\n",
       "<style scoped>\n",
       "    .dataframe tbody tr th:only-of-type {\n",
       "        vertical-align: middle;\n",
       "    }\n",
       "\n",
       "    .dataframe tbody tr th {\n",
       "        vertical-align: top;\n",
       "    }\n",
       "\n",
       "    .dataframe thead th {\n",
       "        text-align: right;\n",
       "    }\n",
       "</style>\n",
       "<table border=\"1\" class=\"dataframe\">\n",
       "  <thead>\n",
       "    <tr style=\"text-align: right;\">\n",
       "      <th></th>\n",
       "      <th>lncRNA</th>\n",
       "      <th>miRNA</th>\n",
       "      <th>Disease</th>\n",
       "    </tr>\n",
       "  </thead>\n",
       "  <tbody>\n",
       "    <tr>\n",
       "      <th>0</th>\n",
       "      <td>NONHSAT000002.2</td>\n",
       "      <td>hsa-miR-15a-5p</td>\n",
       "      <td>Abortion habitual</td>\n",
       "    </tr>\n",
       "    <tr>\n",
       "      <th>1</th>\n",
       "      <td>NONHSAT000002.2</td>\n",
       "      <td>hsa-miR-15a-5p</td>\n",
       "      <td>Acoustic neuroma</td>\n",
       "    </tr>\n",
       "    <tr>\n",
       "      <th>2</th>\n",
       "      <td>NONHSAT000002.2</td>\n",
       "      <td>hsa-miR-15a-5p</td>\n",
       "      <td>Acquired immunodeficiency syndrome</td>\n",
       "    </tr>\n",
       "    <tr>\n",
       "      <th>3</th>\n",
       "      <td>NONHSAT000002.2</td>\n",
       "      <td>hsa-miR-15a-5p</td>\n",
       "      <td>Acute coronary syndrome</td>\n",
       "    </tr>\n",
       "    <tr>\n",
       "      <th>4</th>\n",
       "      <td>NONHSAT000002.2</td>\n",
       "      <td>hsa-miR-15a-5p</td>\n",
       "      <td>Acute kidney failure</td>\n",
       "    </tr>\n",
       "    <tr>\n",
       "      <th>...</th>\n",
       "      <td>...</td>\n",
       "      <td>...</td>\n",
       "      <td>...</td>\n",
       "    </tr>\n",
       "    <tr>\n",
       "      <th>9376652</th>\n",
       "      <td>NONHSAT017163.2</td>\n",
       "      <td>hsa-miR-523-3p</td>\n",
       "      <td>Intellectual disability</td>\n",
       "    </tr>\n",
       "    <tr>\n",
       "      <th>9376653</th>\n",
       "      <td>NONHSAT017163.2</td>\n",
       "      <td>hsa-miR-523-3p</td>\n",
       "      <td>Leukemia</td>\n",
       "    </tr>\n",
       "    <tr>\n",
       "      <th>9376654</th>\n",
       "      <td>NONHSAT017163.2</td>\n",
       "      <td>hsa-miR-523-3p</td>\n",
       "      <td>Neurodegenerative diseases</td>\n",
       "    </tr>\n",
       "    <tr>\n",
       "      <th>9376655</th>\n",
       "      <td>NONHSAT017163.2</td>\n",
       "      <td>hsa-miR-523-3p</td>\n",
       "      <td>Skin disease</td>\n",
       "    </tr>\n",
       "    <tr>\n",
       "      <th>9376656</th>\n",
       "      <td>NONHSAT017163.2</td>\n",
       "      <td>hsa-miR-523-3p</td>\n",
       "      <td>Vascular diseases</td>\n",
       "    </tr>\n",
       "  </tbody>\n",
       "</table>\n",
       "<p>9376657 rows × 3 columns</p>\n",
       "</div>"
      ],
      "text/plain": [
       "                  lncRNA           miRNA                             Disease\n",
       "0        NONHSAT000002.2  hsa-miR-15a-5p                   Abortion habitual\n",
       "1        NONHSAT000002.2  hsa-miR-15a-5p                    Acoustic neuroma\n",
       "2        NONHSAT000002.2  hsa-miR-15a-5p  Acquired immunodeficiency syndrome\n",
       "3        NONHSAT000002.2  hsa-miR-15a-5p             Acute coronary syndrome\n",
       "4        NONHSAT000002.2  hsa-miR-15a-5p                Acute kidney failure\n",
       "...                  ...             ...                                 ...\n",
       "9376652  NONHSAT017163.2  hsa-miR-523-3p             Intellectual disability\n",
       "9376653  NONHSAT017163.2  hsa-miR-523-3p                            Leukemia\n",
       "9376654  NONHSAT017163.2  hsa-miR-523-3p          Neurodegenerative diseases\n",
       "9376655  NONHSAT017163.2  hsa-miR-523-3p                        Skin disease\n",
       "9376656  NONHSAT017163.2  hsa-miR-523-3p                   Vascular diseases\n",
       "\n",
       "[9376657 rows x 3 columns]"
      ]
     },
     "execution_count": 8,
     "metadata": {},
     "output_type": "execute_result"
    }
   ],
   "source": [
    "df = dataset2.copy()\n",
    "df"
   ]
  },
  {
   "cell_type": "code",
   "execution_count": 9,
   "metadata": {},
   "outputs": [],
   "source": [
    "df = dataset2.copy()"
   ]
  },
  {
   "cell_type": "code",
   "execution_count": 10,
   "metadata": {},
   "outputs": [],
   "source": [
    "# # only run this for first time \n",
    "# disease = df['Disease'].unique()\n",
    "# lncRNA = df['lncRNA'].unique()\n",
    "# miRNA = df['miRNA'].unique()\n",
    "\n",
    "# np.savetxt(\"./disease.txt\",disease,delimiter=',',fmt='%s')\n",
    "# np.savetxt(\"./lncRNA.txt\",lncRNA,delimiter=',',fmt='%s')\n",
    "# np.savetxt(\"./miRNA.txt\",miRNA,delimiter=',',fmt='%s')"
   ]
  },
  {
   "cell_type": "code",
   "execution_count": 11,
   "metadata": {},
   "outputs": [],
   "source": [
    "disease = [a[:-1] for a in open(\"./disease.txt\").readlines()]\n",
    "lncRNA = [a[:-1] for a in open(\"./lncRNA.txt\").readlines()]\n",
    "miRNA = [a[:-1] for a in open(\"./miRNA.txt\").readlines()]"
   ]
  },
  {
   "cell_type": "code",
   "execution_count": 12,
   "metadata": {},
   "outputs": [],
   "source": [
    "# len(df['lncRNA'].unique()),len(df['miRNA'].unique()),len(df['Disease'].unique()),"
   ]
  },
  {
   "cell_type": "markdown",
   "metadata": {},
   "source": [
    "CReation of the graph that contains the totaly connected with miRNA, lncRNA, Disease"
   ]
  },
  {
   "cell_type": "code",
   "execution_count": 13,
   "metadata": {},
   "outputs": [],
   "source": [
    "LM_Graph = nx.Graph()\n",
    "MD_Graph = nx.Graph()\n",
    "LD_Graph = nx.Graph()\n",
    "\n",
    "LM_Graph.add_nodes_from(lncRNA)\n",
    "LM_Graph.add_nodes_from(miRNA)\n",
    "\n",
    "LD_Graph.add_nodes_from(lncRNA)\n",
    "LD_Graph.add_nodes_from(disease)\n",
    "\n",
    "MD_Graph.add_nodes_from(miRNA)\n",
    "MD_Graph.add_nodes_from(disease)"
   ]
  },
  {
   "cell_type": "code",
   "execution_count": 14,
   "metadata": {},
   "outputs": [],
   "source": [
    "for a in df.values:\n",
    "    LM_Graph.add_edge(a[0],a[1])\n",
    "    MD_Graph.add_edge(a[1],a[2])\n",
    "    LD_Graph.add_edge(a[0],a[2])"
   ]
  },
  {
   "cell_type": "markdown",
   "metadata": {},
   "source": [
    "CReation of the Lncrna-disease , Lncrna-miRNA, miRNA-Disease assoction matrix (LM,LD,MD)"
   ]
  },
  {
   "cell_type": "code",
   "execution_count": 15,
   "metadata": {},
   "outputs": [],
   "source": [
    "LM_index = {a:b for (a,b) in zip(LM_Graph.nodes(),range(len(LM_Graph.nodes())))}\n",
    "MD_index = {a:b for (a,b) in zip(MD_Graph.nodes(),range(len(MD_Graph.nodes())))}\n",
    "LD_index = {a:b for (a,b) in zip(LD_Graph.nodes(),range(len(LD_Graph.nodes())))}"
   ]
  },
  {
   "cell_type": "code",
   "execution_count": 16,
   "metadata": {},
   "outputs": [],
   "source": [
    "LM_M_A = nx.adjacency_matrix(LM_Graph).todense()\n",
    "MD_M_A = nx.adjacency_matrix(MD_Graph).todense()\n",
    "LD_M_A = nx.adjacency_matrix(LD_Graph).todense()"
   ]
  },
  {
   "cell_type": "code",
   "execution_count": 17,
   "metadata": {},
   "outputs": [],
   "source": [
    "LM_M = np.zeros(shape=(len(lncRNA),len(miRNA)))\n",
    "MD_M = np.zeros(shape=(len(miRNA), len(disease)))\n",
    "LD_M = np.zeros(shape=(len(lncRNA), len(disease)))"
   ]
  },
  {
   "cell_type": "code",
   "execution_count": 18,
   "metadata": {},
   "outputs": [
    {
     "data": {
      "text/plain": [
       "array([[1., 1., 1., ..., 0., 0., 0.],\n",
       "       [1., 1., 1., ..., 0., 0., 0.],\n",
       "       [1., 0., 1., ..., 0., 0., 0.],\n",
       "       ...,\n",
       "       [0., 0., 0., ..., 0., 0., 0.],\n",
       "       [0., 0., 0., ..., 0., 0., 0.],\n",
       "       [0., 0., 0., ..., 0., 0., 0.]])"
      ]
     },
     "execution_count": 18,
     "metadata": {},
     "output_type": "execute_result"
    }
   ],
   "source": [
    "for a in range(len(lncRNA)):\n",
    "    for b in range(len(miRNA)):\n",
    "        LM_M[a][b] = LM_M_A[LM_index[lncRNA[a]]][LM_index[miRNA[b]]]\n",
    "LM_M"
   ]
  },
  {
   "cell_type": "code",
   "execution_count": 19,
   "metadata": {},
   "outputs": [
    {
     "data": {
      "text/plain": [
       "array([[1., 1., 1., ..., 0., 0., 0.],\n",
       "       [0., 0., 0., ..., 0., 0., 0.],\n",
       "       [1., 1., 1., ..., 0., 0., 0.],\n",
       "       ...,\n",
       "       [0., 0., 0., ..., 0., 0., 0.],\n",
       "       [0., 0., 0., ..., 0., 0., 0.],\n",
       "       [0., 0., 0., ..., 0., 0., 0.]])"
      ]
     },
     "execution_count": 19,
     "metadata": {},
     "output_type": "execute_result"
    }
   ],
   "source": [
    "for a in range(len(miRNA)):\n",
    "    for b in range(len(disease)):\n",
    "        MD_M[a][b] = MD_M_A[MD_index[miRNA[a]]][MD_index[disease[b]]]\n",
    "MD_M"
   ]
  },
  {
   "cell_type": "code",
   "execution_count": 20,
   "metadata": {},
   "outputs": [
    {
     "data": {
      "text/plain": [
       "array([[5., 6., 6., ..., 0., 0., 0.],\n",
       "       [3., 5., 5., ..., 0., 0., 0.],\n",
       "       [7., 9., 7., ..., 0., 0., 0.],\n",
       "       ...,\n",
       "       [0., 0., 0., ..., 0., 0., 0.],\n",
       "       [0., 0., 0., ..., 0., 0., 0.],\n",
       "       [0., 0., 0., ..., 0., 0., 0.]])"
      ]
     },
     "execution_count": 20,
     "metadata": {},
     "output_type": "execute_result"
    }
   ],
   "source": [
    "LD = LM_M.dot(MD_M)\n",
    "LD"
   ]
  },
  {
   "cell_type": "code",
   "execution_count": 21,
   "metadata": {},
   "outputs": [],
   "source": [
    "# # run this if CD.csv is not found in the current folder\n",
    "# CD = np.zeros(shape=(len(disease),len(disease)))\n",
    "# for i in range(len(disease)):\n",
    "#     for j in range(len(disease)):\n",
    "#         CD[i][j] = (LD[:,i].dot(LD[:,j]))/(norm(LD[:,i])*norm(LD[:,j]))\n",
    "# np.savetxt(\"CD.csv\",CD,delimiter=',',fmt='%.5f')"
   ]
  },
  {
   "cell_type": "code",
   "execution_count": 22,
   "metadata": {},
   "outputs": [],
   "source": [
    "CD = np.loadtxt(\"CD.csv\",delimiter=',',dtype=float)"
   ]
  },
  {
   "cell_type": "code",
   "execution_count": 23,
   "metadata": {},
   "outputs": [],
   "source": [
    "# # run this if CL.csv not found in the current folder\n",
    "# CL = np.zeros(shape=(len(lncRNA),len(lncRNA)))\n",
    "# for i in range(len(lncRNA)):\n",
    "#     for j in range(len(lncRNA)):\n",
    "#         CL[i][j] = (LD[i,:].dot(LD[j,:]))/(norm(LD[i,:])*norm(LD[j,:]))\n",
    "# np.savetxt(\"CL.csv\",CL,delimiter=',',fmt=\"%.5f\")"
   ]
  },
  {
   "cell_type": "code",
   "execution_count": 24,
   "metadata": {},
   "outputs": [],
   "source": [
    "CL = np.loadtxt(\"./CL.csv\",delimiter=',',dtype=float)"
   ]
  },
  {
   "cell_type": "code",
   "execution_count": 25,
   "metadata": {},
   "outputs": [
    {
     "data": {
      "text/plain": [
       "(7554, 514)"
      ]
     },
     "execution_count": 25,
     "metadata": {},
     "output_type": "execute_result"
    }
   ],
   "source": [
    "LD.shape"
   ]
  },
  {
   "cell_type": "code",
   "execution_count": 26,
   "metadata": {},
   "outputs": [
    {
     "data": {
      "text/plain": [
       "(514, 514)"
      ]
     },
     "execution_count": 26,
     "metadata": {},
     "output_type": "execute_result"
    }
   ],
   "source": [
    "CD.shape"
   ]
  },
  {
   "cell_type": "code",
   "execution_count": 27,
   "metadata": {},
   "outputs": [],
   "source": [
    "LD_New = np.zeros(shape=LD.shape)"
   ]
  },
  {
   "cell_type": "code",
   "execution_count": 28,
   "metadata": {},
   "outputs": [
    {
     "data": {
      "text/plain": [
       "array([[2266.6889 , 2745.24786, 2727.36414, ...,    0.     ,    0.     ,\n",
       "           0.     ],\n",
       "       [1360.01334, 2287.70655, 2272.80345, ...,    0.     ,    0.     ,\n",
       "           0.     ],\n",
       "       [3173.36446, 4117.87179, 3181.92483, ...,    0.     ,    0.     ,\n",
       "           0.     ],\n",
       "       ...,\n",
       "       [   0.     ,    0.     ,    0.     , ...,    0.     ,    0.     ,\n",
       "           0.     ],\n",
       "       [   0.     ,    0.     ,    0.     , ...,    0.     ,    0.     ,\n",
       "           0.     ],\n",
       "       [   0.     ,    0.     ,    0.     , ...,    0.     ,    0.     ,\n",
       "           0.     ]])"
      ]
     },
     "execution_count": 28,
     "metadata": {},
     "output_type": "execute_result"
    }
   ],
   "source": [
    "for j in range(0,len(disease)):\n",
    "    for i in range(0,len(disease)):\n",
    "        # print(i,j)\n",
    "        LD_New[:,j] += CD[i][j]*LD[:,j]\n",
    "LD_New "
   ]
  },
  {
   "cell_type": "code",
   "execution_count": 29,
   "metadata": {},
   "outputs": [],
   "source": [
    "for j in range(0,len(lncRNA)):\n",
    "    for i in range(0,len(lncRNA)):\n",
    "        # print(i,j)\n",
    "        LD_New[j,:] += CL[i][j]*LD[j,:]"
   ]
  },
  {
   "cell_type": "code",
   "execution_count": 31,
   "metadata": {},
   "outputs": [
    {
     "data": {
      "text/plain": [
       "array([[37414.4238 , 44922.52974, 44904.64602, ...,     0.     ,\n",
       "            0.     ,     0.     ],\n",
       "       [22044.7497 , 36762.26715, 36747.36405, ...,     0.     ,\n",
       "            0.     ,     0.     ],\n",
       "       [47579.63427, 61211.64726, 47588.19464, ...,     0.     ,\n",
       "            0.     ,     0.     ],\n",
       "       ...,\n",
       "       [    0.     ,     0.     ,     0.     , ...,     0.     ,\n",
       "            0.     ,     0.     ],\n",
       "       [    0.     ,     0.     ,     0.     , ...,     0.     ,\n",
       "            0.     ,     0.     ],\n",
       "       [    0.     ,     0.     ,     0.     , ...,     0.     ,\n",
       "            0.     ,     0.     ]])"
      ]
     },
     "execution_count": 31,
     "metadata": {},
     "output_type": "execute_result"
    }
   ],
   "source": [
    "LD_New"
   ]
  }
 ],
 "metadata": {
  "kernelspec": {
   "display_name": "Python 3",
   "language": "python",
   "name": "python3"
  },
  "language_info": {
   "codemirror_mode": {
    "name": "ipython",
    "version": 3
   },
   "file_extension": ".py",
   "mimetype": "text/x-python",
   "name": "python",
   "nbconvert_exporter": "python",
   "pygments_lexer": "ipython3",
   "version": "3.11.4"
  }
 },
 "nbformat": 4,
 "nbformat_minor": 2
}
